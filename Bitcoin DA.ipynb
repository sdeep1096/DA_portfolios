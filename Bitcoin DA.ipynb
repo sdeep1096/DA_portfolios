{
 "cells": [
  {
   "cell_type": "code",
   "execution_count": 1,
   "id": "bad931cb",
   "metadata": {},
   "outputs": [],
   "source": [
    "import pandas as pd\n",
    "import numpy as np\n",
    "import matplotlib.pyplot as plt\n",
    "import seaborn as sns"
   ]
  },
  {
   "cell_type": "code",
   "execution_count": 2,
   "id": "cd0b541d",
   "metadata": {},
   "outputs": [
    {
     "data": {
      "text/html": [
       "<div>\n",
       "<style scoped>\n",
       "    .dataframe tbody tr th:only-of-type {\n",
       "        vertical-align: middle;\n",
       "    }\n",
       "\n",
       "    .dataframe tbody tr th {\n",
       "        vertical-align: top;\n",
       "    }\n",
       "\n",
       "    .dataframe thead th {\n",
       "        text-align: right;\n",
       "    }\n",
       "</style>\n",
       "<table border=\"1\" class=\"dataframe\">\n",
       "  <thead>\n",
       "    <tr style=\"text-align: right;\">\n",
       "      <th></th>\n",
       "      <th>Date</th>\n",
       "      <th>Open</th>\n",
       "      <th>High</th>\n",
       "      <th>Low</th>\n",
       "      <th>Close</th>\n",
       "      <th>Volume</th>\n",
       "      <th>Market Cap</th>\n",
       "    </tr>\n",
       "  </thead>\n",
       "  <tbody>\n",
       "    <tr>\n",
       "      <th>0</th>\n",
       "      <td>Jul 31, 2017</td>\n",
       "      <td>2763.24</td>\n",
       "      <td>2889.62</td>\n",
       "      <td>2720.61</td>\n",
       "      <td>2875.34</td>\n",
       "      <td>860,575,000</td>\n",
       "      <td>45,535,800,000</td>\n",
       "    </tr>\n",
       "    <tr>\n",
       "      <th>1</th>\n",
       "      <td>Jul 30, 2017</td>\n",
       "      <td>2724.39</td>\n",
       "      <td>2758.53</td>\n",
       "      <td>2644.85</td>\n",
       "      <td>2757.18</td>\n",
       "      <td>705,943,000</td>\n",
       "      <td>44,890,700,000</td>\n",
       "    </tr>\n",
       "    <tr>\n",
       "      <th>2</th>\n",
       "      <td>Jul 29, 2017</td>\n",
       "      <td>2807.02</td>\n",
       "      <td>2808.76</td>\n",
       "      <td>2692.80</td>\n",
       "      <td>2726.45</td>\n",
       "      <td>803,746,000</td>\n",
       "      <td>46,246,700,000</td>\n",
       "    </tr>\n",
       "    <tr>\n",
       "      <th>3</th>\n",
       "      <td>Jul 28, 2017</td>\n",
       "      <td>2679.73</td>\n",
       "      <td>2897.45</td>\n",
       "      <td>2679.73</td>\n",
       "      <td>2809.01</td>\n",
       "      <td>1,380,100,000</td>\n",
       "      <td>44,144,400,000</td>\n",
       "    </tr>\n",
       "    <tr>\n",
       "      <th>4</th>\n",
       "      <td>Jul 27, 2017</td>\n",
       "      <td>2538.71</td>\n",
       "      <td>2693.32</td>\n",
       "      <td>2529.34</td>\n",
       "      <td>2671.78</td>\n",
       "      <td>789,104,000</td>\n",
       "      <td>41,816,500,000</td>\n",
       "    </tr>\n",
       "  </tbody>\n",
       "</table>\n",
       "</div>"
      ],
      "text/plain": [
       "           Date     Open     High      Low    Close         Volume  \\\n",
       "0  Jul 31, 2017  2763.24  2889.62  2720.61  2875.34    860,575,000   \n",
       "1  Jul 30, 2017  2724.39  2758.53  2644.85  2757.18    705,943,000   \n",
       "2  Jul 29, 2017  2807.02  2808.76  2692.80  2726.45    803,746,000   \n",
       "3  Jul 28, 2017  2679.73  2897.45  2679.73  2809.01  1,380,100,000   \n",
       "4  Jul 27, 2017  2538.71  2693.32  2529.34  2671.78    789,104,000   \n",
       "\n",
       "       Market Cap  \n",
       "0  45,535,800,000  \n",
       "1  44,890,700,000  \n",
       "2  46,246,700,000  \n",
       "3  44,144,400,000  \n",
       "4  41,816,500,000  "
      ]
     },
     "execution_count": 2,
     "metadata": {},
     "output_type": "execute_result"
    }
   ],
   "source": [
    "raw_data=pd.read_csv('C:/Users/getsd/Desktop/DA- Portfolios/Bitcoin/bitcoin_price_Training - Training.csv')\n",
    "raw_data.head()"
   ]
  },
  {
   "cell_type": "code",
   "execution_count": 3,
   "id": "35672f4d",
   "metadata": {},
   "outputs": [
    {
     "data": {
      "text/plain": [
       "(1556, 7)"
      ]
     },
     "execution_count": 3,
     "metadata": {},
     "output_type": "execute_result"
    }
   ],
   "source": [
    "#check for no of rows and columns\n",
    "raw_data.shape"
   ]
  },
  {
   "cell_type": "code",
   "execution_count": 4,
   "id": "d7a36b94",
   "metadata": {},
   "outputs": [
    {
     "data": {
      "text/plain": [
       "Date           object\n",
       "Open          float64\n",
       "High          float64\n",
       "Low           float64\n",
       "Close         float64\n",
       "Volume         object\n",
       "Market Cap     object\n",
       "dtype: object"
      ]
     },
     "execution_count": 4,
     "metadata": {},
     "output_type": "execute_result"
    }
   ],
   "source": [
    "#check for data types\n",
    "raw_data.dtypes"
   ]
  },
  {
   "cell_type": "code",
   "execution_count": 5,
   "id": "087e3389",
   "metadata": {},
   "outputs": [
    {
     "name": "stdout",
     "output_type": "stream",
     "text": [
      "<class 'pandas.core.frame.DataFrame'>\n",
      "RangeIndex: 1556 entries, 0 to 1555\n",
      "Data columns (total 7 columns):\n",
      " #   Column      Non-Null Count  Dtype  \n",
      "---  ------      --------------  -----  \n",
      " 0   Date        1556 non-null   object \n",
      " 1   Open        1556 non-null   float64\n",
      " 2   High        1556 non-null   float64\n",
      " 3   Low         1556 non-null   float64\n",
      " 4   Close       1556 non-null   float64\n",
      " 5   Volume      1556 non-null   object \n",
      " 6   Market Cap  1556 non-null   object \n",
      "dtypes: float64(4), object(3)\n",
      "memory usage: 85.2+ KB\n"
     ]
    }
   ],
   "source": [
    "#check for basic information about the dataset\n",
    "raw_data.info()"
   ]
  },
  {
   "cell_type": "code",
   "execution_count": 6,
   "id": "e1004b40",
   "metadata": {},
   "outputs": [
    {
     "name": "stdout",
     "output_type": "stream",
     "text": [
      "<class 'pandas.core.frame.DataFrame'>\n",
      "RangeIndex: 1556 entries, 0 to 1555\n",
      "Data columns (total 7 columns):\n",
      " #   Column      Non-Null Count  Dtype         \n",
      "---  ------      --------------  -----         \n",
      " 0   Date        1556 non-null   datetime64[ns]\n",
      " 1   Open        1556 non-null   float64       \n",
      " 2   High        1556 non-null   float64       \n",
      " 3   Low         1556 non-null   float64       \n",
      " 4   Close       1556 non-null   float64       \n",
      " 5   Volume      1556 non-null   object        \n",
      " 6   Market Cap  1556 non-null   object        \n",
      "dtypes: datetime64[ns](1), float64(4), object(2)\n",
      "memory usage: 85.2+ KB\n"
     ]
    }
   ],
   "source": [
    "#changing Date column to datetime data type for better analysis\n",
    "df=raw_data.copy()\n",
    "df['Date']=pd.to_datetime(df['Date'])\n",
    "df.info()"
   ]
  },
  {
   "cell_type": "code",
   "execution_count": 7,
   "id": "7acf4b5e",
   "metadata": {},
   "outputs": [
    {
     "data": {
      "text/html": [
       "<div>\n",
       "<style scoped>\n",
       "    .dataframe tbody tr th:only-of-type {\n",
       "        vertical-align: middle;\n",
       "    }\n",
       "\n",
       "    .dataframe tbody tr th {\n",
       "        vertical-align: top;\n",
       "    }\n",
       "\n",
       "    .dataframe thead th {\n",
       "        text-align: right;\n",
       "    }\n",
       "</style>\n",
       "<table border=\"1\" class=\"dataframe\">\n",
       "  <thead>\n",
       "    <tr style=\"text-align: right;\">\n",
       "      <th></th>\n",
       "      <th>Date</th>\n",
       "      <th>Open</th>\n",
       "      <th>High</th>\n",
       "      <th>Low</th>\n",
       "      <th>Close</th>\n",
       "      <th>Volume</th>\n",
       "      <th>Market Cap</th>\n",
       "    </tr>\n",
       "  </thead>\n",
       "  <tbody>\n",
       "    <tr>\n",
       "      <th>0</th>\n",
       "      <td>2017-07-31</td>\n",
       "      <td>2763.24</td>\n",
       "      <td>2889.62</td>\n",
       "      <td>2720.61</td>\n",
       "      <td>2875.34</td>\n",
       "      <td>860,575,000</td>\n",
       "      <td>45,535,800,000</td>\n",
       "    </tr>\n",
       "    <tr>\n",
       "      <th>1</th>\n",
       "      <td>2017-07-30</td>\n",
       "      <td>2724.39</td>\n",
       "      <td>2758.53</td>\n",
       "      <td>2644.85</td>\n",
       "      <td>2757.18</td>\n",
       "      <td>705,943,000</td>\n",
       "      <td>44,890,700,000</td>\n",
       "    </tr>\n",
       "    <tr>\n",
       "      <th>2</th>\n",
       "      <td>2017-07-29</td>\n",
       "      <td>2807.02</td>\n",
       "      <td>2808.76</td>\n",
       "      <td>2692.80</td>\n",
       "      <td>2726.45</td>\n",
       "      <td>803,746,000</td>\n",
       "      <td>46,246,700,000</td>\n",
       "    </tr>\n",
       "    <tr>\n",
       "      <th>3</th>\n",
       "      <td>2017-07-28</td>\n",
       "      <td>2679.73</td>\n",
       "      <td>2897.45</td>\n",
       "      <td>2679.73</td>\n",
       "      <td>2809.01</td>\n",
       "      <td>1,380,100,000</td>\n",
       "      <td>44,144,400,000</td>\n",
       "    </tr>\n",
       "    <tr>\n",
       "      <th>4</th>\n",
       "      <td>2017-07-27</td>\n",
       "      <td>2538.71</td>\n",
       "      <td>2693.32</td>\n",
       "      <td>2529.34</td>\n",
       "      <td>2671.78</td>\n",
       "      <td>789,104,000</td>\n",
       "      <td>41,816,500,000</td>\n",
       "    </tr>\n",
       "  </tbody>\n",
       "</table>\n",
       "</div>"
      ],
      "text/plain": [
       "        Date     Open     High      Low    Close         Volume  \\\n",
       "0 2017-07-31  2763.24  2889.62  2720.61  2875.34    860,575,000   \n",
       "1 2017-07-30  2724.39  2758.53  2644.85  2757.18    705,943,000   \n",
       "2 2017-07-29  2807.02  2808.76  2692.80  2726.45    803,746,000   \n",
       "3 2017-07-28  2679.73  2897.45  2679.73  2809.01  1,380,100,000   \n",
       "4 2017-07-27  2538.71  2693.32  2529.34  2671.78    789,104,000   \n",
       "\n",
       "       Market Cap  \n",
       "0  45,535,800,000  \n",
       "1  44,890,700,000  \n",
       "2  46,246,700,000  \n",
       "3  44,144,400,000  \n",
       "4  41,816,500,000  "
      ]
     },
     "execution_count": 7,
     "metadata": {},
     "output_type": "execute_result"
    }
   ],
   "source": [
    "#check for first 5 rows\n",
    "df.head()"
   ]
  },
  {
   "cell_type": "code",
   "execution_count": 8,
   "id": "c569c252",
   "metadata": {},
   "outputs": [
    {
     "data": {
      "text/plain": [
       "0"
      ]
     },
     "execution_count": 8,
     "metadata": {},
     "output_type": "execute_result"
    }
   ],
   "source": [
    "#we can see from the info function output that there is no null (na) data/missing data in our dataset\n",
    "#checking for duplicate rows\n",
    "df.duplicated().sum()"
   ]
  },
  {
   "cell_type": "code",
   "execution_count": 9,
   "id": "0b2097cf",
   "metadata": {},
   "outputs": [
    {
     "data": {
      "text/html": [
       "<div>\n",
       "<style scoped>\n",
       "    .dataframe tbody tr th:only-of-type {\n",
       "        vertical-align: middle;\n",
       "    }\n",
       "\n",
       "    .dataframe tbody tr th {\n",
       "        vertical-align: top;\n",
       "    }\n",
       "\n",
       "    .dataframe thead th {\n",
       "        text-align: right;\n",
       "    }\n",
       "</style>\n",
       "<table border=\"1\" class=\"dataframe\">\n",
       "  <thead>\n",
       "    <tr style=\"text-align: right;\">\n",
       "      <th></th>\n",
       "      <th>Open</th>\n",
       "      <th>High</th>\n",
       "      <th>Low</th>\n",
       "      <th>Close</th>\n",
       "    </tr>\n",
       "  </thead>\n",
       "  <tbody>\n",
       "    <tr>\n",
       "      <th>count</th>\n",
       "      <td>1556.000000</td>\n",
       "      <td>1556.000000</td>\n",
       "      <td>1556.000000</td>\n",
       "      <td>1556.000000</td>\n",
       "    </tr>\n",
       "    <tr>\n",
       "      <th>mean</th>\n",
       "      <td>582.625328</td>\n",
       "      <td>597.992847</td>\n",
       "      <td>567.851446</td>\n",
       "      <td>584.239396</td>\n",
       "    </tr>\n",
       "    <tr>\n",
       "      <th>std</th>\n",
       "      <td>523.137312</td>\n",
       "      <td>542.992855</td>\n",
       "      <td>505.877401</td>\n",
       "      <td>525.904442</td>\n",
       "    </tr>\n",
       "    <tr>\n",
       "      <th>min</th>\n",
       "      <td>68.500000</td>\n",
       "      <td>74.560000</td>\n",
       "      <td>65.530000</td>\n",
       "      <td>68.430000</td>\n",
       "    </tr>\n",
       "    <tr>\n",
       "      <th>25%</th>\n",
       "      <td>254.287500</td>\n",
       "      <td>260.327500</td>\n",
       "      <td>248.835000</td>\n",
       "      <td>254.320000</td>\n",
       "    </tr>\n",
       "    <tr>\n",
       "      <th>50%</th>\n",
       "      <td>438.600000</td>\n",
       "      <td>447.560000</td>\n",
       "      <td>430.570000</td>\n",
       "      <td>438.855000</td>\n",
       "    </tr>\n",
       "    <tr>\n",
       "      <th>75%</th>\n",
       "      <td>662.437500</td>\n",
       "      <td>674.525000</td>\n",
       "      <td>646.735000</td>\n",
       "      <td>663.402500</td>\n",
       "    </tr>\n",
       "    <tr>\n",
       "      <th>max</th>\n",
       "      <td>2953.220000</td>\n",
       "      <td>2999.910000</td>\n",
       "      <td>2840.530000</td>\n",
       "      <td>2958.110000</td>\n",
       "    </tr>\n",
       "  </tbody>\n",
       "</table>\n",
       "</div>"
      ],
      "text/plain": [
       "              Open         High          Low        Close\n",
       "count  1556.000000  1556.000000  1556.000000  1556.000000\n",
       "mean    582.625328   597.992847   567.851446   584.239396\n",
       "std     523.137312   542.992855   505.877401   525.904442\n",
       "min      68.500000    74.560000    65.530000    68.430000\n",
       "25%     254.287500   260.327500   248.835000   254.320000\n",
       "50%     438.600000   447.560000   430.570000   438.855000\n",
       "75%     662.437500   674.525000   646.735000   663.402500\n",
       "max    2953.220000  2999.910000  2840.530000  2958.110000"
      ]
     },
     "execution_count": 9,
     "metadata": {},
     "output_type": "execute_result"
    }
   ],
   "source": [
    "#descriptive analysis for the dataset\n",
    "df.describe()"
   ]
  },
  {
   "cell_type": "code",
   "execution_count": 10,
   "id": "b28a9db4",
   "metadata": {},
   "outputs": [
    {
     "data": {
      "text/html": [
       "<div>\n",
       "<style scoped>\n",
       "    .dataframe tbody tr th:only-of-type {\n",
       "        vertical-align: middle;\n",
       "    }\n",
       "\n",
       "    .dataframe tbody tr th {\n",
       "        vertical-align: top;\n",
       "    }\n",
       "\n",
       "    .dataframe thead th {\n",
       "        text-align: right;\n",
       "    }\n",
       "</style>\n",
       "<table border=\"1\" class=\"dataframe\">\n",
       "  <thead>\n",
       "    <tr style=\"text-align: right;\">\n",
       "      <th></th>\n",
       "      <th>Date</th>\n",
       "      <th>Open</th>\n",
       "      <th>High</th>\n",
       "      <th>Low</th>\n",
       "      <th>Close</th>\n",
       "      <th>Volume</th>\n",
       "      <th>Market Cap</th>\n",
       "      <th>Day_Name</th>\n",
       "      <th>Month</th>\n",
       "      <th>Year</th>\n",
       "    </tr>\n",
       "  </thead>\n",
       "  <tbody>\n",
       "    <tr>\n",
       "      <th>0</th>\n",
       "      <td>2017-07-31</td>\n",
       "      <td>2763.24</td>\n",
       "      <td>2889.62</td>\n",
       "      <td>2720.61</td>\n",
       "      <td>2875.34</td>\n",
       "      <td>860,575,000</td>\n",
       "      <td>45,535,800,000</td>\n",
       "      <td>Monday</td>\n",
       "      <td>July</td>\n",
       "      <td>2017</td>\n",
       "    </tr>\n",
       "    <tr>\n",
       "      <th>1</th>\n",
       "      <td>2017-07-30</td>\n",
       "      <td>2724.39</td>\n",
       "      <td>2758.53</td>\n",
       "      <td>2644.85</td>\n",
       "      <td>2757.18</td>\n",
       "      <td>705,943,000</td>\n",
       "      <td>44,890,700,000</td>\n",
       "      <td>Sunday</td>\n",
       "      <td>July</td>\n",
       "      <td>2017</td>\n",
       "    </tr>\n",
       "    <tr>\n",
       "      <th>2</th>\n",
       "      <td>2017-07-29</td>\n",
       "      <td>2807.02</td>\n",
       "      <td>2808.76</td>\n",
       "      <td>2692.80</td>\n",
       "      <td>2726.45</td>\n",
       "      <td>803,746,000</td>\n",
       "      <td>46,246,700,000</td>\n",
       "      <td>Saturday</td>\n",
       "      <td>July</td>\n",
       "      <td>2017</td>\n",
       "    </tr>\n",
       "    <tr>\n",
       "      <th>3</th>\n",
       "      <td>2017-07-28</td>\n",
       "      <td>2679.73</td>\n",
       "      <td>2897.45</td>\n",
       "      <td>2679.73</td>\n",
       "      <td>2809.01</td>\n",
       "      <td>1,380,100,000</td>\n",
       "      <td>44,144,400,000</td>\n",
       "      <td>Friday</td>\n",
       "      <td>July</td>\n",
       "      <td>2017</td>\n",
       "    </tr>\n",
       "    <tr>\n",
       "      <th>4</th>\n",
       "      <td>2017-07-27</td>\n",
       "      <td>2538.71</td>\n",
       "      <td>2693.32</td>\n",
       "      <td>2529.34</td>\n",
       "      <td>2671.78</td>\n",
       "      <td>789,104,000</td>\n",
       "      <td>41,816,500,000</td>\n",
       "      <td>Thursday</td>\n",
       "      <td>July</td>\n",
       "      <td>2017</td>\n",
       "    </tr>\n",
       "  </tbody>\n",
       "</table>\n",
       "</div>"
      ],
      "text/plain": [
       "        Date     Open     High      Low    Close         Volume  \\\n",
       "0 2017-07-31  2763.24  2889.62  2720.61  2875.34    860,575,000   \n",
       "1 2017-07-30  2724.39  2758.53  2644.85  2757.18    705,943,000   \n",
       "2 2017-07-29  2807.02  2808.76  2692.80  2726.45    803,746,000   \n",
       "3 2017-07-28  2679.73  2897.45  2679.73  2809.01  1,380,100,000   \n",
       "4 2017-07-27  2538.71  2693.32  2529.34  2671.78    789,104,000   \n",
       "\n",
       "       Market Cap  Day_Name Month  Year  \n",
       "0  45,535,800,000    Monday  July  2017  \n",
       "1  44,890,700,000    Sunday  July  2017  \n",
       "2  46,246,700,000  Saturday  July  2017  \n",
       "3  44,144,400,000    Friday  July  2017  \n",
       "4  41,816,500,000  Thursday  July  2017  "
      ]
     },
     "execution_count": 10,
     "metadata": {},
     "output_type": "execute_result"
    }
   ],
   "source": [
    "#feature engineering the Date column\n",
    "\n",
    "df['Day_Name']=df['Date'].dt.day_name()\n",
    "df['Month']=df['Date'].dt.month_name()\n",
    "df['Year']=df['Date'].dt.year\n",
    "df.head()"
   ]
  },
  {
   "cell_type": "code",
   "execution_count": 11,
   "id": "2375885e",
   "metadata": {},
   "outputs": [
    {
     "data": {
      "text/plain": [
       "Monday       223\n",
       "Sunday       223\n",
       "Saturday     222\n",
       "Friday       222\n",
       "Thursday     222\n",
       "Wednesday    222\n",
       "Tuesday      222\n",
       "Name: Day_Name, dtype: int64"
      ]
     },
     "execution_count": 11,
     "metadata": {},
     "output_type": "execute_result"
    }
   ],
   "source": [
    "df['Day_Name'].value_counts()"
   ]
  },
  {
   "cell_type": "code",
   "execution_count": 12,
   "id": "1a452f58",
   "metadata": {},
   "outputs": [
    {
     "data": {
      "text/plain": [
       "2016    366\n",
       "2015    365\n",
       "2014    365\n",
       "2013    248\n",
       "2017    212\n",
       "Name: Year, dtype: int64"
      ]
     },
     "execution_count": 12,
     "metadata": {},
     "output_type": "execute_result"
    }
   ],
   "source": [
    "df['Year'].value_counts()"
   ]
  },
  {
   "cell_type": "code",
   "execution_count": 13,
   "id": "c7f21338",
   "metadata": {},
   "outputs": [
    {
     "data": {
      "text/html": [
       "<div>\n",
       "<style scoped>\n",
       "    .dataframe tbody tr th:only-of-type {\n",
       "        vertical-align: middle;\n",
       "    }\n",
       "\n",
       "    .dataframe tbody tr th {\n",
       "        vertical-align: top;\n",
       "    }\n",
       "\n",
       "    .dataframe thead th {\n",
       "        text-align: right;\n",
       "    }\n",
       "</style>\n",
       "<table border=\"1\" class=\"dataframe\">\n",
       "  <thead>\n",
       "    <tr style=\"text-align: right;\">\n",
       "      <th></th>\n",
       "      <th>Date</th>\n",
       "      <th>Open</th>\n",
       "      <th>High</th>\n",
       "      <th>Low</th>\n",
       "      <th>Close</th>\n",
       "      <th>Volume</th>\n",
       "      <th>Market Cap</th>\n",
       "      <th>Day_Name</th>\n",
       "      <th>Month</th>\n",
       "      <th>Year</th>\n",
       "    </tr>\n",
       "  </thead>\n",
       "  <tbody>\n",
       "    <tr>\n",
       "      <th>0</th>\n",
       "      <td>2013-04-28</td>\n",
       "      <td>135.30</td>\n",
       "      <td>135.98</td>\n",
       "      <td>132.10</td>\n",
       "      <td>134.21</td>\n",
       "      <td>-</td>\n",
       "      <td>1,500,520,000</td>\n",
       "      <td>Sunday</td>\n",
       "      <td>April</td>\n",
       "      <td>2013</td>\n",
       "    </tr>\n",
       "    <tr>\n",
       "      <th>1</th>\n",
       "      <td>2013-04-29</td>\n",
       "      <td>134.44</td>\n",
       "      <td>147.49</td>\n",
       "      <td>134.00</td>\n",
       "      <td>144.54</td>\n",
       "      <td>-</td>\n",
       "      <td>1,491,160,000</td>\n",
       "      <td>Monday</td>\n",
       "      <td>April</td>\n",
       "      <td>2013</td>\n",
       "    </tr>\n",
       "    <tr>\n",
       "      <th>2</th>\n",
       "      <td>2013-04-30</td>\n",
       "      <td>144.00</td>\n",
       "      <td>146.93</td>\n",
       "      <td>134.05</td>\n",
       "      <td>139.00</td>\n",
       "      <td>-</td>\n",
       "      <td>1,597,780,000</td>\n",
       "      <td>Tuesday</td>\n",
       "      <td>April</td>\n",
       "      <td>2013</td>\n",
       "    </tr>\n",
       "    <tr>\n",
       "      <th>3</th>\n",
       "      <td>2013-05-01</td>\n",
       "      <td>139.00</td>\n",
       "      <td>139.89</td>\n",
       "      <td>107.72</td>\n",
       "      <td>116.99</td>\n",
       "      <td>-</td>\n",
       "      <td>1,542,820,000</td>\n",
       "      <td>Wednesday</td>\n",
       "      <td>May</td>\n",
       "      <td>2013</td>\n",
       "    </tr>\n",
       "    <tr>\n",
       "      <th>4</th>\n",
       "      <td>2013-05-02</td>\n",
       "      <td>116.38</td>\n",
       "      <td>125.60</td>\n",
       "      <td>92.28</td>\n",
       "      <td>105.21</td>\n",
       "      <td>-</td>\n",
       "      <td>1,292,190,000</td>\n",
       "      <td>Thursday</td>\n",
       "      <td>May</td>\n",
       "      <td>2013</td>\n",
       "    </tr>\n",
       "  </tbody>\n",
       "</table>\n",
       "</div>"
      ],
      "text/plain": [
       "        Date    Open    High     Low   Close Volume     Market Cap   Day_Name  \\\n",
       "0 2013-04-28  135.30  135.98  132.10  134.21      -  1,500,520,000     Sunday   \n",
       "1 2013-04-29  134.44  147.49  134.00  144.54      -  1,491,160,000     Monday   \n",
       "2 2013-04-30  144.00  146.93  134.05  139.00      -  1,597,780,000    Tuesday   \n",
       "3 2013-05-01  139.00  139.89  107.72  116.99      -  1,542,820,000  Wednesday   \n",
       "4 2013-05-02  116.38  125.60   92.28  105.21      -  1,292,190,000   Thursday   \n",
       "\n",
       "   Month  Year  \n",
       "0  April  2013  \n",
       "1  April  2013  \n",
       "2  April  2013  \n",
       "3    May  2013  \n",
       "4    May  2013  "
      ]
     },
     "execution_count": 13,
     "metadata": {},
     "output_type": "execute_result"
    }
   ],
   "source": [
    "#sort the dataset in ascending order of date\n",
    "\n",
    "data=df.sort_index(ascending=False).reset_index()\n",
    "data.drop('index', inplace=True, axis=1)\n",
    "data.head()"
   ]
  },
  {
   "cell_type": "code",
   "execution_count": 14,
   "id": "c34c5c2c",
   "metadata": {},
   "outputs": [
    {
     "data": {
      "text/plain": [
       "-              243\n",
       "65,203,800       1\n",
       "65,783,100       1\n",
       "50,582,500       1\n",
       "39,657,600       1\n",
       "              ... \n",
       "22,067,900       1\n",
       "17,825,900       1\n",
       "28,918,900       1\n",
       "41,302,400       1\n",
       "860,575,000      1\n",
       "Name: Volume, Length: 1314, dtype: int64"
      ]
     },
     "execution_count": 14,
     "metadata": {},
     "output_type": "execute_result"
    }
   ],
   "source": [
    "#check the volume column\n",
    "data['Volume'].value_counts()"
   ]
  },
  {
   "cell_type": "code",
   "execution_count": 15,
   "id": "c38aa171",
   "metadata": {},
   "outputs": [
    {
     "data": {
      "text/plain": [
       "Index(['Date', 'Open', 'High', 'Low', 'Close', 'Volume', 'Market Cap',\n",
       "       'Day_Name', 'Month', 'Year'],\n",
       "      dtype='object')"
      ]
     },
     "execution_count": 15,
     "metadata": {},
     "output_type": "execute_result"
    }
   ],
   "source": [
    "#plotting a graph for each of the 4 columns Open, high, low, close\n",
    "data.columns"
   ]
  },
  {
   "cell_type": "code",
   "execution_count": 16,
   "id": "ddad3e0e",
   "metadata": {},
   "outputs": [
    {
     "data": {
      "image/png": "[encoded data removed]",
      "text/plain": [
       "<Figure size 1440x1152 with 4 Axes>"
      ]
     },
     "metadata": {
      "needs_background": "light"
     },
     "output_type": "display_data"
    }
   ],
   "source": [
    "cols=['Open', 'High', 'Low', 'Close']\n",
    "plt.figure(figsize=(20,16))\n",
    "for index, col in enumerate(cols, 1):\n",
    "    plt.subplot(2,2,index)\n",
    "    plt.plot(data['Date'],data[col])\n",
    "    plt.title(col)"
   ]
  },
  {
   "cell_type": "code",
   "execution_count": 17,
   "id": "3d7aef7a",
   "metadata": {},
   "outputs": [
    {
     "data": {
      "text/plain": [
       "(50, 10)"
      ]
     },
     "execution_count": 17,
     "metadata": {},
     "output_type": "execute_result"
    }
   ],
   "source": [
    "#candle chart using plotly\n",
    "\n",
    "bitcoin_sample=data[0:50]\n",
    "bitcoin_sample.shape"
   ]
  },
  {
   "cell_type": "code",
   "execution_count": 18,
   "id": "dbe784ad",
   "metadata": {},
   "outputs": [],
   "source": [
    "#import relevant plotly packages\n",
    "\n",
    "import chart_studio.plotly as py\n",
    "import plotly.graph_objs as go\n",
    "import plotly.express as px\n",
    "from plotly.offline import download_plotlyjs,init_notebook_mode,plot,iplot"
   ]
  },
  {
   "cell_type": "code",
   "execution_count": 19,
   "id": "fc0a56d5",
   "metadata": {},
   "outputs": [
    {
     "data": {
      "text/html": [
       "        <script type=\"text/javascript\">\n",
       "        window.PlotlyConfig = {MathJaxConfig: 'local'};\n",
       "        if (window.MathJax) {MathJax.Hub.Config({SVG: {font: \"STIX-Web\"}});}\n",
       "        if (typeof require !== 'undefined') {\n",
       "        require.undef(\"plotly\");\n",
       "        requirejs.config({\n",
       "            paths: {\n",
       "                'plotly': ['https://cdn.plot.ly/plotly-2.9.0.min']\n",
       "            }\n",
       "        });\n",
       "        require(['plotly'], function(Plotly) {\n",
       "            window._Plotly = Plotly;\n",
       "        });\n",
       "        }\n",
       "        </script>\n",
       "        "
      ]
     },
     "metadata": {},
     "output_type": "display_data"
    }
   ],
   "source": [
    "init_notebook_mode(connected=True)"
   ]
  },
  {
   "cell_type": "code",
   "execution_count": 20,
   "id": "a4e38ad8",
   "metadata": {},
   "outputs": [],
   "source": [
    "trace=go.Candlestick(x=bitcoin_sample['Date'],\n",
    "                    low=bitcoin_sample['Low'],\n",
    "                    high=bitcoin_sample['High'],\n",
    "                    open=bitcoin_sample['Open'],\n",
    "                    close=bitcoin_sample['Close'])\n",
    "candle_data=[trace]\n",
    "layout={'title':'Bitcoin Historical Price',\n",
    "       'xaxis':{'title':'Date'}}"
   ]
  },
  {
   "cell_type": "code",
   "execution_count": 21,
   "id": "51bec01f",
   "metadata": {},
   "outputs": [
    {
     "data": {
      "application/vnd.plotly.v1+json": {
       "config": {
        "plotlyServerURL": "https://plot.ly"
       },
       "data": [
        {
         "close": [
          134.21,
          144.54,
          139,
          116.99,
          105.21,
          97.75,
          112.5,
          115.91,
          112.3,
          111.5,
          113.57,
          112.67,
          117.2,
          115.24,
          115,
          117.98,
          111.5,
          114.22,
          118.76,
          123.02,
          123.5,
          121.99,
          122,
          122.88,
          123.89,
          126.7,
          133.2,
          131.98,
          133.48,
          129.75,
          129,
          132.3,
          128.8,
          129,
          129.3,
          122.29,
          122.22,
          121.42,
          121.65,
          118,
          111.5,
          108.3,
          100,
          106.35,
          108.9,
          108.15,
          104,
          99.98,
          99.99,
          99.51
         ],
         "high": [
          135.98,
          147.49,
          146.93,
          139.89,
          125.6,
          108.13,
          115,
          118.8,
          124.66,
          113.44,
          115.78,
          113.46,
          122,
          118.68,
          117.45,
          118.7,
          119.8,
          115.81,
          118.76,
          125.3,
          125.25,
          124.5,
          123.62,
          123,
          124,
          126.93,
          133.85,
          133.22,
          136,
          135.47,
          130.58,
          132.59,
          132.25,
          129.9,
          129.78,
          129.4,
          122.5,
          123.84,
          123.47,
          123.1,
          119,
          111.42,
          108.99,
          110.1,
          109.6,
          111.79,
          110.3,
          104.7,
          103.7,
          101.6
         ],
         "low": [
          132.1,
          134,
          134.05,
          107.72,
          92.28,
          79.1,
          92.5,
          107.14,
          106.64,
          97.7,
          109.6,
          109.26,
          111.55,
          113.01,
          113.44,
          114.5,
          110.25,
          103.5,
          112.2,
          116.57,
          122.3,
          119.57,
          120.12,
          121.21,
          122,
          123.1,
          125.72,
          128.9,
          130.62,
          124.7,
          125.6,
          127.66,
          127,
          126.4,
          127.2,
          115.05,
          116,
          119.1,
          119.9,
          117.25,
          106.42,
          107.3,
          88.5,
          95,
          104,
          106.73,
          100.53,
          98,
          98,
          98.95
         ],
         "open": [
          135.3,
          134.44,
          144,
          139,
          116.38,
          106.25,
          98.1,
          112.9,
          115.98,
          112.25,
          109.6,
          113.2,
          112.8,
          117.7,
          115.64,
          114.82,
          117.98,
          111.4,
          114.22,
          118.21,
          123.5,
          123.21,
          122.5,
          122.02,
          122.89,
          123.8,
          126.3,
          133.1,
          131.99,
          133.5,
          129.77,
          129,
          132.25,
          128.8,
          128.81,
          129.3,
          122.5,
          120.74,
          121.4,
          121.9,
          118.97,
          111,
          107.89,
          100.44,
          106.35,
          109,
          108.78,
          103.95,
          100,
          99.8
         ],
         "type": "candlestick",
         "x": [
          "2013-04-28T00:00:00",
          "2013-04-29T00:00:00",
          "2013-04-30T00:00:00",
          "2013-05-01T00:00:00",
          "2013-05-02T00:00:00",
          "2013-05-03T00:00:00",
          "2013-05-04T00:00:00",
          "2013-05-05T00:00:00",
          "2013-05-06T00:00:00",
          "2013-05-07T00:00:00",
          "2013-05-08T00:00:00",
          "2013-05-09T00:00:00",
          "2013-05-10T00:00:00",
          "2013-05-11T00:00:00",
          "2013-05-12T00:00:00",
          "2013-05-13T00:00:00",
          "2013-05-14T00:00:00",
          "2013-05-15T00:00:00",
          "2013-05-16T00:00:00",
          "2013-05-17T00:00:00",
          "2013-05-18T00:00:00",
          "2013-05-19T00:00:00",
          "2013-05-20T00:00:00",
          "2013-05-21T00:00:00",
          "2013-05-22T00:00:00",
          "2013-05-23T00:00:00",
          "2013-05-24T00:00:00",
          "2013-05-25T00:00:00",
          "2013-05-26T00:00:00",
          "2013-05-27T00:00:00",
          "2013-05-28T00:00:00",
          "2013-05-29T00:00:00",
          "2013-05-30T00:00:00",
          "2013-05-31T00:00:00",
          "2013-06-01T00:00:00",
          "2013-06-02T00:00:00",
          "2013-06-03T00:00:00",
          "2013-06-04T00:00:00",
          "2013-06-05T00:00:00",
          "2013-06-06T00:00:00",
          "2013-06-07T00:00:00",
          "2013-06-08T00:00:00",
          "2013-06-09T00:00:00",
          "2013-06-10T00:00:00",
          "2013-06-11T00:00:00",
          "2013-06-12T00:00:00",
          "2013-06-13T00:00:00",
          "2013-06-14T00:00:00",
          "2013-06-15T00:00:00",
          "2013-06-16T00:00:00"
         ]
        }
       ],
       "layout": {
        "template": {
         "data": {
          "bar": [
           {
            "error_x": {
             "color": "#2a3f5f"
            },
            "error_y": {
             "color": "#2a3f5f"
            },
            "marker": {
             "line": {
              "color": "#E5ECF6",
              "width": 0.5
             },
             "pattern": {
              "fillmode": "overlay",
              "size": 10,
              "solidity": 0.2
             }
            },
            "type": "bar"
           }
          ],
          "barpolar": [
           {
            "marker": {
             "line": {
              "color": "#E5ECF6",
              "width": 0.5
             },
             "pattern": {
              "fillmode": "overlay",
              "size": 10,
              "solidity": 0.2
             }
            },
            "type": "barpolar"
           }
          ],
          "carpet": [
           {
            "aaxis": {
             "endlinecolor": "#2a3f5f",
             "gridcolor": "white",
             "linecolor": "white",
             "minorgridcolor": "white",
             "startlinecolor": "#2a3f5f"
            },
            "baxis": {
             "endlinecolor": "#2a3f5f",
             "gridcolor": "white",
             "linecolor": "white",
             "minorgridcolor": "white",
             "startlinecolor": "#2a3f5f"
            },
            "type": "carpet"
           }
          ],
          "choropleth": [
           {
            "colorbar": {
             "outlinewidth": 0,
             "ticks": ""
            },
            "type": "choropleth"
           }
          ],
          "contour": [
           {
            "colorbar": {
             "outlinewidth": 0,
             "ticks": ""
            },
            "colorscale": [
             [
              0,
              "#0d0887"
             ],
             [
              0.1111111111111111,
              "#46039f"
             ],
             [
              0.2222222222222222,
              "#7201a8"
             ],
             [
              0.3333333333333333,
              "#9c179e"
             ],
             [
              0.4444444444444444,
              "#bd3786"
             ],
             [
              0.5555555555555556,
              "#d8576b"
             ],
             [
              0.6666666666666666,
              "#ed7953"
             ],
             [
              0.7777777777777778,
              "#fb9f3a"
             ],
             [
              0.8888888888888888,
              "#fdca26"
             ],
             [
              1,
              "#f0f921"
             ]
            ],
            "type": "contour"
           }
          ],
          "contourcarpet": [
           {
            "colorbar": {
             "outlinewidth": 0,
             "ticks": ""
            },
            "type": "contourcarpet"
           }
          ],
          "heatmap": [
           {
            "colorbar": {
             "outlinewidth": 0,
             "ticks": ""
            },
            "colorscale": [
             [
              0,
              "#0d0887"
             ],
             [
              0.1111111111111111,
              "#46039f"
             ],
             [
              0.2222222222222222,
              "#7201a8"
             ],
             [
              0.3333333333333333,
              "#9c179e"
             ],
             [
              0.4444444444444444,
              "#bd3786"
             ],
             [
              0.5555555555555556,
              "#d8576b"
             ],
             [
              0.6666666666666666,
              "#ed7953"
             ],
             [
              0.7777777777777778,
              "#fb9f3a"
             ],
             [
              0.8888888888888888,
              "#fdca26"
             ],
             [
              1,
              "#f0f921"
             ]
            ],
            "type": "heatmap"
           }
          ],
          "heatmapgl": [
           {
            "colorbar": {
             "outlinewidth": 0,
             "ticks": ""
            },
            "colorscale": [
             [
              0,
              "#0d0887"
             ],
             [
              0.1111111111111111,
              "#46039f"
             ],
             [
              0.2222222222222222,
              "#7201a8"
             ],
             [
              0.3333333333333333,
              "#9c179e"
             ],
             [
              0.4444444444444444,
              "#bd3786"
             ],
             [
              0.5555555555555556,
              "#d8576b"
             ],
             [
              0.6666666666666666,
              "#ed7953"
             ],
             [
              0.7777777777777778,
              "#fb9f3a"
             ],
             [
              0.8888888888888888,
              "#fdca26"
             ],
             [
              1,
              "#f0f921"
             ]
            ],
            "type": "heatmapgl"
           }
          ],
          "histogram": [
           {
            "marker": {
             "pattern": {
              "fillmode": "overlay",
              "size": 10,
              "solidity": 0.2
             }
            },
            "type": "histogram"
           }
          ],
          "histogram2d": [
           {
            "colorbar": {
             "outlinewidth": 0,
             "ticks": ""
            },
            "colorscale": [
             [
              0,
              "#0d0887"
             ],
             [
              0.1111111111111111,
              "#46039f"
             ],
             [
              0.2222222222222222,
              "#7201a8"
             ],
             [
              0.3333333333333333,
              "#9c179e"
             ],
             [
              0.4444444444444444,
              "#bd3786"
             ],
             [
              0.5555555555555556,
              "#d8576b"
             ],
             [
              0.6666666666666666,
              "#ed7953"
             ],
             [
              0.7777777777777778,
              "#fb9f3a"
             ],
             [
              0.8888888888888888,
              "#fdca26"
             ],
             [
              1,
              "#f0f921"
             ]
            ],
            "type": "histogram2d"
           }
          ],
          "histogram2dcontour": [
           {
            "colorbar": {
             "outlinewidth": 0,
             "ticks": ""
            },
            "colorscale": [
             [
              0,
              "#0d0887"
             ],
             [
              0.1111111111111111,
              "#46039f"
             ],
             [
              0.2222222222222222,
              "#7201a8"
             ],
             [
              0.3333333333333333,
              "#9c179e"
             ],
             [
              0.4444444444444444,
              "#bd3786"
             ],
             [
              0.5555555555555556,
              "#d8576b"
             ],
             [
              0.6666666666666666,
              "#ed7953"
             ],
             [
              0.7777777777777778,
              "#fb9f3a"
             ],
             [
              0.8888888888888888,
              "#fdca26"
             ],
             [
              1,
              "#f0f921"
             ]
            ],
            "type": "histogram2dcontour"
           }
          ],
          "mesh3d": [
           {
            "colorbar": {
             "outlinewidth": 0,
             "ticks": ""
            },
            "type": "mesh3d"
           }
          ],
          "parcoords": [
           {
            "line": {
             "colorbar": {
              "outlinewidth": 0,
              "ticks": ""
             }
            },
            "type": "parcoords"
           }
          ],
          "pie": [
           {
            "automargin": true,
            "type": "pie"
           }
          ],
          "scatter": [
           {
            "marker": {
             "colorbar": {
              "outlinewidth": 0,
              "ticks": ""
             }
            },
            "type": "scatter"
           }
          ],
          "scatter3d": [
           {
            "line": {
             "colorbar": {
              "outlinewidth": 0,
              "ticks": ""
             }
            },
            "marker": {
             "colorbar": {
              "outlinewidth": 0,
              "ticks": ""
             }
            },
            "type": "scatter3d"
           }
          ],
          "scattercarpet": [
           {
            "marker": {
             "colorbar": {
              "outlinewidth": 0,
              "ticks": ""
             }
            },
            "type": "scattercarpet"
           }
          ],
          "scattergeo": [
           {
            "marker": {
             "colorbar": {
              "outlinewidth": 0,
              "ticks": ""
             }
            },
            "type": "scattergeo"
           }
          ],
          "scattergl": [
           {
            "marker": {
             "colorbar": {
              "outlinewidth": 0,
              "ticks": ""
             }
            },
            "type": "scattergl"
           }
          ],
          "scattermapbox": [
           {
            "marker": {
             "colorbar": {
              "outlinewidth": 0,
              "ticks": ""
             }
            },
            "type": "scattermapbox"
           }
          ],
          "scatterpolar": [
           {
            "marker": {
             "colorbar": {
              "outlinewidth": 0,
              "ticks": ""
             }
            },
            "type": "scatterpolar"
           }
          ],
          "scatterpolargl": [
           {
            "marker": {
             "colorbar": {
              "outlinewidth": 0,
              "ticks": ""
             }
            },
            "type": "scatterpolargl"
           }
          ],
          "scatterternary": [
           {
            "marker": {
             "colorbar": {
              "outlinewidth": 0,
              "ticks": ""
             }
            },
            "type": "scatterternary"
           }
          ],
          "surface": [
           {
            "colorbar": {
             "outlinewidth": 0,
             "ticks": ""
            },
            "colorscale": [
             [
              0,
              "#0d0887"
             ],
             [
              0.1111111111111111,
              "#46039f"
             ],
             [
              0.2222222222222222,
              "#7201a8"
             ],
             [
              0.3333333333333333,
              "#9c179e"
             ],
             [
              0.4444444444444444,
              "#bd3786"
             ],
             [
              0.5555555555555556,
              "#d8576b"
             ],
             [
              0.6666666666666666,
              "#ed7953"
             ],
             [
              0.7777777777777778,
              "#fb9f3a"
             ],
             [
              0.8888888888888888,
              "#fdca26"
             ],
             [
              1,
              "#f0f921"
             ]
            ],
            "type": "surface"
           }
          ],
          "table": [
           {
            "cells": {
             "fill": {
              "color": "#EBF0F8"
             },
             "line": {
              "color": "white"
             }
            },
            "header": {
             "fill": {
              "color": "#C8D4E3"
             },
             "line": {
              "color": "white"
             }
            },
            "type": "table"
           }
          ]
         },
         "layout": {
          "annotationdefaults": {
           "arrowcolor": "#2a3f5f",
           "arrowhead": 0,
           "arrowwidth": 1
          },
          "autotypenumbers": "strict",
          "coloraxis": {
           "colorbar": {
            "outlinewidth": 0,
            "ticks": ""
           }
          },
          "colorscale": {
           "diverging": [
            [
             0,
             "#8e0152"
            ],
            [
             0.1,
             "#c51b7d"
            ],
            [
             0.2,
             "#de77ae"
            ],
            [
             0.3,
             "#f1b6da"
            ],
            [
             0.4,
             "#fde0ef"
            ],
            [
             0.5,
             "#f7f7f7"
            ],
            [
             0.6,
             "#e6f5d0"
            ],
            [
             0.7,
             "#b8e186"
            ],
            [
             0.8,
             "#7fbc41"
            ],
            [
             0.9,
             "#4d9221"
            ],
            [
             1,
             "#276419"
            ]
           ],
           "sequential": [
            [
             0,
             "#0d0887"
            ],
            [
             0.1111111111111111,
             "#46039f"
            ],
            [
             0.2222222222222222,
             "#7201a8"
            ],
            [
             0.3333333333333333,
             "#9c179e"
            ],
            [
             0.4444444444444444,
             "#bd3786"
            ],
            [
             0.5555555555555556,
             "#d8576b"
            ],
            [
             0.6666666666666666,
             "#ed7953"
            ],
            [
             0.7777777777777778,
             "#fb9f3a"
            ],
            [
             0.8888888888888888,
             "#fdca26"
            ],
            [
             1,
             "#f0f921"
            ]
           ],
           "sequentialminus": [
            [
             0,
             "#0d0887"
            ],
            [
             0.1111111111111111,
             "#46039f"
            ],
            [
             0.2222222222222222,
             "#7201a8"
            ],
            [
             0.3333333333333333,
             "#9c179e"
            ],
            [
             0.4444444444444444,
             "#bd3786"
            ],
            [
             0.5555555555555556,
             "#d8576b"
            ],
            [
             0.6666666666666666,
             "#ed7953"
            ],
            [
             0.7777777777777778,
             "#fb9f3a"
            ],
            [
             0.8888888888888888,
             "#fdca26"
            ],
            [
             1,
             "#f0f921"
            ]
           ]
          },
          "colorway": [
           "#636efa",
           "#EF553B",
           "#00cc96",
           "#ab63fa",
           "#FFA15A",
           "#19d3f3",
           "#FF6692",
           "#B6E880",
           "#FF97FF",
           "#FECB52"
          ],
          "font": {
           "color": "#2a3f5f"
          },
          "geo": {
           "bgcolor": "white",
           "lakecolor": "white",
           "landcolor": "#E5ECF6",
           "showlakes": true,
           "showland": true,
           "subunitcolor": "white"
          },
          "hoverlabel": {
           "align": "left"
          },
          "hovermode": "closest",
          "mapbox": {
           "style": "light"
          },
          "paper_bgcolor": "white",
          "plot_bgcolor": "#E5ECF6",
          "polar": {
           "angularaxis": {
            "gridcolor": "white",
            "linecolor": "white",
            "ticks": ""
           },
           "bgcolor": "#E5ECF6",
           "radialaxis": {
            "gridcolor": "white",
            "linecolor": "white",
            "ticks": ""
           }
          },
          "scene": {
           "xaxis": {
            "backgroundcolor": "#E5ECF6",
            "gridcolor": "white",
            "gridwidth": 2,
            "linecolor": "white",
            "showbackground": true,
            "ticks": "",
            "zerolinecolor": "white"
           },
           "yaxis": {
            "backgroundcolor": "#E5ECF6",
            "gridcolor": "white",
            "gridwidth": 2,
            "linecolor": "white",
            "showbackground": true,
            "ticks": "",
            "zerolinecolor": "white"
           },
           "zaxis": {
            "backgroundcolor": "#E5ECF6",
            "gridcolor": "white",
            "gridwidth": 2,
            "linecolor": "white",
            "showbackground": true,
            "ticks": "",
            "zerolinecolor": "white"
           }
          },
          "shapedefaults": {
           "line": {
            "color": "#2a3f5f"
           }
          },
          "ternary": {
           "aaxis": {
            "gridcolor": "white",
            "linecolor": "white",
            "ticks": ""
           },
           "baxis": {
            "gridcolor": "white",
            "linecolor": "white",
            "ticks": ""
           },
           "bgcolor": "#E5ECF6",
           "caxis": {
            "gridcolor": "white",
            "linecolor": "white",
            "ticks": ""
           }
          },
          "title": {
           "x": 0.05
          },
          "xaxis": {
           "automargin": true,
           "gridcolor": "white",
           "linecolor": "white",
           "ticks": "",
           "title": {
            "standoff": 15
           },
           "zerolinecolor": "white",
           "zerolinewidth": 2
          },
          "yaxis": {
           "automargin": true,
           "gridcolor": "white",
           "linecolor": "white",
           "ticks": "",
           "title": {
            "standoff": 15
           },
           "zerolinecolor": "white",
           "zerolinewidth": 2
          }
         }
        },
        "title": {
         "text": "Bitcoin Historical Price"
        },
        "xaxis": {
         "rangeslider": {
          "visible": false
         },
         "title": {
          "text": "Date"
         }
        }
       }
      },
      "text/html": [
       "<div>                            <div id=\"785ba230-3a5f-436f-a1f1-f2b007eed7a2\" class=\"plotly-graph-div\" style=\"height:525px; width:100%;\"></div>            <script type=\"text/javascript\">                require([\"plotly\"], function(Plotly) {                    window.PLOTLYENV=window.PLOTLYENV || {};                                    if (document.getElementById(\"785ba230-3a5f-436f-a1f1-f2b007eed7a2\")) {                    Plotly.newPlot(                        \"785ba230-3a5f-436f-a1f1-f2b007eed7a2\",                        [{\"close\":[134.21,144.54,139.0,116.99,105.21,97.75,112.5,115.91,112.3,111.5,113.57,112.67,117.2,115.24,115.0,117.98,111.5,114.22,118.76,123.02,123.5,121.99,122.0,122.88,123.89,126.7,133.2,131.98,133.48,129.75,129.0,132.3,128.8,129.0,129.3,122.29,122.22,121.42,121.65,118.0,111.5,108.3,100.0,106.35,108.9,108.15,104.0,99.98,99.99,99.51],\"high\":[135.98,147.49,146.93,139.89,125.6,108.13,115.0,118.8,124.66,113.44,115.78,113.46,122.0,118.68,117.45,118.7,119.8,115.81,118.76,125.3,125.25,124.5,123.62,123.0,124.0,126.93,133.85,133.22,136.0,135.47,130.58,132.59,132.25,129.9,129.78,129.4,122.5,123.84,123.47,123.1,119.0,111.42,108.99,110.1,109.6,111.79,110.3,104.7,103.7,101.6],\"low\":[132.1,134.0,134.05,107.72,92.28,79.1,92.5,107.14,106.64,97.7,109.6,109.26,111.55,113.01,113.44,114.5,110.25,103.5,112.2,116.57,122.3,119.57,120.12,121.21,122.0,123.1,125.72,128.9,130.62,124.7,125.6,127.66,127.0,126.4,127.2,115.05,116.0,119.1,119.9,117.25,106.42,107.3,88.5,95.0,104.0,106.73,100.53,98.0,98.0,98.95],\"open\":[135.3,134.44,144.0,139.0,116.38,106.25,98.1,112.9,115.98,112.25,109.6,113.2,112.8,117.7,115.64,114.82,117.98,111.4,114.22,118.21,123.5,123.21,122.5,122.02,122.89,123.8,126.3,133.1,131.99,133.5,129.77,129.0,132.25,128.8,128.81,129.3,122.5,120.74,121.4,121.9,118.97,111.0,107.89,100.44,106.35,109.0,108.78,103.95,100.0,99.8],\"x\":[\"2013-04-28T00:00:00\",\"2013-04-29T00:00:00\",\"2013-04-30T00:00:00\",\"2013-05-01T00:00:00\",\"2013-05-02T00:00:00\",\"2013-05-03T00:00:00\",\"2013-05-04T00:00:00\",\"2013-05-05T00:00:00\",\"2013-05-06T00:00:00\",\"2013-05-07T00:00:00\",\"2013-05-08T00:00:00\",\"2013-05-09T00:00:00\",\"2013-05-10T00:00:00\",\"2013-05-11T00:00:00\",\"2013-05-12T00:00:00\",\"2013-05-13T00:00:00\",\"2013-05-14T00:00:00\",\"2013-05-15T00:00:00\",\"2013-05-16T00:00:00\",\"2013-05-17T00:00:00\",\"2013-05-18T00:00:00\",\"2013-05-19T00:00:00\",\"2013-05-20T00:00:00\",\"2013-05-21T00:00:00\",\"2013-05-22T00:00:00\",\"2013-05-23T00:00:00\",\"2013-05-24T00:00:00\",\"2013-05-25T00:00:00\",\"2013-05-26T00:00:00\",\"2013-05-27T00:00:00\",\"2013-05-28T00:00:00\",\"2013-05-29T00:00:00\",\"2013-05-30T00:00:00\",\"2013-05-31T00:00:00\",\"2013-06-01T00:00:00\",\"2013-06-02T00:00:00\",\"2013-06-03T00:00:00\",\"2013-06-04T00:00:00\",\"2013-06-05T00:00:00\",\"2013-06-06T00:00:00\",\"2013-06-07T00:00:00\",\"2013-06-08T00:00:00\",\"2013-06-09T00:00:00\",\"2013-06-10T00:00:00\",\"2013-06-11T00:00:00\",\"2013-06-12T00:00:00\",\"2013-06-13T00:00:00\",\"2013-06-14T00:00:00\",\"2013-06-15T00:00:00\",\"2013-06-16T00:00:00\"],\"type\":\"candlestick\"}],                        {\"title\":{\"text\":\"Bitcoin Historical Price\"},\"xaxis\":{\"title\":{\"text\":\"Date\"},\"rangeslider\":{\"visible\":false}},\"template\":{\"data\":{\"bar\":[{\"error_x\":{\"color\":\"#2a3f5f\"},\"error_y\":{\"color\":\"#2a3f5f\"},\"marker\":{\"line\":{\"color\":\"#E5ECF6\",\"width\":0.5},\"pattern\":{\"fillmode\":\"overlay\",\"size\":10,\"solidity\":0.2}},\"type\":\"bar\"}],\"barpolar\":[{\"marker\":{\"line\":{\"color\":\"#E5ECF6\",\"width\":0.5},\"pattern\":{\"fillmode\":\"overlay\",\"size\":10,\"solidity\":0.2}},\"type\":\"barpolar\"}],\"carpet\":[{\"aaxis\":{\"endlinecolor\":\"#2a3f5f\",\"gridcolor\":\"white\",\"linecolor\":\"white\",\"minorgridcolor\":\"white\",\"startlinecolor\":\"#2a3f5f\"},\"baxis\":{\"endlinecolor\":\"#2a3f5f\",\"gridcolor\":\"white\",\"linecolor\":\"white\",\"minorgridcolor\":\"white\",\"startlinecolor\":\"#2a3f5f\"},\"type\":\"carpet\"}],\"choropleth\":[{\"colorbar\":{\"outlinewidth\":0,\"ticks\":\"\"},\"type\":\"choropleth\"}],\"contour\":[{\"colorbar\":{\"outlinewidth\":0,\"ticks\":\"\"},\"colorscale\":[[0.0,\"#0d0887\"],[0.1111111111111111,\"#46039f\"],[0.2222222222222222,\"#7201a8\"],[0.3333333333333333,\"#9c179e\"],[0.4444444444444444,\"#bd3786\"],[0.5555555555555556,\"#d8576b\"],[0.6666666666666666,\"#ed7953\"],[0.7777777777777778,\"#fb9f3a\"],[0.8888888888888888,\"#fdca26\"],[1.0,\"#f0f921\"]],\"type\":\"contour\"}],\"contourcarpet\":[{\"colorbar\":{\"outlinewidth\":0,\"ticks\":\"\"},\"type\":\"contourcarpet\"}],\"heatmap\":[{\"colorbar\":{\"outlinewidth\":0,\"ticks\":\"\"},\"colorscale\":[[0.0,\"#0d0887\"],[0.1111111111111111,\"#46039f\"],[0.2222222222222222,\"#7201a8\"],[0.3333333333333333,\"#9c179e\"],[0.4444444444444444,\"#bd3786\"],[0.5555555555555556,\"#d8576b\"],[0.6666666666666666,\"#ed7953\"],[0.7777777777777778,\"#fb9f3a\"],[0.8888888888888888,\"#fdca26\"],[1.0,\"#f0f921\"]],\"type\":\"heatmap\"}],\"heatmapgl\":[{\"colorbar\":{\"outlinewidth\":0,\"ticks\":\"\"},\"colorscale\":[[0.0,\"#0d0887\"],[0.1111111111111111,\"#46039f\"],[0.2222222222222222,\"#7201a8\"],[0.3333333333333333,\"#9c179e\"],[0.4444444444444444,\"#bd3786\"],[0.5555555555555556,\"#d8576b\"],[0.6666666666666666,\"#ed7953\"],[0.7777777777777778,\"#fb9f3a\"],[0.8888888888888888,\"#fdca26\"],[1.0,\"#f0f921\"]],\"type\":\"heatmapgl\"}],\"histogram\":[{\"marker\":{\"pattern\":{\"fillmode\":\"overlay\",\"size\":10,\"solidity\":0.2}},\"type\":\"histogram\"}],\"histogram2d\":[{\"colorbar\":{\"outlinewidth\":0,\"ticks\":\"\"},\"colorscale\":[[0.0,\"#0d0887\"],[0.1111111111111111,\"#46039f\"],[0.2222222222222222,\"#7201a8\"],[0.3333333333333333,\"#9c179e\"],[0.4444444444444444,\"#bd3786\"],[0.5555555555555556,\"#d8576b\"],[0.6666666666666666,\"#ed7953\"],[0.7777777777777778,\"#fb9f3a\"],[0.8888888888888888,\"#fdca26\"],[1.0,\"#f0f921\"]],\"type\":\"histogram2d\"}],\"histogram2dcontour\":[{\"colorbar\":{\"outlinewidth\":0,\"ticks\":\"\"},\"colorscale\":[[0.0,\"#0d0887\"],[0.1111111111111111,\"#46039f\"],[0.2222222222222222,\"#7201a8\"],[0.3333333333333333,\"#9c179e\"],[0.4444444444444444,\"#bd3786\"],[0.5555555555555556,\"#d8576b\"],[0.6666666666666666,\"#ed7953\"],[0.7777777777777778,\"#fb9f3a\"],[0.8888888888888888,\"#fdca26\"],[1.0,\"#f0f921\"]],\"type\":\"histogram2dcontour\"}],\"mesh3d\":[{\"colorbar\":{\"outlinewidth\":0,\"ticks\":\"\"},\"type\":\"mesh3d\"}],\"parcoords\":[{\"line\":{\"colorbar\":{\"outlinewidth\":0,\"ticks\":\"\"}},\"type\":\"parcoords\"}],\"pie\":[{\"automargin\":true,\"type\":\"pie\"}],\"scatter\":[{\"marker\":{\"colorbar\":{\"outlinewidth\":0,\"ticks\":\"\"}},\"type\":\"scatter\"}],\"scatter3d\":[{\"line\":{\"colorbar\":{\"outlinewidth\":0,\"ticks\":\"\"}},\"marker\":{\"colorbar\":{\"outlinewidth\":0,\"ticks\":\"\"}},\"type\":\"scatter3d\"}],\"scattercarpet\":[{\"marker\":{\"colorbar\":{\"outlinewidth\":0,\"ticks\":\"\"}},\"type\":\"scattercarpet\"}],\"scattergeo\":[{\"marker\":{\"colorbar\":{\"outlinewidth\":0,\"ticks\":\"\"}},\"type\":\"scattergeo\"}],\"scattergl\":[{\"marker\":{\"colorbar\":{\"outlinewidth\":0,\"ticks\":\"\"}},\"type\":\"scattergl\"}],\"scattermapbox\":[{\"marker\":{\"colorbar\":{\"outlinewidth\":0,\"ticks\":\"\"}},\"type\":\"scattermapbox\"}],\"scatterpolar\":[{\"marker\":{\"colorbar\":{\"outlinewidth\":0,\"ticks\":\"\"}},\"type\":\"scatterpolar\"}],\"scatterpolargl\":[{\"marker\":{\"colorbar\":{\"outlinewidth\":0,\"ticks\":\"\"}},\"type\":\"scatterpolargl\"}],\"scatterternary\":[{\"marker\":{\"colorbar\":{\"outlinewidth\":0,\"ticks\":\"\"}},\"type\":\"scatterternary\"}],\"surface\":[{\"colorbar\":{\"outlinewidth\":0,\"ticks\":\"\"},\"colorscale\":[[0.0,\"#0d0887\"],[0.1111111111111111,\"#46039f\"],[0.2222222222222222,\"#7201a8\"],[0.3333333333333333,\"#9c179e\"],[0.4444444444444444,\"#bd3786\"],[0.5555555555555556,\"#d8576b\"],[0.6666666666666666,\"#ed7953\"],[0.7777777777777778,\"#fb9f3a\"],[0.8888888888888888,\"#fdca26\"],[1.0,\"#f0f921\"]],\"type\":\"surface\"}],\"table\":[{\"cells\":{\"fill\":{\"color\":\"#EBF0F8\"},\"line\":{\"color\":\"white\"}},\"header\":{\"fill\":{\"color\":\"#C8D4E3\"},\"line\":{\"color\":\"white\"}},\"type\":\"table\"}]},\"layout\":{\"annotationdefaults\":{\"arrowcolor\":\"#2a3f5f\",\"arrowhead\":0,\"arrowwidth\":1},\"autotypenumbers\":\"strict\",\"coloraxis\":{\"colorbar\":{\"outlinewidth\":0,\"ticks\":\"\"}},\"colorscale\":{\"diverging\":[[0,\"#8e0152\"],[0.1,\"#c51b7d\"],[0.2,\"#de77ae\"],[0.3,\"#f1b6da\"],[0.4,\"#fde0ef\"],[0.5,\"#f7f7f7\"],[0.6,\"#e6f5d0\"],[0.7,\"#b8e186\"],[0.8,\"#7fbc41\"],[0.9,\"#4d9221\"],[1,\"#276419\"]],\"sequential\":[[0.0,\"#0d0887\"],[0.1111111111111111,\"#46039f\"],[0.2222222222222222,\"#7201a8\"],[0.3333333333333333,\"#9c179e\"],[0.4444444444444444,\"#bd3786\"],[0.5555555555555556,\"#d8576b\"],[0.6666666666666666,\"#ed7953\"],[0.7777777777777778,\"#fb9f3a\"],[0.8888888888888888,\"#fdca26\"],[1.0,\"#f0f921\"]],\"sequentialminus\":[[0.0,\"#0d0887\"],[0.1111111111111111,\"#46039f\"],[0.2222222222222222,\"#7201a8\"],[0.3333333333333333,\"#9c179e\"],[0.4444444444444444,\"#bd3786\"],[0.5555555555555556,\"#d8576b\"],[0.6666666666666666,\"#ed7953\"],[0.7777777777777778,\"#fb9f3a\"],[0.8888888888888888,\"#fdca26\"],[1.0,\"#f0f921\"]]},\"colorway\":[\"#636efa\",\"#EF553B\",\"#00cc96\",\"#ab63fa\",\"#FFA15A\",\"#19d3f3\",\"#FF6692\",\"#B6E880\",\"#FF97FF\",\"#FECB52\"],\"font\":{\"color\":\"#2a3f5f\"},\"geo\":{\"bgcolor\":\"white\",\"lakecolor\":\"white\",\"landcolor\":\"#E5ECF6\",\"showlakes\":true,\"showland\":true,\"subunitcolor\":\"white\"},\"hoverlabel\":{\"align\":\"left\"},\"hovermode\":\"closest\",\"mapbox\":{\"style\":\"light\"},\"paper_bgcolor\":\"white\",\"plot_bgcolor\":\"#E5ECF6\",\"polar\":{\"angularaxis\":{\"gridcolor\":\"white\",\"linecolor\":\"white\",\"ticks\":\"\"},\"bgcolor\":\"#E5ECF6\",\"radialaxis\":{\"gridcolor\":\"white\",\"linecolor\":\"white\",\"ticks\":\"\"}},\"scene\":{\"xaxis\":{\"backgroundcolor\":\"#E5ECF6\",\"gridcolor\":\"white\",\"gridwidth\":2,\"linecolor\":\"white\",\"showbackground\":true,\"ticks\":\"\",\"zerolinecolor\":\"white\"},\"yaxis\":{\"backgroundcolor\":\"#E5ECF6\",\"gridcolor\":\"white\",\"gridwidth\":2,\"linecolor\":\"white\",\"showbackground\":true,\"ticks\":\"\",\"zerolinecolor\":\"white\"},\"zaxis\":{\"backgroundcolor\":\"#E5ECF6\",\"gridcolor\":\"white\",\"gridwidth\":2,\"linecolor\":\"white\",\"showbackground\":true,\"ticks\":\"\",\"zerolinecolor\":\"white\"}},\"shapedefaults\":{\"line\":{\"color\":\"#2a3f5f\"}},\"ternary\":{\"aaxis\":{\"gridcolor\":\"white\",\"linecolor\":\"white\",\"ticks\":\"\"},\"baxis\":{\"gridcolor\":\"white\",\"linecolor\":\"white\",\"ticks\":\"\"},\"bgcolor\":\"#E5ECF6\",\"caxis\":{\"gridcolor\":\"white\",\"linecolor\":\"white\",\"ticks\":\"\"}},\"title\":{\"x\":0.05},\"xaxis\":{\"automargin\":true,\"gridcolor\":\"white\",\"linecolor\":\"white\",\"ticks\":\"\",\"title\":{\"standoff\":15},\"zerolinecolor\":\"white\",\"zerolinewidth\":2},\"yaxis\":{\"automargin\":true,\"gridcolor\":\"white\",\"linecolor\":\"white\",\"ticks\":\"\",\"title\":{\"standoff\":15},\"zerolinecolor\":\"white\",\"zerolinewidth\":2}}}},                        {\"responsive\": true}                    ).then(function(){\n",
       "                            \n",
       "var gd = document.getElementById('785ba230-3a5f-436f-a1f1-f2b007eed7a2');\n",
       "var x = new MutationObserver(function (mutations, observer) {{\n",
       "        var display = window.getComputedStyle(gd).display;\n",
       "        if (!display || display === 'none') {{\n",
       "            console.log([gd, 'removed!']);\n",
       "            Plotly.purge(gd);\n",
       "            observer.disconnect();\n",
       "        }}\n",
       "}});\n",
       "\n",
       "// Listen for the removal of the full notebook cells\n",
       "var notebookContainer = gd.closest('#notebook-container');\n",
       "if (notebookContainer) {{\n",
       "    x.observe(notebookContainer, {childList: true});\n",
       "}}\n",
       "\n",
       "// Listen for the clearing of the current output cell\n",
       "var outputEl = gd.closest('.output');\n",
       "if (outputEl) {{\n",
       "    x.observe(outputEl, {childList: true});\n",
       "}}\n",
       "\n",
       "                        })                };                });            </script>        </div>"
      ]
     },
     "metadata": {},
     "output_type": "display_data"
    }
   ],
   "source": [
    "fig=go.Figure(data=candle_data, layout=layout)\n",
    "fig.update_layout(xaxis_rangeslider_visible=False)\n",
    "fig.show()"
   ]
  },
  {
   "cell_type": "code",
   "execution_count": 22,
   "id": "2d851c1e",
   "metadata": {},
   "outputs": [
    {
     "data": {
      "text/html": [
       "<div>\n",
       "<style scoped>\n",
       "    .dataframe tbody tr th:only-of-type {\n",
       "        vertical-align: middle;\n",
       "    }\n",
       "\n",
       "    .dataframe tbody tr th {\n",
       "        vertical-align: top;\n",
       "    }\n",
       "\n",
       "    .dataframe thead th {\n",
       "        text-align: right;\n",
       "    }\n",
       "</style>\n",
       "<table border=\"1\" class=\"dataframe\">\n",
       "  <thead>\n",
       "    <tr style=\"text-align: right;\">\n",
       "      <th></th>\n",
       "      <th>Open</th>\n",
       "      <th>High</th>\n",
       "      <th>Low</th>\n",
       "      <th>Close</th>\n",
       "      <th>Volume</th>\n",
       "      <th>Market Cap</th>\n",
       "      <th>Day_Name</th>\n",
       "      <th>Month</th>\n",
       "      <th>Year</th>\n",
       "    </tr>\n",
       "    <tr>\n",
       "      <th>Date</th>\n",
       "      <th></th>\n",
       "      <th></th>\n",
       "      <th></th>\n",
       "      <th></th>\n",
       "      <th></th>\n",
       "      <th></th>\n",
       "      <th></th>\n",
       "      <th></th>\n",
       "      <th></th>\n",
       "    </tr>\n",
       "  </thead>\n",
       "  <tbody>\n",
       "    <tr>\n",
       "      <th>2013-04-28</th>\n",
       "      <td>135.30</td>\n",
       "      <td>135.98</td>\n",
       "      <td>132.10</td>\n",
       "      <td>134.21</td>\n",
       "      <td>-</td>\n",
       "      <td>1,500,520,000</td>\n",
       "      <td>Sunday</td>\n",
       "      <td>April</td>\n",
       "      <td>2013</td>\n",
       "    </tr>\n",
       "    <tr>\n",
       "      <th>2013-04-29</th>\n",
       "      <td>134.44</td>\n",
       "      <td>147.49</td>\n",
       "      <td>134.00</td>\n",
       "      <td>144.54</td>\n",
       "      <td>-</td>\n",
       "      <td>1,491,160,000</td>\n",
       "      <td>Monday</td>\n",
       "      <td>April</td>\n",
       "      <td>2013</td>\n",
       "    </tr>\n",
       "    <tr>\n",
       "      <th>2013-04-30</th>\n",
       "      <td>144.00</td>\n",
       "      <td>146.93</td>\n",
       "      <td>134.05</td>\n",
       "      <td>139.00</td>\n",
       "      <td>-</td>\n",
       "      <td>1,597,780,000</td>\n",
       "      <td>Tuesday</td>\n",
       "      <td>April</td>\n",
       "      <td>2013</td>\n",
       "    </tr>\n",
       "    <tr>\n",
       "      <th>2013-05-01</th>\n",
       "      <td>139.00</td>\n",
       "      <td>139.89</td>\n",
       "      <td>107.72</td>\n",
       "      <td>116.99</td>\n",
       "      <td>-</td>\n",
       "      <td>1,542,820,000</td>\n",
       "      <td>Wednesday</td>\n",
       "      <td>May</td>\n",
       "      <td>2013</td>\n",
       "    </tr>\n",
       "    <tr>\n",
       "      <th>2013-05-02</th>\n",
       "      <td>116.38</td>\n",
       "      <td>125.60</td>\n",
       "      <td>92.28</td>\n",
       "      <td>105.21</td>\n",
       "      <td>-</td>\n",
       "      <td>1,292,190,000</td>\n",
       "      <td>Thursday</td>\n",
       "      <td>May</td>\n",
       "      <td>2013</td>\n",
       "    </tr>\n",
       "  </tbody>\n",
       "</table>\n",
       "</div>"
      ],
      "text/plain": [
       "              Open    High     Low   Close Volume     Market Cap   Day_Name  \\\n",
       "Date                                                                          \n",
       "2013-04-28  135.30  135.98  132.10  134.21      -  1,500,520,000     Sunday   \n",
       "2013-04-29  134.44  147.49  134.00  144.54      -  1,491,160,000     Monday   \n",
       "2013-04-30  144.00  146.93  134.05  139.00      -  1,597,780,000    Tuesday   \n",
       "2013-05-01  139.00  139.89  107.72  116.99      -  1,542,820,000  Wednesday   \n",
       "2013-05-02  116.38  125.60   92.28  105.21      -  1,292,190,000   Thursday   \n",
       "\n",
       "            Month  Year  \n",
       "Date                     \n",
       "2013-04-28  April  2013  \n",
       "2013-04-29  April  2013  \n",
       "2013-04-30  April  2013  \n",
       "2013-05-01    May  2013  \n",
       "2013-05-02    May  2013  "
      ]
     },
     "execution_count": 22,
     "metadata": {},
     "output_type": "execute_result"
    }
   ],
   "source": [
    "#Setting Date as index for better analysis\n",
    "data_date=data.set_index('Date')\n",
    "data_date.head()"
   ]
  },
  {
   "cell_type": "code",
   "execution_count": 23,
   "id": "cc685819",
   "metadata": {},
   "outputs": [
    {
     "data": {
      "text/plain": [
       "<AxesSubplot:xlabel='Date'>"
      ]
     },
     "execution_count": 23,
     "metadata": {},
     "output_type": "execute_result"
    },
    {
     "data": {
      "image/png": "[encoded data removed]",
      "text/plain": [
       "<Figure size 432x288 with 1 Axes>"
      ]
     },
     "metadata": {
      "needs_background": "light"
     },
     "output_type": "display_data"
    }
   ],
   "source": [
    "data_date['Close'].plot()"
   ]
  },
  {
   "cell_type": "code",
   "execution_count": 24,
   "id": "8af1cf69",
   "metadata": {},
   "outputs": [
    {
     "data": {
      "text/html": [
       "<div>\n",
       "<style scoped>\n",
       "    .dataframe tbody tr th:only-of-type {\n",
       "        vertical-align: middle;\n",
       "    }\n",
       "\n",
       "    .dataframe tbody tr th {\n",
       "        vertical-align: top;\n",
       "    }\n",
       "\n",
       "    .dataframe thead th {\n",
       "        text-align: right;\n",
       "    }\n",
       "</style>\n",
       "<table border=\"1\" class=\"dataframe\">\n",
       "  <thead>\n",
       "    <tr style=\"text-align: right;\">\n",
       "      <th></th>\n",
       "      <th>Open</th>\n",
       "      <th>High</th>\n",
       "      <th>Low</th>\n",
       "      <th>Close</th>\n",
       "      <th>Volume</th>\n",
       "      <th>Market Cap</th>\n",
       "      <th>Day_Name</th>\n",
       "      <th>Month</th>\n",
       "      <th>Year</th>\n",
       "      <th>Log_Close</th>\n",
       "    </tr>\n",
       "    <tr>\n",
       "      <th>Date</th>\n",
       "      <th></th>\n",
       "      <th></th>\n",
       "      <th></th>\n",
       "      <th></th>\n",
       "      <th></th>\n",
       "      <th></th>\n",
       "      <th></th>\n",
       "      <th></th>\n",
       "      <th></th>\n",
       "      <th></th>\n",
       "    </tr>\n",
       "  </thead>\n",
       "  <tbody>\n",
       "    <tr>\n",
       "      <th>2013-04-28</th>\n",
       "      <td>135.30</td>\n",
       "      <td>135.98</td>\n",
       "      <td>132.10</td>\n",
       "      <td>134.21</td>\n",
       "      <td>-</td>\n",
       "      <td>1,500,520,000</td>\n",
       "      <td>Sunday</td>\n",
       "      <td>April</td>\n",
       "      <td>2013</td>\n",
       "      <td>4.906829</td>\n",
       "    </tr>\n",
       "    <tr>\n",
       "      <th>2013-04-29</th>\n",
       "      <td>134.44</td>\n",
       "      <td>147.49</td>\n",
       "      <td>134.00</td>\n",
       "      <td>144.54</td>\n",
       "      <td>-</td>\n",
       "      <td>1,491,160,000</td>\n",
       "      <td>Monday</td>\n",
       "      <td>April</td>\n",
       "      <td>2013</td>\n",
       "      <td>4.980451</td>\n",
       "    </tr>\n",
       "    <tr>\n",
       "      <th>2013-04-30</th>\n",
       "      <td>144.00</td>\n",
       "      <td>146.93</td>\n",
       "      <td>134.05</td>\n",
       "      <td>139.00</td>\n",
       "      <td>-</td>\n",
       "      <td>1,597,780,000</td>\n",
       "      <td>Tuesday</td>\n",
       "      <td>April</td>\n",
       "      <td>2013</td>\n",
       "      <td>4.941642</td>\n",
       "    </tr>\n",
       "    <tr>\n",
       "      <th>2013-05-01</th>\n",
       "      <td>139.00</td>\n",
       "      <td>139.89</td>\n",
       "      <td>107.72</td>\n",
       "      <td>116.99</td>\n",
       "      <td>-</td>\n",
       "      <td>1,542,820,000</td>\n",
       "      <td>Wednesday</td>\n",
       "      <td>May</td>\n",
       "      <td>2013</td>\n",
       "      <td>4.770600</td>\n",
       "    </tr>\n",
       "    <tr>\n",
       "      <th>2013-05-02</th>\n",
       "      <td>116.38</td>\n",
       "      <td>125.60</td>\n",
       "      <td>92.28</td>\n",
       "      <td>105.21</td>\n",
       "      <td>-</td>\n",
       "      <td>1,292,190,000</td>\n",
       "      <td>Thursday</td>\n",
       "      <td>May</td>\n",
       "      <td>2013</td>\n",
       "      <td>4.665418</td>\n",
       "    </tr>\n",
       "  </tbody>\n",
       "</table>\n",
       "</div>"
      ],
      "text/plain": [
       "              Open    High     Low   Close Volume     Market Cap   Day_Name  \\\n",
       "Date                                                                          \n",
       "2013-04-28  135.30  135.98  132.10  134.21      -  1,500,520,000     Sunday   \n",
       "2013-04-29  134.44  147.49  134.00  144.54      -  1,491,160,000     Monday   \n",
       "2013-04-30  144.00  146.93  134.05  139.00      -  1,597,780,000    Tuesday   \n",
       "2013-05-01  139.00  139.89  107.72  116.99      -  1,542,820,000  Wednesday   \n",
       "2013-05-02  116.38  125.60   92.28  105.21      -  1,292,190,000   Thursday   \n",
       "\n",
       "            Month  Year  Log_Close  \n",
       "Date                                \n",
       "2013-04-28  April  2013   4.906829  \n",
       "2013-04-29  April  2013   4.980451  \n",
       "2013-04-30  April  2013   4.941642  \n",
       "2013-05-01    May  2013   4.770600  \n",
       "2013-05-02    May  2013   4.665418  "
      ]
     },
     "execution_count": 24,
     "metadata": {},
     "output_type": "execute_result"
    }
   ],
   "source": [
    "data_date['Log_Close']=np.log1p(data_date['Close'])\n",
    "data_date.head()"
   ]
  },
  {
   "cell_type": "code",
   "execution_count": 25,
   "id": "b6e51ff5",
   "metadata": {},
   "outputs": [
    {
     "data": {
      "text/plain": [
       "<AxesSubplot:xlabel='Date'>"
      ]
     },
     "execution_count": 25,
     "metadata": {},
     "output_type": "execute_result"
    },
    {
     "data": {
      "image/png": "[encoded data removed]",
      "text/plain": [
       "<Figure size 432x288 with 1 Axes>"
      ]
     },
     "metadata": {
      "needs_background": "light"
     },
     "output_type": "display_data"
    }
   ],
   "source": [
    "data_date['Log_Close'].plot()"
   ]
  },
  {
   "cell_type": "code",
   "execution_count": 26,
   "id": "83728383",
   "metadata": {},
   "outputs": [
    {
     "data": {
      "image/png": "[encoded data removed]",
      "text/plain": [
       "<Figure size 1440x432 with 2 Axes>"
      ]
     },
     "metadata": {
      "needs_background": "light"
     },
     "output_type": "display_data"
    }
   ],
   "source": [
    "plt.figure(figsize=(20,6))\n",
    "plt.subplot(1,2,1)\n",
    "data_date['Close'].plot()\n",
    "plt.title('Closing Plot without scaling')\n",
    "\n",
    "plt.subplot(1,2,2)\n",
    "data_date['Log_Close'].plot()\n",
    "plt.title('Closing Plot with logarithmic scaling')\n",
    "\n",
    "plt.show()"
   ]
  },
  {
   "cell_type": "code",
   "execution_count": 27,
   "id": "de092cb1",
   "metadata": {},
   "outputs": [
    {
     "data": {
      "text/plain": [
       "Date\n",
       "2013-12-31     257.474476\n",
       "2014-12-31     527.236658\n",
       "2015-12-31     272.453260\n",
       "2016-12-31     568.492131\n",
       "2017-12-31    1628.622123\n",
       "Freq: A-DEC, Name: Close, dtype: float64"
      ]
     },
     "execution_count": 27,
     "metadata": {},
     "output_type": "execute_result"
    }
   ],
   "source": [
    "#resampling on a yearly basis\n",
    "data_date['Close'].resample('Y').mean()"
   ]
  },
  {
   "cell_type": "code",
   "execution_count": 28,
   "id": "155e1bb7",
   "metadata": {},
   "outputs": [
    {
     "data": {
      "text/plain": [
       "<AxesSubplot:xlabel='Date'>"
      ]
     },
     "execution_count": 28,
     "metadata": {},
     "output_type": "execute_result"
    },
    {
     "data": {
      "image/png": "[encoded data removed]",
      "text/plain": [
       "<Figure size 432x288 with 1 Axes>"
      ]
     },
     "metadata": {
      "needs_background": "light"
     },
     "output_type": "display_data"
    }
   ],
   "source": [
    "data_date['Close'].resample('Y').mean().plot()"
   ]
  },
  {
   "cell_type": "code",
   "execution_count": 29,
   "id": "65f52dd5",
   "metadata": {},
   "outputs": [
    {
     "data": {
      "text/plain": [
       "<AxesSubplot:xlabel='Date'>"
      ]
     },
     "execution_count": 29,
     "metadata": {},
     "output_type": "execute_result"
    },
    {
     "data": {
      "image/png": "[encoded data removed]",
      "text/plain": [
       "<Figure size 432x288 with 1 Axes>"
      ]
     },
     "metadata": {
      "needs_background": "light"
     },
     "output_type": "display_data"
    }
   ],
   "source": [
    "#resampling on a Quarterly basis\n",
    "data_date['Close'].resample('Q').mean().plot()"
   ]
  },
  {
   "cell_type": "code",
   "execution_count": 30,
   "id": "d519a37f",
   "metadata": {},
   "outputs": [
    {
     "data": {
      "text/plain": [
       "<AxesSubplot:xlabel='Date'>"
      ]
     },
     "execution_count": 30,
     "metadata": {},
     "output_type": "execute_result"
    },
    {
     "data": {
      "image/png": "[encoded data removed]",
      "text/plain": [
       "<Figure size 432x288 with 1 Axes>"
      ]
     },
     "metadata": {
      "needs_background": "light"
     },
     "output_type": "display_data"
    }
   ],
   "source": [
    "#resampling on a monthly basis\n",
    "data_date['Close'].resample('M').mean().plot()"
   ]
  },
  {
   "cell_type": "code",
   "execution_count": 31,
   "id": "c55fdce1",
   "metadata": {},
   "outputs": [
    {
     "data": {
      "text/plain": [
       "Date\n",
       "2013-04-28     134.21\n",
       "2013-04-29     144.54\n",
       "2013-04-30     139.00\n",
       "2013-05-01     116.99\n",
       "2013-05-02     105.21\n",
       "               ...   \n",
       "2017-07-27    2671.78\n",
       "2017-07-28    2809.01\n",
       "2017-07-29    2726.45\n",
       "2017-07-30    2757.18\n",
       "2017-07-31    2875.34\n",
       "Name: Close, Length: 1556, dtype: float64"
      ]
     },
     "execution_count": 31,
     "metadata": {},
     "output_type": "execute_result"
    }
   ],
   "source": [
    "#plotting a graph of daily change %\n",
    "\n",
    "data_date['Close']"
   ]
  },
  {
   "cell_type": "code",
   "execution_count": 32,
   "id": "45f0222d",
   "metadata": {},
   "outputs": [
    {
     "data": {
      "text/plain": [
       "Date\n",
       "2013-04-28         NaN\n",
       "2013-04-29    0.076969\n",
       "2013-04-30   -0.038328\n",
       "2013-05-01   -0.158345\n",
       "2013-05-02   -0.100692\n",
       "                ...   \n",
       "2017-07-27    0.056269\n",
       "2017-07-28    0.051363\n",
       "2017-07-29   -0.029391\n",
       "2017-07-30    0.011271\n",
       "2017-07-31    0.042855\n",
       "Name: Close, Length: 1556, dtype: float64"
      ]
     },
     "execution_count": 32,
     "metadata": {},
     "output_type": "execute_result"
    }
   ],
   "source": [
    "#getting daily change % using inbuilt function\n",
    "\n",
    "data_date['Close'].pct_change()"
   ]
  },
  {
   "cell_type": "code",
   "execution_count": 33,
   "id": "79e42c00",
   "metadata": {},
   "outputs": [
    {
     "data": {
      "text/plain": [
       "<AxesSubplot:xlabel='Date'>"
      ]
     },
     "execution_count": 33,
     "metadata": {},
     "output_type": "execute_result"
    },
    {
     "data": {
      "image/png": "[encoded data removed]",
      "text/plain": [
       "<Figure size 1440x864 with 1 Axes>"
      ]
     },
     "metadata": {
      "needs_background": "light"
     },
     "output_type": "display_data"
    }
   ],
   "source": [
    "plt.figure(figsize=(20,12))\n",
    "(data_date['Close'].pct_change()*100).plot()"
   ]
  },
  {
   "cell_type": "code",
   "execution_count": 34,
   "id": "e27fea0c",
   "metadata": {},
   "outputs": [],
   "source": [
    "import cufflinks as cf"
   ]
  },
  {
   "cell_type": "code",
   "execution_count": 35,
   "id": "54c25769",
   "metadata": {},
   "outputs": [
    {
     "data": {
      "text/html": [
       "        <script type=\"text/javascript\">\n",
       "        window.PlotlyConfig = {MathJaxConfig: 'local'};\n",
       "        if (window.MathJax) {MathJax.Hub.Config({SVG: {font: \"STIX-Web\"}});}\n",
       "        if (typeof require !== 'undefined') {\n",
       "        require.undef(\"plotly\");\n",
       "        requirejs.config({\n",
       "            paths: {\n",
       "                'plotly': ['https://cdn.plot.ly/plotly-2.9.0.min']\n",
       "            }\n",
       "        });\n",
       "        require(['plotly'], function(Plotly) {\n",
       "            window._Plotly = Plotly;\n",
       "        });\n",
       "        }\n",
       "        </script>\n",
       "        "
      ]
     },
     "metadata": {},
     "output_type": "display_data"
    }
   ],
   "source": [
    "cf.go_offline()"
   ]
  },
  {
   "cell_type": "code",
   "execution_count": 36,
   "id": "c9b3e40c",
   "metadata": {},
   "outputs": [
    {
     "data": {
      "text/html": [
       "<div>\n",
       "<style scoped>\n",
       "    .dataframe tbody tr th:only-of-type {\n",
       "        vertical-align: middle;\n",
       "    }\n",
       "\n",
       "    .dataframe tbody tr th {\n",
       "        vertical-align: top;\n",
       "    }\n",
       "\n",
       "    .dataframe thead th {\n",
       "        text-align: right;\n",
       "    }\n",
       "</style>\n",
       "<table border=\"1\" class=\"dataframe\">\n",
       "  <thead>\n",
       "    <tr style=\"text-align: right;\">\n",
       "      <th></th>\n",
       "      <th>Open</th>\n",
       "      <th>High</th>\n",
       "      <th>Low</th>\n",
       "      <th>Close</th>\n",
       "      <th>Volume</th>\n",
       "      <th>Market Cap</th>\n",
       "      <th>Day_Name</th>\n",
       "      <th>Month</th>\n",
       "      <th>Year</th>\n",
       "      <th>Log_Close</th>\n",
       "      <th>Close_pct_change</th>\n",
       "    </tr>\n",
       "    <tr>\n",
       "      <th>Date</th>\n",
       "      <th></th>\n",
       "      <th></th>\n",
       "      <th></th>\n",
       "      <th></th>\n",
       "      <th></th>\n",
       "      <th></th>\n",
       "      <th></th>\n",
       "      <th></th>\n",
       "      <th></th>\n",
       "      <th></th>\n",
       "      <th></th>\n",
       "    </tr>\n",
       "  </thead>\n",
       "  <tbody>\n",
       "    <tr>\n",
       "      <th>2013-04-28</th>\n",
       "      <td>135.30</td>\n",
       "      <td>135.98</td>\n",
       "      <td>132.10</td>\n",
       "      <td>134.21</td>\n",
       "      <td>-</td>\n",
       "      <td>1,500,520,000</td>\n",
       "      <td>Sunday</td>\n",
       "      <td>April</td>\n",
       "      <td>2013</td>\n",
       "      <td>4.906829</td>\n",
       "      <td>NaN</td>\n",
       "    </tr>\n",
       "    <tr>\n",
       "      <th>2013-04-29</th>\n",
       "      <td>134.44</td>\n",
       "      <td>147.49</td>\n",
       "      <td>134.00</td>\n",
       "      <td>144.54</td>\n",
       "      <td>-</td>\n",
       "      <td>1,491,160,000</td>\n",
       "      <td>Monday</td>\n",
       "      <td>April</td>\n",
       "      <td>2013</td>\n",
       "      <td>4.980451</td>\n",
       "      <td>0.076969</td>\n",
       "    </tr>\n",
       "    <tr>\n",
       "      <th>2013-04-30</th>\n",
       "      <td>144.00</td>\n",
       "      <td>146.93</td>\n",
       "      <td>134.05</td>\n",
       "      <td>139.00</td>\n",
       "      <td>-</td>\n",
       "      <td>1,597,780,000</td>\n",
       "      <td>Tuesday</td>\n",
       "      <td>April</td>\n",
       "      <td>2013</td>\n",
       "      <td>4.941642</td>\n",
       "      <td>-0.038328</td>\n",
       "    </tr>\n",
       "    <tr>\n",
       "      <th>2013-05-01</th>\n",
       "      <td>139.00</td>\n",
       "      <td>139.89</td>\n",
       "      <td>107.72</td>\n",
       "      <td>116.99</td>\n",
       "      <td>-</td>\n",
       "      <td>1,542,820,000</td>\n",
       "      <td>Wednesday</td>\n",
       "      <td>May</td>\n",
       "      <td>2013</td>\n",
       "      <td>4.770600</td>\n",
       "      <td>-0.158345</td>\n",
       "    </tr>\n",
       "    <tr>\n",
       "      <th>2013-05-02</th>\n",
       "      <td>116.38</td>\n",
       "      <td>125.60</td>\n",
       "      <td>92.28</td>\n",
       "      <td>105.21</td>\n",
       "      <td>-</td>\n",
       "      <td>1,292,190,000</td>\n",
       "      <td>Thursday</td>\n",
       "      <td>May</td>\n",
       "      <td>2013</td>\n",
       "      <td>4.665418</td>\n",
       "      <td>-0.100692</td>\n",
       "    </tr>\n",
       "  </tbody>\n",
       "</table>\n",
       "</div>"
      ],
      "text/plain": [
       "              Open    High     Low   Close Volume     Market Cap   Day_Name  \\\n",
       "Date                                                                          \n",
       "2013-04-28  135.30  135.98  132.10  134.21      -  1,500,520,000     Sunday   \n",
       "2013-04-29  134.44  147.49  134.00  144.54      -  1,491,160,000     Monday   \n",
       "2013-04-30  144.00  146.93  134.05  139.00      -  1,597,780,000    Tuesday   \n",
       "2013-05-01  139.00  139.89  107.72  116.99      -  1,542,820,000  Wednesday   \n",
       "2013-05-02  116.38  125.60   92.28  105.21      -  1,292,190,000   Thursday   \n",
       "\n",
       "            Month  Year  Log_Close  Close_pct_change  \n",
       "Date                                                  \n",
       "2013-04-28  April  2013   4.906829               NaN  \n",
       "2013-04-29  April  2013   4.980451          0.076969  \n",
       "2013-04-30  April  2013   4.941642         -0.038328  \n",
       "2013-05-01    May  2013   4.770600         -0.158345  \n",
       "2013-05-02    May  2013   4.665418         -0.100692  "
      ]
     },
     "execution_count": 36,
     "metadata": {},
     "output_type": "execute_result"
    }
   ],
   "source": [
    "data_date['Close_pct_change']=data_date['Close'].pct_change()\n",
    "data_date.head()"
   ]
  },
  {
   "cell_type": "code",
   "execution_count": 37,
   "id": "fe0d55ef",
   "metadata": {},
   "outputs": [
    {
     "data": {
      "application/vnd.plotly.v1+json": {
       "config": {
        "linkText": "Export to plot.ly",
        "plotlyServerURL": "https://plot.ly",
        "showLink": true
       },
       "data": [
        {
         "line": {
          "color": "rgba(255, 153, 51, 1.0)",
          "dash": "solid",
          "shape": "linear",
          "width": 1.3
         },
         "mode": "lines",
         "name": "Close_pct_change",
         "text": "",
         "type": "scatter",
         "x": [
          "2013-04-28",
          "2013-04-29",
          "2013-04-30",
          "2013-05-01",
          "2013-05-02",
          "2013-05-03",
          "2013-05-04",
          "2013-05-05",
          "2013-05-06",
          "2013-05-07",
          "2013-05-08",
          "2013-05-09",
          "2013-05-10",
          "2013-05-11",
          "2013-05-12",
          "2013-05-13",
          "2013-05-14",
          "2013-05-15",
          "2013-05-16",
          "2013-05-17",
          "2013-05-18",
          "2013-05-19",
          "2013-05-20",
          "2013-05-21",
          "2013-05-22",
          "2013-05-23",
          "2013-05-24",
          "2013-05-25",
          "2013-05-26",
          "2013-05-27",
          "2013-05-28",
          "2013-05-29",
          "2013-05-30",
          "2013-05-31",
          "2013-06-01",
          "2013-06-02",
          "2013-06-03",
          "2013-06-04",
          "2013-06-05",
          "2013-06-06",
          "2013-06-07",
          "2013-06-08",
          "2013-06-09",
          "2013-06-10",
          "2013-06-11",
          "2013-06-12",
          "2013-06-13",
          "2013-06-14",
          "2013-06-15",
          "2013-06-16",
          "2013-06-17",
          "2013-06-18",
          "2013-06-19",
          "2013-06-20",
          "2013-06-21",
          "2013-06-22",
          "2013-06-23",
          "2013-06-24",
          "2013-06-25",
          "2013-06-26",
          "2013-06-27",
          "2013-06-28",
          "2013-06-29",
          "2013-06-30",
          "2013-07-01",
          "2013-07-02",
          "2013-07-03",
          "2013-07-04",
          "2013-07-05",
          "2013-07-06",
          "2013-07-07",
          "2013-07-08",
          "2013-07-09",
          "2013-07-10",
          "2013-07-11",
          "2013-07-12",
          "2013-07-13",
          "2013-07-14",
          "2013-07-15",
          "2013-07-16",
          "2013-07-17",
          "2013-07-18",
          "2013-07-19",
          "2013-07-20",
          "2013-07-21",
          "2013-07-22",
          "2013-07-23",
          "2013-07-24",
          "2013-07-25",
          "2013-07-26",
          "2013-07-27",
          "2013-07-28",
          "2013-07-29",
          "2013-07-30",
          "2013-07-31",
          "2013-08-01",
          "2013-08-02",
          "2013-08-03",
          "2013-08-04",
          "2013-08-05",
          "2013-08-06",
          "2013-08-07",
          "2013-08-08",
          "2013-08-09",
          "2013-08-10",
          "2013-08-11",
          "2013-08-12",
          "2013-08-13",
          "2013-08-14",
          "2013-08-15",
          "2013-08-16",
          "2013-08-17",
          "2013-08-18",
          "2013-08-19",
          "2013-08-20",
          "2013-08-21",
          "2013-08-22",
          "2013-08-23",
          "2013-08-24",
          "2013-08-25",
          "2013-08-26",
          "2013-08-27",
          "2013-08-28",
          "2013-08-29",
          "2013-08-30",
          "2013-08-31",
          "2013-09-01",
          "2013-09-02",
          "2013-09-03",
          "2013-09-04",
          "2013-09-05",
          "2013-09-06",
          "2013-09-07",
          "2013-09-08",
          "2013-09-09",
          "2013-09-10",
          "2013-09-11",
          "2013-09-12",
          "2013-09-13",
          "2013-09-14",
          "2013-09-15",
          "2013-09-16",
          "2013-09-17",
          "2013-09-18",
          "2013-09-19",
          "2013-09-20",
          "2013-09-21",
          "2013-09-22",
          "2013-09-23",
          "2013-09-24",
          "2013-09-25",
          "2013-09-26",
          "2013-09-27",
          "2013-09-28",
          "2013-09-29",
          "2013-09-30",
          "2013-10-01",
          "2013-10-02",
          "2013-10-03",
          "2013-10-04",
          "2013-10-05",
          "2013-10-06",
          "2013-10-07",
          "2013-10-08",
          "2013-10-09",
          "2013-10-10",
          "2013-10-11",
          "2013-10-12",
          "2013-10-13",
          "2013-10-14",
          "2013-10-15",
          "2013-10-16",
          "2013-10-17",
          "2013-10-18",
          "2013-10-19",
          "2013-10-20",
          "2013-10-21",
          "2013-10-22",
          "2013-10-23",
          "2013-10-24",
          "2013-10-25",
          "2013-10-26",
          "2013-10-27",
          "2013-10-28",
          "2013-10-29",
          "2013-10-30",
          "2013-10-31",
          "2013-11-01",
          "2013-11-02",
          "2013-11-03",
          "2013-11-04",
          "2013-11-05",
          "2013-11-06",
          "2013-11-07",
          "2013-11-08",
          "2013-11-09",
          "2013-11-10",
          "2013-11-11",
          "2013-11-12",
          "2013-11-13",
          "2013-11-14",
          "2013-11-15",
          "2013-11-16",
          "2013-11-17",
          "2013-11-18",
          "2013-11-19",
          "2013-11-20",
          "2013-11-21",
          "2013-11-22",
          "2013-11-23",
          "2013-11-24",
          "2013-11-25",
          "2013-11-26",
          "2013-11-27",
          "2013-11-28",
          "2013-11-29",
          "2013-11-30",
          "2013-12-01",
          "2013-12-02",
          "2013-12-03",
          "2013-12-04",
          "2013-12-05",
          "2013-12-06",
          "2013-12-07",
          "2013-12-08",
          "2013-12-09",
          "2013-12-10",
          "2013-12-11",
          "2013-12-12",
          "2013-12-13",
          "2013-12-14",
          "2013-12-15",
          "2013-12-16",
          "2013-12-17",
          "2013-12-18",
          "2013-12-19",
          "2013-12-20",
          "2013-12-21",
          "2013-12-22",
          "2013-12-23",
          "2013-12-24",
          "2013-12-25",
          "2013-12-26",
          "2013-12-27",
          "2013-12-28",
          "2013-12-29",
          "2013-12-30",
          "2013-12-31",
          "2014-01-01",
          "2014-01-02",
          "2014-01-03",
          "2014-01-04",
          "2014-01-05",
          "2014-01-06",
          "2014-01-07",
          "2014-01-08",
          "2014-01-09",
          "2014-01-10",
          "2014-01-11",
          "2014-01-12",
          "2014-01-13",
          "2014-01-14",
          "2014-01-15",
          "2014-01-16",
          "2014-01-17",
          "2014-01-18",
          "2014-01-19",
          "2014-01-20",
          "2014-01-21",
          "2014-01-22",
          "2014-01-23",
          "2014-01-24",
          "2014-01-25",
          "2014-01-26",
          "2014-01-27",
          "2014-01-28",
          "2014-01-29",
          "2014-01-30",
          "2014-01-31",
          "2014-02-01",
          "2014-02-02",
          "2014-02-03",
          "2014-02-04",
          "2014-02-05",
          "2014-02-06",
          "2014-02-07",
          "2014-02-08",
          "2014-02-09",
          "2014-02-10",
          "2014-02-11",
          "2014-02-12",
          "2014-02-13",
          "2014-02-14",
          "2014-02-15",
          "2014-02-16",
          "2014-02-17",
          "2014-02-18",
          "2014-02-19",
          "2014-02-20",
          "2014-02-21",
          "2014-02-22",
          "2014-02-23",
          "2014-02-24",
          "2014-02-25",
          "2014-02-26",
          "2014-02-27",
          "2014-02-28",
          "2014-03-01",
          "2014-03-02",
          "2014-03-03",
          "2014-03-04",
          "2014-03-05",
          "2014-03-06",
          "2014-03-07",
          "2014-03-08",
          "2014-03-09",
          "2014-03-10",
          "2014-03-11",
          "2014-03-12",
          "2014-03-13",
          "2014-03-14",
          "2014-03-15",
          "2014-03-16",
          "2014-03-17",
          "2014-03-18",
          "2014-03-19",
          "2014-03-20",
          "2014-03-21",
          "2014-03-22",
          "2014-03-23",
          "2014-03-24",
          "2014-03-25",
          "2014-03-26",
          "2014-03-27",
          "2014-03-28",
          "2014-03-29",
          "2014-03-30",
          "2014-03-31",
          "2014-04-01",
          "2014-04-02",
          "2014-04-03",
          "2014-04-04",
          "2014-04-05",
          "2014-04-06",
          "2014-04-07",
          "2014-04-08",
          "2014-04-09",
          "2014-04-10",
          "2014-04-11",
          "2014-04-12",
          "2014-04-13",
          "2014-04-14",
          "2014-04-15",
          "2014-04-16",
          "2014-04-17",
          "2014-04-18",
          "2014-04-19",
          "2014-04-20",
          "2014-04-21",
          "2014-04-22",
          "2014-04-23",
          "2014-04-24",
          "2014-04-25",
          "2014-04-26",
          "2014-04-27",
          "2014-04-28",
          "2014-04-29",
          "2014-04-30",
          "2014-05-01",
          "2014-05-02",
          "2014-05-03",
          "2014-05-04",
          "2014-05-05",
          "2014-05-06",
          "2014-05-07",
          "2014-05-08",
          "2014-05-09",
          "2014-05-10",
          "2014-05-11",
          "2014-05-12",
          "2014-05-13",
          "2014-05-14",
          "2014-05-15",
          "2014-05-16",
          "2014-05-17",
          "2014-05-18",
          "2014-05-19",
          "2014-05-20",
          "2014-05-21",
          "2014-05-22",
          "2014-05-23",
          "2014-05-24",
          "2014-05-25",
          "2014-05-26",
          "2014-05-27",
          "2014-05-28",
          "2014-05-29",
          "2014-05-30",
          "2014-05-31",
          "2014-06-01",
          "2014-06-02",
          "2014-06-03",
          "2014-06-04",
          "2014-06-05",
          "2014-06-06",
          "2014-06-07",
          "2014-06-08",
          "2014-06-09",
          "2014-06-10",
          "2014-06-11",
          "2014-06-12",
          "2014-06-13",
          "2014-06-14",
          "2014-06-15",
          "2014-06-16",
          "2014-06-17",
          "2014-06-18",
          "2014-06-19",
          "2014-06-20",
          "2014-06-21",
          "2014-06-22",
          "2014-06-23",
          "2014-06-24",
          "2014-06-25",
          "2014-06-26",
          "2014-06-27",
          "2014-06-28",
          "2014-06-29",
          "2014-06-30",
          "2014-07-01",
          "2014-07-02",
          "2014-07-03",
          "2014-07-04",
          "2014-07-05",
          "2014-07-06",
          "2014-07-07",
          "2014-07-08",
          "2014-07-09",
          "2014-07-10",
          "2014-07-11",
          "2014-07-12",
          "2014-07-13",
          "2014-07-14",
          "2014-07-15",
          "2014-07-16",
          "2014-07-17",
          "2014-07-18",
          "2014-07-19",
          "2014-07-20",
          "2014-07-21",
          "2014-07-22",
          "2014-07-23",
          "2014-07-24",
          "2014-07-25",
          "2014-07-26",
          "2014-07-27",
          "2014-07-28",
          "2014-07-29",
          "2014-07-30",
          "2014-07-31",
          "2014-08-01",
          "2014-08-02",
          "2014-08-03",
          "2014-08-04",
          "2014-08-05",
          "2014-08-06",
          "2014-08-07",
          "2014-08-08",
          "2014-08-09",
          "2014-08-10",
          "2014-08-11",
          "2014-08-12",
          "2014-08-13",
          "2014-08-14",
          "2014-08-15",
          "2014-08-16",
          "2014-08-17",
          "2014-08-18",
          "2014-08-19",
          "2014-08-20",
          "2014-08-21",
          "2014-08-22",
          "2014-08-23",
          "2014-08-24",
          "2014-08-25",
          "2014-08-26",
          "2014-08-27",
          "2014-08-28",
          "2014-08-29",
          "2014-08-30",
          "2014-08-31",
          "2014-09-01",
          "2014-09-02",
          "2014-09-03",
          "2014-09-04",
          "2014-09-05",
          "2014-09-06",
          "2014-09-07",
          "2014-09-08",
          "2014-09-09",
          "2014-09-10",
          "2014-09-11",
          "2014-09-12",
          "2014-09-13",
          "2014-09-14",
          "2014-09-15",
          "2014-09-16",
          "2014-09-17",
          "2014-09-18",
          "2014-09-19",
          "2014-09-20",
          "2014-09-21",
          "2014-09-22",
          "2014-09-23",
          "2014-09-24",
          "2014-09-25",
          "2014-09-26",
          "2014-09-27",
          "2014-09-28",
          "2014-09-29",
          "2014-09-30",
          "2014-10-01",
          "2014-10-02",
          "2014-10-03",
          "2014-10-04",
          "2014-10-05",
          "2014-10-06",
          "2014-10-07",
          "2014-10-08",
          "2014-10-09",
          "2014-10-10",
          "2014-10-11",
          "2014-10-12",
          "2014-10-13",
          "2014-10-14",
          "2014-10-15",
          "2014-10-16",
          "2014-10-17",
          "2014-10-18",
          "2014-10-19",
          "2014-10-20",
          "2014-10-21",
          "2014-10-22",
          "2014-10-23",
          "2014-10-24",
          "2014-10-25",
          "2014-10-26",
          "2014-10-27",
          "2014-10-28",
          "2014-10-29",
          "2014-10-30",
          "2014-10-31",
          "2014-11-01",
          "2014-11-02",
          "2014-11-03",
          "2014-11-04",
          "2014-11-05",
          "2014-11-06",
          "2014-11-07",
          "2014-11-08",
          "2014-11-09",
          "2014-11-10",
          "2014-11-11",
          "2014-11-12",
          "2014-11-13",
          "2014-11-14",
          "2014-11-15",
          "2014-11-16",
          "2014-11-17",
          "2014-11-18",
          "2014-11-19",
          "2014-11-20",
          "2014-11-21",
          "2014-11-22",
          "2014-11-23",
          "2014-11-24",
          "2014-11-25",
          "2014-11-26",
          "2014-11-27",
          "2014-11-28",
          "2014-11-29",
          "2014-11-30",
          "2014-12-01",
          "2014-12-02",
          "2014-12-03",
          "2014-12-04",
          "2014-12-05",
          "2014-12-06",
          "2014-12-07",
          "2014-12-08",
          "2014-12-09",
          "2014-12-10",
          "2014-12-11",
          "2014-12-12",
          "2014-12-13",
          "2014-12-14",
          "2014-12-15",
          "2014-12-16",
          "2014-12-17",
          "2014-12-18",
          "2014-12-19",
          "2014-12-20",
          "2014-12-21",
          "2014-12-22",
          "2014-12-23",
          "2014-12-24",
          "2014-12-25",
          "2014-12-26",
          "2014-12-27",
          "2014-12-28",
          "2014-12-29",
          "2014-12-30",
          "2014-12-31",
          "2015-01-01",
          "2015-01-02",
          "2015-01-03",
          "2015-01-04",
          "2015-01-05",
          "2015-01-06",
          "2015-01-07",
          "2015-01-08",
          "2015-01-09",
          "2015-01-10",
          "2015-01-11",
          "2015-01-12",
          "2015-01-13",
          "2015-01-14",
          "2015-01-15",
          "2015-01-16",
          "2015-01-17",
          "2015-01-18",
          "2015-01-19",
          "2015-01-20",
          "2015-01-21",
          "2015-01-22",
          "2015-01-23",
          "2015-01-24",
          "2015-01-25",
          "2015-01-26",
          "2015-01-27",
          "2015-01-28",
          "2015-01-29",
          "2015-01-30",
          "2015-01-31",
          "2015-02-01",
          "2015-02-02",
          "2015-02-03",
          "2015-02-04",
          "2015-02-05",
          "2015-02-06",
          "2015-02-07",
          "2015-02-08",
          "2015-02-09",
          "2015-02-10",
          "2015-02-11",
          "2015-02-12",
          "2015-02-13",
          "2015-02-14",
          "2015-02-15",
          "2015-02-16",
          "2015-02-17",
          "2015-02-18",
          "2015-02-19",
          "2015-02-20",
          "2015-02-21",
          "2015-02-22",
          "2015-02-23",
          "2015-02-24",
          "2015-02-25",
          "2015-02-26",
          "2015-02-27",
          "2015-02-28",
          "2015-03-01",
          "2015-03-02",
          "2015-03-03",
          "2015-03-04",
          "2015-03-05",
          "2015-03-06",
          "2015-03-07",
          "2015-03-08",
          "2015-03-09",
          "2015-03-10",
          "2015-03-11",
          "2015-03-12",
          "2015-03-13",
          "2015-03-14",
          "2015-03-15",
          "2015-03-16",
          "2015-03-17",
          "2015-03-18",
          "2015-03-19",
          "2015-03-20",
          "2015-03-21",
          "2015-03-22",
          "2015-03-23",
          "2015-03-24",
          "2015-03-25",
          "2015-03-26",
          "2015-03-27",
          "2015-03-28",
          "2015-03-29",
          "2015-03-30",
          "2015-03-31",
          "2015-04-01",
          "2015-04-02",
          "2015-04-03",
          "2015-04-04",
          "2015-04-05",
          "2015-04-06",
          "2015-04-07",
          "2015-04-08",
          "2015-04-09",
          "2015-04-10",
          "2015-04-11",
          "2015-04-12",
          "2015-04-13",
          "2015-04-14",
          "2015-04-15",
          "2015-04-16",
          "2015-04-17",
          "2015-04-18",
          "2015-04-19",
          "2015-04-20",
          "2015-04-21",
          "2015-04-22",
          "2015-04-23",
          "2015-04-24",
          "2015-04-25",
          "2015-04-26",
          "2015-04-27",
          "2015-04-28",
          "2015-04-29",
          "2015-04-30",
          "2015-05-01",
          "2015-05-02",
          "2015-05-03",
          "2015-05-04",
          "2015-05-05",
          "2015-05-06",
          "2015-05-07",
          "2015-05-08",
          "2015-05-09",
          "2015-05-10",
          "2015-05-11",
          "2015-05-12",
          "2015-05-13",
          "2015-05-14",
          "2015-05-15",
          "2015-05-16",
          "2015-05-17",
          "2015-05-18",
          "2015-05-19",
          "2015-05-20",
          "2015-05-21",
          "2015-05-22",
          "2015-05-23",
          "2015-05-24",
          "2015-05-25",
          "2015-05-26",
          "2015-05-27",
          "2015-05-28",
          "2015-05-29",
          "2015-05-30",
          "2015-05-31",
          "2015-06-01",
          "2015-06-02",
          "2015-06-03",
          "2015-06-04",
          "2015-06-05",
          "2015-06-06",
          "2015-06-07",
          "2015-06-08",
          "2015-06-09",
          "2015-06-10",
          "2015-06-11",
          "2015-06-12",
          "2015-06-13",
          "2015-06-14",
          "2015-06-15",
          "2015-06-16",
          "2015-06-17",
          "2015-06-18",
          "2015-06-19",
          "2015-06-20",
          "2015-06-21",
          "2015-06-22",
          "2015-06-23",
          "2015-06-24",
          "2015-06-25",
          "2015-06-26",
          "2015-06-27",
          "2015-06-28",
          "2015-06-29",
          "2015-06-30",
          "2015-07-01",
          "2015-07-02",
          "2015-07-03",
          "2015-07-04",
          "2015-07-05",
          "2015-07-06",
          "2015-07-07",
          "2015-07-08",
          "2015-07-09",
          "2015-07-10",
          "2015-07-11",
          "2015-07-12",
          "2015-07-13",
          "2015-07-14",
          "2015-07-15",
          "2015-07-16",
          "2015-07-17",
          "2015-07-18",
          "2015-07-19",
          "2015-07-20",
          "2015-07-21",
          "2015-07-22",
          "2015-07-23",
          "2015-07-24",
          "2015-07-25",
          "2015-07-26",
          "2015-07-27",
          "2015-07-28",
          "2015-07-29",
          "2015-07-30",
          "2015-07-31",
          "2015-08-01",
          "2015-08-02",
          "2015-08-03",
          "2015-08-04",
          "2015-08-05",
          "2015-08-06",
          "2015-08-07",
          "2015-08-08",
          "2015-08-09",
          "2015-08-10",
          "2015-08-11",
          "2015-08-12",
          "2015-08-13",
          "2015-08-14",
          "2015-08-15",
          "2015-08-16",
          "2015-08-17",
          "2015-08-18",
          "2015-08-19",
          "2015-08-20",
          "2015-08-21",
          "2015-08-22",
          "2015-08-23",
          "2015-08-24",
          "2015-08-25",
          "2015-08-26",
          "2015-08-27",
          "2015-08-28",
          "2015-08-29",
          "2015-08-30",
          "2015-08-31",
          "2015-09-01",
          "2015-09-02",
          "2015-09-03",
          "2015-09-04",
          "2015-09-05",
          "2015-09-06",
          "2015-09-07",
          "2015-09-08",
          "2015-09-09",
          "2015-09-10",
          "2015-09-11",
          "2015-09-12",
          "2015-09-13",
          "2015-09-14",
          "2015-09-15",
          "2015-09-16",
          "2015-09-17",
          "2015-09-18",
          "2015-09-19",
          "2015-09-20",
          "2015-09-21",
          "2015-09-22",
          "2015-09-23",
          "2015-09-24",
          "2015-09-25",
          "2015-09-26",
          "2015-09-27",
          "2015-09-28",
          "2015-09-29",
          "2015-09-30",
          "2015-10-01",
          "2015-10-02",
          "2015-10-03",
          "2015-10-04",
          "2015-10-05",
          "2015-10-06",
          "2015-10-07",
          "2015-10-08",
          "2015-10-09",
          "2015-10-10",
          "2015-10-11",
          "2015-10-12",
          "2015-10-13",
          "2015-10-14",
          "2015-10-15",
          "2015-10-16",
          "2015-10-17",
          "2015-10-18",
          "2015-10-19",
          "2015-10-20",
          "2015-10-21",
          "2015-10-22",
          "2015-10-23",
          "2015-10-24",
          "2015-10-25",
          "2015-10-26",
          "2015-10-27",
          "2015-10-28",
          "2015-10-29",
          "2015-10-30",
          "2015-10-31",
          "2015-11-01",
          "2015-11-02",
          "2015-11-03",
          "2015-11-04",
          "2015-11-05",
          "2015-11-06",
          "2015-11-07",
          "2015-11-08",
          "2015-11-09",
          "2015-11-10",
          "2015-11-11",
          "2015-11-12",
          "2015-11-13",
          "2015-11-14",
          "2015-11-15",
          "2015-11-16",
          "2015-11-17",
          "2015-11-18",
          "2015-11-19",
          "2015-11-20",
          "2015-11-21",
          "2015-11-22",
          "2015-11-23",
          "2015-11-24",
          "2015-11-25",
          "2015-11-26",
          "2015-11-27",
          "2015-11-28",
          "2015-11-29",
          "2015-11-30",
          "2015-12-01",
          "2015-12-02",
          "2015-12-03",
          "2015-12-04",
          "2015-12-05",
          "2015-12-06",
          "2015-12-07",
          "2015-12-08",
          "2015-12-09",
          "2015-12-10",
          "2015-12-11",
          "2015-12-12",
          "2015-12-13",
          "2015-12-14",
          "2015-12-15",
          "2015-12-16",
          "2015-12-17",
          "2015-12-18",
          "2015-12-19",
          "2015-12-20",
          "2015-12-21",
          "2015-12-22",
          "2015-12-23",
          "2015-12-24",
          "2015-12-25",
          "2015-12-26",
          "2015-12-27",
          "2015-12-28",
          "2015-12-29",
          "2015-12-30",
          "2015-12-31",
          "2016-01-01",
          "2016-01-02",
          "2016-01-03",
          "2016-01-04",
          "2016-01-05",
          "2016-01-06",
          "2016-01-07",
          "2016-01-08",
          "2016-01-09",
          "2016-01-10",
          "2016-01-11",
          "2016-01-12",
          "2016-01-13",
          "2016-01-14",
          "2016-01-15",
          "2016-01-16",
          "2016-01-17",
          "2016-01-18",
          "2016-01-19",
          "2016-01-20",
          "2016-01-21",
          "2016-01-22",
          "2016-01-23",
          "2016-01-24",
          "2016-01-25",
          "2016-01-26",
          "2016-01-27",
          "2016-01-28",
          "2016-01-29",
          "2016-01-30",
          "2016-01-31",
          "2016-02-01",
          "2016-02-02",
          "2016-02-03",
          "2016-02-04",
          "2016-02-05",
          "2016-02-06",
          "2016-02-07",
          "2016-02-08",
          "2016-02-09",
          "2016-02-10",
          "2016-02-11",
          "2016-02-12",
          "2016-02-13",
          "2016-02-14",
          "2016-02-15",
          "2016-02-16",
          "2016-02-17",
          "2016-02-18",
          "2016-02-19",
          "2016-02-20",
          "2016-02-21",
          "2016-02-22",
          "2016-02-23",
          "2016-02-24",
          "2016-02-25",
          "2016-02-26",
          "2016-02-27",
          "2016-02-28",
          "2016-02-29",
          "2016-03-01",
          "2016-03-02",
          "2016-03-03",
          "2016-03-04",
          "2016-03-05",
          "2016-03-06",
          "2016-03-07",
          "2016-03-08",
          "2016-03-09",
          "2016-03-10",
          "2016-03-11",
          "2016-03-12",
          "2016-03-13",
          "2016-03-14",
          "2016-03-15",
          "2016-03-16",
          "2016-03-17",
          "2016-03-18",
          "2016-03-19",
          "2016-03-20",
          "2016-03-21",
          "2016-03-22",
          "2016-03-23",
          "2016-03-24",
          "2016-03-25",
          "2016-03-26",
          "2016-03-27",
          "2016-03-28",
          "2016-03-29",
          "2016-03-30",
          "2016-03-31",
          "2016-04-01",
          "2016-04-02",
          "2016-04-03",
          "2016-04-04",
          "2016-04-05",
          "2016-04-06",
          "2016-04-07",
          "2016-04-08",
          "2016-04-09",
          "2016-04-10",
          "2016-04-11",
          "2016-04-12",
          "2016-04-13",
          "2016-04-14",
          "2016-04-15",
          "2016-04-16",
          "2016-04-17",
          "2016-04-18",
          "2016-04-19",
          "2016-04-20",
          "2016-04-21",
          "2016-04-22",
          "2016-04-23",
          "2016-04-24",
          "2016-04-25",
          "2016-04-26",
          "2016-04-27",
          "2016-04-28",
          "2016-04-29",
          "2016-04-30",
          "2016-05-01",
          "2016-05-02",
          "2016-05-03",
          "2016-05-04",
          "2016-05-05",
          "2016-05-06",
          "2016-05-07",
          "2016-05-08",
          "2016-05-09",
          "2016-05-10",
          "2016-05-11",
          "2016-05-12",
          "2016-05-13",
          "2016-05-14",
          "2016-05-15",
          "2016-05-16",
          "2016-05-17",
          "2016-05-18",
          "2016-05-19",
          "2016-05-20",
          "2016-05-21",
          "2016-05-22",
          "2016-05-23",
          "2016-05-24",
          "2016-05-25",
          "2016-05-26",
          "2016-05-27",
          "2016-05-28",
          "2016-05-29",
          "2016-05-30",
          "2016-05-31",
          "2016-06-01",
          "2016-06-02",
          "2016-06-03",
          "2016-06-04",
          "2016-06-05",
          "2016-06-06",
          "2016-06-07",
          "2016-06-08",
          "2016-06-09",
          "2016-06-10",
          "2016-06-11",
          "2016-06-12",
          "2016-06-13",
          "2016-06-14",
          "2016-06-15",
          "2016-06-16",
          "2016-06-17",
          "2016-06-18",
          "2016-06-19",
          "2016-06-20",
          "2016-06-21",
          "2016-06-22",
          "2016-06-23",
          "2016-06-24",
          "2016-06-25",
          "2016-06-26",
          "2016-06-27",
          "2016-06-28",
          "2016-06-29",
          "2016-06-30",
          "2016-07-01",
          "2016-07-02",
          "2016-07-03",
          "2016-07-04",
          "2016-07-05",
          "2016-07-06",
          "2016-07-07",
          "2016-07-08",
          "2016-07-09",
          "2016-07-10",
          "2016-07-11",
          "2016-07-12",
          "2016-07-13",
          "2016-07-14",
          "2016-07-15",
          "2016-07-16",
          "2016-07-17",
          "2016-07-18",
          "2016-07-19",
          "2016-07-20",
          "2016-07-21",
          "2016-07-22",
          "2016-07-23",
          "2016-07-24",
          "2016-07-25",
          "2016-07-26",
          "2016-07-27",
          "2016-07-28",
          "2016-07-29",
          "2016-07-30",
          "2016-07-31",
          "2016-08-01",
          "2016-08-02",
          "2016-08-03",
          "2016-08-04",
          "2016-08-05",
          "2016-08-06",
          "2016-08-07",
          "2016-08-08",
          "2016-08-09",
          "2016-08-10",
          "2016-08-11",
          "2016-08-12",
          "2016-08-13",
          "2016-08-14",
          "2016-08-15",
          "2016-08-16",
          "2016-08-17",
          "2016-08-18",
          "2016-08-19",
          "2016-08-20",
          "2016-08-21",
          "2016-08-22",
          "2016-08-23",
          "2016-08-24",
          "2016-08-25",
          "2016-08-26",
          "2016-08-27",
          "2016-08-28",
          "2016-08-29",
          "2016-08-30",
          "2016-08-31",
          "2016-09-01",
          "2016-09-02",
          "2016-09-03",
          "2016-09-04",
          "2016-09-05",
          "2016-09-06",
          "2016-09-07",
          "2016-09-08",
          "2016-09-09",
          "2016-09-10",
          "2016-09-11",
          "2016-09-12",
          "2016-09-13",
          "2016-09-14",
          "2016-09-15",
          "2016-09-16",
          "2016-09-17",
          "2016-09-18",
          "2016-09-19",
          "2016-09-20",
          "2016-09-21",
          "2016-09-22",
          "2016-09-23",
          "2016-09-24",
          "2016-09-25",
          "2016-09-26",
          "2016-09-27",
          "2016-09-28",
          "2016-09-29",
          "2016-09-30",
          "2016-10-01",
          "2016-10-02",
          "2016-10-03",
          "2016-10-04",
          "2016-10-05",
          "2016-10-06",
          "2016-10-07",
          "2016-10-08",
          "2016-10-09",
          "2016-10-10",
          "2016-10-11",
          "2016-10-12",
          "2016-10-13",
          "2016-10-14",
          "2016-10-15",
          "2016-10-16",
          "2016-10-17",
          "2016-10-18",
          "2016-10-19",
          "2016-10-20",
          "2016-10-21",
          "2016-10-22",
          "2016-10-23",
          "2016-10-24",
          "2016-10-25",
          "2016-10-26",
          "2016-10-27",
          "2016-10-28",
          "2016-10-29",
          "2016-10-30",
          "2016-10-31",
          "2016-11-01",
          "2016-11-02",
          "2016-11-03",
          "2016-11-04",
          "2016-11-05",
          "2016-11-06",
          "2016-11-07",
          "2016-11-08",
          "2016-11-09",
          "2016-11-10",
          "2016-11-11",
          "2016-11-12",
          "2016-11-13",
          "2016-11-14",
          "2016-11-15",
          "2016-11-16",
          "2016-11-17",
          "2016-11-18",
          "2016-11-19",
          "2016-11-20",
          "2016-11-21",
          "2016-11-22",
          "2016-11-23",
          "2016-11-24",
          "2016-11-25",
          "2016-11-26",
          "2016-11-27",
          "2016-11-28",
          "2016-11-29",
          "2016-11-30",
          "2016-12-01",
          "2016-12-02",
          "2016-12-03",
          "2016-12-04",
          "2016-12-05",
          "2016-12-06",
          "2016-12-07",
          "2016-12-08",
          "2016-12-09",
          "2016-12-10",
          "2016-12-11",
          "2016-12-12",
          "2016-12-13",
          "2016-12-14",
          "2016-12-15",
          "2016-12-16",
          "2016-12-17",
          "2016-12-18",
          "2016-12-19",
          "2016-12-20",
          "2016-12-21",
          "2016-12-22",
          "2016-12-23",
          "2016-12-24",
          "2016-12-25",
          "2016-12-26",
          "2016-12-27",
          "2016-12-28",
          "2016-12-29",
          "2016-12-30",
          "2016-12-31",
          "2017-01-01",
          "2017-01-02",
          "2017-01-03",
          "2017-01-04",
          "2017-01-05",
          "2017-01-06",
          "2017-01-07",
          "2017-01-08",
          "2017-01-09",
          "2017-01-10",
          "2017-01-11",
          "2017-01-12",
          "2017-01-13",
          "2017-01-14",
          "2017-01-15",
          "2017-01-16",
          "2017-01-17",
          "2017-01-18",
          "2017-01-19",
          "2017-01-20",
          "2017-01-21",
          "2017-01-22",
          "2017-01-23",
          "2017-01-24",
          "2017-01-25",
          "2017-01-26",
          "2017-01-27",
          "2017-01-28",
          "2017-01-29",
          "2017-01-30",
          "2017-01-31",
          "2017-02-01",
          "2017-02-02",
          "2017-02-03",
          "2017-02-04",
          "2017-02-05",
          "2017-02-06",
          "2017-02-07",
          "2017-02-08",
          "2017-02-09",
          "2017-02-10",
          "2017-02-11",
          "2017-02-12",
          "2017-02-13",
          "2017-02-14",
          "2017-02-15",
          "2017-02-16",
          "2017-02-17",
          "2017-02-18",
          "2017-02-19",
          "2017-02-20",
          "2017-02-21",
          "2017-02-22",
          "2017-02-23",
          "2017-02-24",
          "2017-02-25",
          "2017-02-26",
          "2017-02-27",
          "2017-02-28",
          "2017-03-01",
          "2017-03-02",
          "2017-03-03",
          "2017-03-04",
          "2017-03-05",
          "2017-03-06",
          "2017-03-07",
          "2017-03-08",
          "2017-03-09",
          "2017-03-10",
          "2017-03-11",
          "2017-03-12",
          "2017-03-13",
          "2017-03-14",
          "2017-03-15",
          "2017-03-16",
          "2017-03-17",
          "2017-03-18",
          "2017-03-19",
          "2017-03-20",
          "2017-03-21",
          "2017-03-22",
          "2017-03-23",
          "2017-03-24",
          "2017-03-25",
          "2017-03-26",
          "2017-03-27",
          "2017-03-28",
          "2017-03-29",
          "2017-03-30",
          "2017-03-31",
          "2017-04-01",
          "2017-04-02",
          "2017-04-03",
          "2017-04-04",
          "2017-04-05",
          "2017-04-06",
          "2017-04-07",
          "2017-04-08",
          "2017-04-09",
          "2017-04-10",
          "2017-04-11",
          "2017-04-12",
          "2017-04-13",
          "2017-04-14",
          "2017-04-15",
          "2017-04-16",
          "2017-04-17",
          "2017-04-18",
          "2017-04-19",
          "2017-04-20",
          "2017-04-21",
          "2017-04-22",
          "2017-04-23",
          "2017-04-24",
          "2017-04-25",
          "2017-04-26",
          "2017-04-27",
          "2017-04-28",
          "2017-04-29",
          "2017-04-30",
          "2017-05-01",
          "2017-05-02",
          "2017-05-03",
          "2017-05-04",
          "2017-05-05",
          "2017-05-06",
          "2017-05-07",
          "2017-05-08",
          "2017-05-09",
          "2017-05-10",
          "2017-05-11",
          "2017-05-12",
          "2017-05-13",
          "2017-05-14",
          "2017-05-15",
          "2017-05-16",
          "2017-05-17",
          "2017-05-18",
          "2017-05-19",
          "2017-05-20",
          "2017-05-21",
          "2017-05-22",
          "2017-05-23",
          "2017-05-24",
          "2017-05-25",
          "2017-05-26",
          "2017-05-27",
          "2017-05-28",
          "2017-05-29",
          "2017-05-30",
          "2017-05-31",
          "2017-06-01",
          "2017-06-02",
          "2017-06-03",
          "2017-06-04",
          "2017-06-05",
          "2017-06-06",
          "2017-06-07",
          "2017-06-08",
          "2017-06-09",
          "2017-06-10",
          "2017-06-11",
          "2017-06-12",
          "2017-06-13",
          "2017-06-14",
          "2017-06-15",
          "2017-06-16",
          "2017-06-17",
          "2017-06-18",
          "2017-06-19",
          "2017-06-20",
          "2017-06-21",
          "2017-06-22",
          "2017-06-23",
          "2017-06-24",
          "2017-06-25",
          "2017-06-26",
          "2017-06-27",
          "2017-06-28",
          "2017-06-29",
          "2017-06-30",
          "2017-07-01",
          "2017-07-02",
          "2017-07-03",
          "2017-07-04",
          "2017-07-05",
          "2017-07-06",
          "2017-07-07",
          "2017-07-08",
          "2017-07-09",
          "2017-07-10",
          "2017-07-11",
          "2017-07-12",
          "2017-07-13",
          "2017-07-14",
          "2017-07-15",
          "2017-07-16",
          "2017-07-17",
          "2017-07-18",
          "2017-07-19",
          "2017-07-20",
          "2017-07-21",
          "2017-07-22",
          "2017-07-23",
          "2017-07-24",
          "2017-07-25",
          "2017-07-26",
          "2017-07-27",
          "2017-07-28",
          "2017-07-29",
          "2017-07-30",
          "2017-07-31"
         ],
         "y": [
          "",
          0.07696892928991872,
          -0.0383284903832849,
          -0.15834532374100718,
          -0.10069236686896321,
          -0.07090580743275343,
          0.15089514066496168,
          0.030311111111111178,
          -0.031144853765852853,
          -0.007123775601068583,
          0.01856502242152458,
          -0.00792462798274185,
          0.04020591106771998,
          -0.016723549488054656,
          -0.0020826102047899475,
          0.025913043478260844,
          -0.054924563485336475,
          0.024394618834080672,
          0.03974785501663458,
          0.035870663523071666,
          0.0039018045846204163,
          -0.012226720647773304,
          8.19739322894808e-05,
          0.00721311475409836,
          0.00821940104166674,
          0.022681410929050072,
          0.051302288871349466,
          -0.009159159159159103,
          0.011365358387634528,
          -0.027944261312556118,
          -0.005780346820809301,
          0.0255813953488373,
          -0.026455026455026398,
          0.0015527950310558758,
          0.0023255813953488857,
          -0.054215003866976086,
          -0.0005724098454493731,
          -0.006545573555882811,
          0.0018942513589195187,
          -0.030004110152075714,
          -0.05508474576271183,
          -0.028699551569506765,
          -0.07663896583564167,
          0.06349999999999989,
          0.023977433004231496,
          -0.00688705234159781,
          -0.038372630605640334,
          -0.03865384615384615,
          0.00010002000400066713,
          -0.004800480048004707,
          0.022007838408200087,
          0.05604719764011801,
          0.007914338919925434,
          0.01755196304849882,
          -0.005901044030866998,
          -0.010958904109589107,
          -0.006463527239150557,
          -0.045167286245353155,
          0.01177730192719495,
          0.0004810004810005264,
          -0.024615384615384595,
          -0.06693611987381698,
          0.003592181722134047,
          0.017054426781766496,
          -0.08860366421695476,
          0.02362294151050537,
          -0.13979806945523132,
          0.038694698826260865,
          -0.15025456351670174,
          0.02703492620195802,
          0.060899260102447395,
          0.026287553648068673,
          0.0022216414009410546,
          0.1313078628243578,
          0.025587828492392717,
          0.05180939536974605,
          0.04850945613847624,
          -0.03505553857128296,
          0.039180483683599165,
          -0.009654471544715437,
          0.010774756285274467,
          -0.08040609137055843,
          0.017553543828659812,
          -0.030161657806227593,
          0.015326099116232283,
          0.00936535918907011,
          0.0431175635847616,
          -0.010987861029719492,
          0.02528832927732516,
          -0.009081527347781337,
          -0.01978754426161211,
          0.059923501912452215,
          0.014434643143544479,
          0.06709486166007905,
          -0.017594221687193157,
          -0.01970025450089552,
          0.004807692307692291,
          -0.004784688995215336,
          0.010961538461538467,
          0.010272018261365812,
          0.004989644134814508,
          0,
          -0.03512880562060894,
          -0.001941747572815511,
          0.0019455252918287869,
          0.01941747572815533,
          0.015619047619047643,
          0.02213053263315823,
          0.03266055045871563,
          -0.022832267235252335,
          -0.009091735612328344,
          0.041379943114047135,
          0,
          0.048458149779735615,
          0.018487394957983128,
          0.017326732673267342,
          -0.017437145174371338,
          -0.021873710276516745,
          0.013080168776371304,
          0.01715951686797168,
          -0.0167881418393252,
          0.05363984674329503,
          -0.030671936758893237,
          -0.001875713586690586,
          0.09069368412452006,
          0.01393362798711495,
          0.02209087550794253,
          -0.017999132571924314,
          0.006772175193227925,
          -0.07333479564231937,
          -0.0024459523433800756,
          -0.057581270268132534,
          0.04196391103650865,
          -0.020056383407168865,
          0.0447969751767221,
          -0.009440641963653573,
          0.07417996981971253,
          -0.0156746765249538,
          0.013896191692330806,
          -0.042672988590902294,
          0.008899551153072283,
          0.010355143054383564,
          -0.00045551169146673676,
          -0.0014431110435971783,
          -0.013843462386856298,
          -0.02013112225221747,
          0.0030698992443325412,
          0.013262183159381546,
          -0.02455080545229249,
          0.0103215561730845,
          0.007622789783889861,
          0.0012478552487911188,
          0.042062626577348494,
          0.007474958887726091,
          0.018993916011277756,
          -0.031600407747196746,
          -0.006165413533834485,
          -0.1365562112271146,
          0.08323841233680884,
          0.04351694572514764,
          -0.003565615068599204,
          0.003500583430571691,
          -0.01596899224806203,
          -0.007405073262958806,
          0.03722222222222227,
          -0.0007651694850409063,
          0.002373841794930609,
          0.03277310924369736,
          0.021747170648716674,
          0.017302541084485812,
          0.03358952462282949,
          -0.01852106857614977,
          0.025955804980708486,
          0.0663931623931624,
          0.10553988202103093,
          0.012701542744461447,
          0.04352557127312284,
          0.06338839800230489,
          0.1024979355904212,
          -0.07204381612208599,
          -0.05821520456035911,
          -0.050190154802078335,
          0.1078276562147531,
          0.010741193239666158,
          0.029413246033744622,
          -0.02162532413523166,
          0.02015302295344301,
          0.010686274509803972,
          0.00019400523814128157,
          0.04281834933566109,
          0.06533364333875835,
          0.07044958533391532,
          0.07038003588321651,
          0.1291809523809524,
          0.14068351270200052,
          0.0029576173434679998,
          -0.03683170652590606,
          0.048435490784397794,
          0.05224272865319457,
          0.1305469985846308,
          0.03149470996882431,
          -0.005354593050928114,
          0.053283885632252836,
          0.11787288174094757,
          0.4296803560179634,
          -0.16906873614190676,
          0.010639571680265414,
          0.22273750486603583,
          0.06784048281494415,
          0.03419578969200465,
          -0.029543004687774266,
          0.03210849208911859,
          0.1614170764976035,
          0.07958194160112053,
          0.02993133458421493,
          0.0969233005475072,
          -0.0022438757210879734,
          -0.15368814357684857,
          0.09152063608306737,
          0.03349850957990275,
          0.0675983974477874,
          -0.09213235230244032,
          -0.20635148453272845,
          -0.15820121767436257,
          0.13983930796442423,
          0.12228127709299264,
          0.10671861530021598,
          -0.11130893971735234,
          -0.005942081777615904,
          0.022123995144630593,
          -0.022384548163750018,
          0.004033921613568525,
          -0.19420855590558372,
          -0.03378330523959949,
          -0.23371254324752233,
          0.32381863401568767,
          -0.0963061448638649,
          -0.031439902769782035,
          0.01902057259848755,
          0.09110794257753008,
          -0.011627388960662732,
          0.02498572673457744,
          0.11692880491344315,
          -0.03531588755610382,
          -0.009849402097759419,
          0.02365937100696569,
          0.014871485135225848,
          -0.0028037506777934817,
          0.02306335459741904,
          0.040173710137412444,
          0.02035169929834635,
          0.04982167285518857,
          0.08611883515025998,
          0.02116696838880383,
          -0.15870301796934827,
          0.05077306733167086,
          0.004912663755458402,
          0.025529603476371454,
          0.052355840088430305,
          -0.05550631872640732,
          -0.02550914019601025,
          -0.009427009034712386,
          0.03315852004752351,
          -0.029353002671622663,
          -0.025118772662542033,
          0.031130315231267858,
          0.03685714285714292,
          -0.0008726003490401313,
          -0.007228223396920308,
          -0.021205912652938363,
          -0.02785037666008361,
          -0.030375650819911337,
          0.07093479870023955,
          0.03710125232834671,
          -0.1286485631664558,
          0.05330636902215491,
          0.016602872580029793,
          -0.008438256658595655,
          0.013296216255814786,
          0.0032051282051281937,
          -0.008659828484950394,
          -0.0018658298702399767,
          0.005013170192879501,
          -0.019384994444176074,
          -0.037393307139953924,
          -0.08847802443861552,
          -0.05401459854014601,
          0.013325023741690423,
          -0.002738321862644666,
          -0.013009705886671719,
          -0.03042385110909429,
          -0.07131897133738418,
          0.09376445707487946,
          -0.0167223069834892,
          -0.052679284704725604,
          0.01563336198368548,
          0.0005269292797036584,
          -0.005697414618576535,
          -0.10736240630467231,
          0.03240191318732699,
          0.054444754075519075,
          0.0006606983581647352,
          -0.09821399095440886,
          -0.013929565090057161,
          0.08163947207217248,
          -0.006727419382519084,
          -0.050987438879002034,
          0.029767323307723137,
          -0.010289775640459076,
          0.1928758998910307,
          -0.001467593147238544,
          -0.001904676205045086,
          -0.0024793015882556,
          -0.05228512035670174,
          -0.018596519113089016,
          0.03159770021864117,
          -0.014396508414971199,
          0.010067060641297365,
          -0.003169797038368727,
          0.009555450087011419,
          -0.014636286708245905,
          0.011641221374045774,
          -0.007875872476891144,
          -0.01384861593066189,
          -0.0121149798351462,
          -0.00803474131060622,
          -0.03462919542868392,
          -0.029349321466786593,
          -0.011286286724177197,
          -0.006672094011043406,
          0.03944625581271044,
          0.0008741708232631318,
          -0.00529182079736934,
          -0.18867827075047783,
          0.05184194890077243,
          -0.009078620856618369,
          -0.06291100840849406,
          -0.007104525604536449,
          0.046783369803063524,
          -0.08620761737530835,
          0.017339982614265503,
          0.006318582478862966,
          0.0321319241168192,
          -0.0030525427031240504,
          -0.02406080347448425,
          0.008166080726269342,
          -0.022865214416561752,
          -0.17516319201319086,
          0.15271920696642738,
          0.000403848438056853,
          -0.016764817629179363,
          0.10802782205477479,
          0.12380391900433763,
          0.022886401986074167,
          -0.05959536585828329,
          -0.03290587950641177,
          0.045700942373446685,
          -0.006758912193954858,
          -0.004817632535078498,
          -0.015833955261512322,
          0.006927365141826458,
          0.01864441278241391,
          -0.0779482875754306,
          -0.006176183768555554,
          -0.04843000436109912,
          0.00893696005866329,
          0.015716913852233727,
          0.0009615169607120055,
          0.02260745241712092,
          -0.01830653617616218,
          -0.025857848591392618,
          -0.0031067251461988077,
          -0.006691109074243751,
          -0.010427240011073313,
          0.022985826184259706,
          0.003076432250125327,
          0.021105481972873985,
          0.011057713700885596,
          -0.03419668595823344,
          0.0058556813780217265,
          -0.0017895166039957333,
          0.0074885969092517435,
          0.007387886568912316,
          0.0018110676355505007,
          0.0018747489175556797,
          -0.005881042548451787,
          -0.0001792676914802449,
          0.08861894302747775,
          0.012455735814872693,
          0.06671818126359885,
          -0.00831141103358879,
          0.009457537195801669,
          0.08845260311535985,
          0.020696653195472203,
          -0.020876898289396872,
          0.010188362159512465,
          -0.015388347832114513,
          0.08298426554965,
          0.013569954333446876,
          0.010502180605438838,
          0.048220490931881965,
          0.010580969392389061,
          -0.03894489297643833,
          0.02750892286591533,
          -0.008433698389102906,
          0.0019427872112589561,
          0.0017863413591461264,
          -0.010637973603194517,
          0.006146404584385978,
          -0.030819872923524505,
          -0.0727781112761049,
          0.02250617599454796,
          -0.037989869368168394,
          0.026984896771511835,
          -0.0012648834620703209,
          0.03152704368530368,
          -0.004747405297449436,
          -0.01626751759984202,
          -0.006554416707074573,
          0.0014137843978794251,
          0.01223549975629834,
          -0.013764590632108442,
          -0.01956294824741578,
          -0.02750875746960635,
          0.026132711798566133,
          0.027738582785559407,
          -0.0011887620131936227,
          0.010342804458972621,
          0.06152110432705049,
          0.0015786183182244784,
          0.015714486353209267,
          -0.008788102261553576,
          -0.02242854485708956,
          0.0012208850623920409,
          0.0068887973901750055,
          -0.018433179723502224,
          0.001169703087695817,
          -0.000496142889152118,
          -0.01240972922771455,
          0.02470977365587923,
          0.0027056962025318043,
          -0.011377443941234966,
          -0.01146049481245004,
          0.003665310340373207,
          -0.007706044177030025,
          0.010197795071336113,
          0.009131907108122395,
          -0.0004294029708323821,
          -0.007334807719845404,
          -0.0027087674306779386,
          -0.0010607351215828897,
          -0.003443005389751397,
          -0.02854329119646104,
          -0.0010635999534674978,
          -0.00878404232311314,
          -0.0032896393145464,
          -0.013740843647385703,
          -0.0016390923526098389,
          -0.02982573153421242,
          0.03340443159583284,
          0.014806222707423489,
          -0.009396221340684296,
          -0.0045136001900464295,
          0.003596570474031502,
          -0.005672747036244319,
          -0.001349412407761763,
          0.007217993671427392,
          0.0063002020819535876,
          -0.00541699011103991,
          0.0028674686529683857,
          -0.024853652759449063,
          -0.01167652723077195,
          -0.040341268169370115,
          -0.07443383455895791,
          -0.01770855979603536,
          0.04567312528922973,
          -0.053703026687960675,
          -0.06169174461163085,
          0.05155376413990376,
          0.0550850077279752,
          0.010273838821828862,
          -0.00618668316448856,
          -0.03106762119679396,
          0.020519204127933843,
          -0.011391134981998507,
          0.018049751243781165,
          -0.0008210020134097329,
          -0.006534285434803833,
          0.0013981607294066833,
          -0.008396916542122157,
          -0.052533465542885516,
          -0.006028131279303461,
          0.005369777628032368,
          0.0003351276626939459,
          0.025272723465734392,
          -0.01290691500224661,
          0.0030827161004676196,
          -0.005259575521316728,
          -0.01592435929335645,
          0.0013906447534766109,
          0.008626856878340305,
          0.0008135847797061668,
          -0.004168837936425196,
          0.0026164311878598134,
          -0.0023173277661795444,
          -0.005273180020506807,
          -0.01958474451479897,
          -0.018731493799081678,
          -0.07191743380053783,
          -0.06983319197059656,
          0.03571428571428559,
          -0.02465150403521643,
          0.008349631412667424,
          0.08365037921173712,
          -0.02889006172697861,
          -0.02748109640831753,
          -0.01734820322180919,
          -0.012140543480948507,
          -0.05591710052062471,
          -0.004533644413807658,
          0.03054837936452981,
          -0.008580141624024429,
          -0.022287680517178443,
          -0.041485589356653474,
          -0.08522711468387523,
          -0.025420378873110994,
          0.02985866275623228,
          0.018510664081434758,
          0.049823016746482596,
          0.034255114183713964,
          -0.009506067994411338,
          0.00204668658037388,
          0.04485233232128061,
          0.03133007528728049,
          0.026792346507517717,
          -0.015216903235462875,
          -0.030929401930237854,
          0.0031367628607277265,
          0.02001250781738584,
          -0.004828326180257525,
          -0.01719933256321393,
          0.009481520177615277,
          -0.008590353963982555,
          -0.06456832654765632,
          -0.00019530160147307463,
          -0.030919492116645797,
          0.021395455985256495,
          -0.004820975472230038,
          0.01311651888155474,
          -0.0616017001286282,
          0.028963914300187854,
          -0.020242680489994558,
          -0.037154173563490156,
          0.00042977743668459745,
          0.005093743287612362,
          0.008975728896351676,
          0.027232291446034784,
          0.028866829656249093,
          -0.01966847032551744,
          0.00896559780386652,
          0.05143419491157486,
          0.010075428068050396,
          0.0020985500926631317,
          0.15194865239740007,
          -0.006657852488431426,
          -0.054475448020155026,
          -0.054522145694032464,
          0.031239199213038082,
          -0.0012117149633906754,
          -0.031516997496192745,
          0.014285714285714235,
          -0.059701492537313494,
          -0.01953386988598238,
          0.005899957246686682,
          0.04151082398277217,
          0.025382920260086372,
          -0.004112496683470246,
          -0.018595977088051163,
          0.003529060455520261,
          0.018340682230097105,
          -0.002550139460751666,
          0.006817758129377571,
          0.0031741833090861427,
          0.005431773236651338,
          -0.016521989981904572,
          -0.014426281965814192,
          0.019615800865800948,
          -0.005466365928088135,
          0.0008271298593878207,
          -0.0351639562783258,
          -0.026774612472714177,
          -0.016608937595820827,
          0.011952536305107175,
          0.005791560868448897,
          -0.014636636977364392,
          0.012234440670159552,
          -0.017859682052157044,
          -0.05296076444187059,
          -0.022258912737724068,
          -0.026205516292451048,
          0.020680796403339752,
          0.038132393657186014,
          -0.027639713904715757,
          0.034440842787682335,
          0.00807496459670376,
          -0.035986490121648784,
          -0.010913713453012064,
          0.027930158929187154,
          -0.03677726274701143,
          0.0043690242512506305,
          -0.014405497415206137,
          -0.006172642082707069,
          0.030411276308167645,
          -0.018551485055748107,
          0.002482100238663465,
          -0.1077675142049963,
          -0.06008965419097756,
          0.03891138953026241,
          0.0427004772834918,
          0.028477584821272606,
          -0.03733777264388105,
          0.024916181401094084,
          -0.05375159257601325,
          -0.033260553129548676,
          0.008055409169615224,
          -0.1566094100074682,
          -0.21145842557336414,
          0.1782144862436834,
          -0.008292032024399543,
          -0.04247957712638162,
          0.05560574124259765,
          0.021489017780736086,
          -0.016522386670390077,
          0.07377786190904367,
          0.028691053327456917,
          -0.0022706824900390332,
          0.06428203366540708,
          0.023683679644946665,
          0.07784171527668304,
          -0.0365305152301898,
          -0.11222863215424328,
          -0.0017100594245650358,
          -0.03031990064665313,
          -0.03961489201960866,
          0.04373218063092055,
          0.04961008062739558,
          -0.04600596062628548,
          -0.0018480221762662286,
          -0.042935860700903605,
          0.0237667541799087,
          0.024654699239663458,
          -0.019055982436882557,
          -0.01477104874446078,
          -0.001226659397573937,
          -0.0029566957787482417,
          0.011724987453807234,
          0.06164321789321803,
          0.09297880474026243,
          -0.0874397637183274,
          -0.004173409419981233,
          0.04178070475538842,
          -0.029883830713024917,
          0.016713916980493293,
          0.014566339270850603,
          0.003076544425301586,
          -0.034965034965035,
          0.012331553521484961,
          -0.0006279040562601201,
          -0.005319594537991135,
          -0.004379500568492789,
          0.07359472148204538,
          0.0016940471969426607,
          0.023361913002438506,
          0.059454265949269836,
          0.02187397975840666,
          -0.030564430244941487,
          0.011314951115017235,
          -0.0125280614092258,
          0.012980346142563715,
          -0.006913776876855016,
          0.055622380171314045,
          0.007423776803287208,
          0.01583493282149706,
          -0.006849315068493067,
          -0.030609818243587772,
          -0.012125884909231055,
          0.01599971619128704,
          0.014665316526415006,
          -0.017516087958979965,
          -0.10227670753064799,
          0.018064767850175523,
          0.0031426052964396156,
          -0.006609360076408888,
          0.03053611260672251,
          -0.004552918346021673,
          -0.07929069505885888,
          0.0024838144875605206,
          0.009463850528026008,
          -0.006035488673399536,
          0.02335748694490558,
          -0.03991297468354427,
          0.019859091096370074,
          -0.013372116511130017,
          0.012488739660961423,
          0.023173049702754023,
          0.00521739130434784,
          -0.0024378735451400235,
          0.02719747733543576,
          -0.01960859554873373,
          -0.009041449763200093,
          -0.032230033967927896,
          -0.0054689413109133556,
          -0.031229481286933702,
          0.002033295209048269,
          -0.001690974424011893,
          -0.04895193732796954,
          -0.024177389910503666,
          0.02130863296221941,
          0.021176785953625377,
          -0.02489390558690996,
          0.002153625269203152,
          -0.003402578796561695,
          0.009119496855345854,
          0.04736678092863822,
          -0.0046329748799252,
          0.0097361004355625,
          -0.021948743973610796,
          -0.021100877761923376,
          -0.030743407394319466,
          0.044934603290343045,
          -0.015002834837978152,
          -0.00017710870046483418,
          0.04579070900314419,
          -0.01723480838450131,
          0.012280248190279286,
          0.0231132677818926,
          -0.00557497087701786,
          -0.012132875909965701,
          -0.02685075385397262,
          0.03285751588475949,
          0.027514431382463345,
          -0.00832444845403102,
          -0.006326758466691507,
          0.007740324594257109,
          -0.004335976214073223,
          -0.01961760192443296,
          0.002326761993400428,
          0.00282783944624998,
          -0.006102693602693554,
          0.002752487825534722,
          -0.015498310810810878,
          -0.005061553639600258,
          0.008924337141625438,
          0.005640543543286913,
          0.021288348771989485,
          -0.006157686706885768,
          0.008707665257252861,
          -0.015936916372691345,
          4.217451815602402e-05,
          0.0006747638326585204,
          0.0005478759271746458,
          -0.0013057579714418344,
          -0.01585828764234498,
          -0.013499614296734408,
          -0.03153916329988271,
          0.012873996321715264,
          0.0003100088573959603,
          -0.006862354451675823,
          0.002808487874464971,
          0.002978439653256393,
          -0.012144313447389421,
          0.025170495333811882,
          0.00245087312355019,
          -0.001091464745688664,
          0.003977272727272663,
          0.001175395063340634,
          0.010522654143838572,
          0.004905335628227148,
          0.014044703262824365,
          0.05945443796976613,
          -0.006456755679553616,
          -0.0010831193838254372,
          -0.017669973093449975,
          0.002452884182985171,
          -0.005179234125851306,
          0.012503074526522884,
          -0.010891129195513938,
          -0.015513712648383193,
          0.00952143362022384,
          0.0032537067545304055,
          0.030378915390615324,
          -0.007888760508386827,
          0.0323280189550621,
          0.02337975569905848,
          -0.01691564982704219,
          -0.012412033098754938,
          0.003641204338122872,
          0.017749863462588777,
          0.042240024531411846,
          -0.010591739913942355,
          -0.0104821023677657,
          0.017204462642275153,
          -0.005760921747479553,
          0.058165880473944,
          0.02888834286917774,
          0.060555403930131035,
          -0.06053977546884548,
          -0.015716486902927707,
          -0.005670354136227629,
          -0.027079032991638385,
          0.004962422237405395,
          -0.016352381293162188,
          -0.004692615496544095,
          0.019626475640510233,
          -0.011291131980787239,
          0.005039335822789592,
          -0.004220474713224176,
          0.044303568194167475,
          0.0014569168863605153,
          0.013820574991340484,
          0.0031774232122723234,
          0.0027586676656903286,
          -0.016438542268111367,
          -0.006457405297144003,
          -0.010670095926595513,
          -0.010714913051115271,
          0.003586647727272796,
          -0.004883054385902863,
          0.014187675568040348,
          -0.01171025874763354,
          -0.01170710940825892,
          0.0035896331394931202,
          -0.06645682809929176,
          0.015632183908045993,
          -0.002301192092952875,
          0.022384391424357997,
          -0.014830430119457061,
          -0.008634281852991976,
          0.006058770069675923,
          -0.015545016561276714,
          -0.011623016631619243,
          -0.0020502108235657124,
          -0.18179703853011864,
          0.07390562819783963,
          0.03824775013234505,
          -0.011812194603781578,
          -0.009373521950380548,
          -0.009635834888667039,
          -0.07744225796555193,
          0.05277909738717357,
          0.019042461982762493,
          -0.004693796218394386,
          0.029496818970503158,
          -0.007000864304235077,
          -0.004439028636086695,
          0.005682811680363775,
          -0.008432582804485778,
          0.005085042959845687,
          -0.00915910676901599,
          0.0137336033101505,
          0.020495006513243652,
          0.020508892860181982,
          4.169446297530577e-05,
          0.015676464456952255,
          -0.022330774598743997,
          0.0013015913003318058,
          0.0068349547131836275,
          -0.02032401815834417,
          -0.020065467839986417,
          0.0005639668561017164,
          -0.001474158862296071,
          -0.0052540165002171735,
          0.003142869614561894,
          0.013750489534833044,
          -0.006352749281023251,
          -0.001209555488357994,
          -0.01781929847324948,
          0.01554449777621203,
          -0.0014742867054028386,
          0.01845579294771582,
          0.002600946573998897,
          -0.003402228459640999,
          -0.006742340189468399,
          0.027410207939508435,
          -0.010245044743664722,
          -0.002661709408931512,
          0.006311954587816748,
          -0.0010945064197012133,
          0.006068523747313481,
          -0.001968751309010197,
          0.008897842692856539,
          0.02362925368167068,
          -0.012557912704218466,
          -0.0027575420833847453,
          0.006727197688815467,
          0.0041405321198704215,
          0.008614354535804836,
          -0.007043108682452948,
          0.01712119359178188,
          0.009939481383511861,
          0.009246398666613587,
          0.0336190625983015,
          0.02955833682048148,
          -0.0332545078332841,
          0.006879682005809462,
          0.022851503188581868,
          -0.011838491798411677,
          0.029105794869868973,
          0.009050434274870511,
          0.01862567811934901,
          0.0072075270726079665,
          0.005710659898477077,
          0.029758149316508886,
          0.03686306545491669,
          0.03033287374433713,
          0.045083795322755194,
          -0.04219383555379397,
          0.03584046853614287,
          0.10988538241710955,
          0.11691907306403837,
          0.020177482524416313,
          -0.06125473806978321,
          -0.030749320564255167,
          0.032071995086388805,
          -0.03392154833367833,
          0.01845354474114136,
          -0.1142376268868669,
          -0.07642064010450689,
          0.087019416227337,
          -0.004140174478781566,
          -0.011403118040088978,
          -0.03826860112342678,
          0.03304494487303611,
          0.01312169312169309,
          -0.0014921364409561377,
          -0.025224902119011294,
          -0.012662885175532712,
          0.015247500155269877,
          -0.007310433426115592,
          -0.004591113576138617,
          -0.009286488159727546,
          0.02549601624746134,
          0.07455592456049498,
          0.015197913122377171,
          -0.00184336945592678,
          0.038922155688622784,
          0.016240674405451294,
          -0.03930350895791368,
          -0.009103699412397637,
          0.005178317881900929,
          0.005899459908599969,
          0.07095655047084093,
          -0.0004370741740583606,
          0.01738772570605507,
          0.05061435000252823,
          0.004812782750986511,
          -0.004981320049813109,
          0.08775392317319719,
          -0.03748285170597865,
          -0.002873563218390829,
          0.024046109510086566,
          0.047593318024224285,
          -0.02232872002063091,
          0.002527861429230782,
          0.016532187335555282,
          -0.002804020534058038,
          -0.042459768125973296,
          -0.009148614154374402,
          -0.004719131862119252,
          0.013354101289598352,
          0.02845840867992777,
          0.001450581331457812,
          -0.08423131789750904,
          0.013300740527715904,
          -0.0012771392081737387,
          0.025338637870607306,
          -0.014688900180146902,
          0.009258825184004449,
          0.008732610260816953,
          -0.0020491331476065744,
          -0.007913436692506437,
          0.007162624125020223,
          -0.002609157449952604,
          -0.0065978331326973505,
          0.06744191466057647,
          -0.01052286868245822,
          -0.012399885267965538,
          0.0008489533299076424,
          0.0009821647804637568,
          -0.028410231251254414,
          -0.007620096857857583,
          -0.004764437865716897,
          -0.15333131928144828,
          0.06370598084154477,
          -0.013521184909944806,
          0.012738686895108486,
          -0.018131570111320716,
          0.10543206628962265,
          -0.023725102919829655,
          -0.06768878272315115,
          0.013072237182671476,
          0.03994941804949814,
          -0.027892895252748406,
          0.0010721670538380579,
          0.007191125844702384,
          -0.0371673798009976,
          -0.002156249178258629,
          -0.0032150104092550924,
          -0.025062789160608112,
          0.011633267348211573,
          0.003725942207687627,
          -0.012017625851248548,
          0.05308825516961746,
          -0.007803075027593032,
          -0.02594748415470194,
          0.00026559014129401426,
          -0.00841697201423186,
          0.006908555362163504,
          0.014945616041273313,
          -0.005240403511070357,
          0.01214276307124984,
          0.01977827512621677,
          0.039223191956310854,
          -0.017287527932618008,
          0.018241335365701383,
          0.02166924341701626,
          0.01453209069946193,
          -0.0037407959845632277,
          0.03890301575607791,
          0.0037514868697958725,
          -0.0023928896991796123,
          -0.038857795545402585,
          0.010006179588344377,
          -0.0009648193905164026,
          0.017925283836623063,
          0.000856184195302534,
          0.002265791177286536,
          0.009688581314878819,
          -0.005894448252227513,
          -0.02557915057915061,
          -0.005518998089577676,
          -0.025400213447171804,
          -0.025234827468730292,
          0.017824599945078123,
          0.016212503985676197,
          -0.0008447576752268482,
          0.002149914244993667,
          0.005471725401340111,
          0.010931843789705908,
          -0.023880101496359885,
          0.00592779748311556,
          0.005747959232961453,
          0.0009365094611468727,
          0.0004318307223567519,
          0.00865686674180477,
          -0.026318292045076297,
          0.0021731168355512143,
          0.008064516129032251,
          -0.0010634441087613578,
          0.01156516900147575,
          -0.00011959147551954263,
          -0.003946990718591614,
          0.0018972597804942648,
          0.001821755597104291,
          0.021103507680528377,
          -0.005928390664542094,
          -0.01817410367017902,
          -0.004081436665706262,
          0.004604406730630117,
          0.0029515513641924507,
          0.006962388745334502,
          7.128091809827097e-05,
          0.0012829650748396038,
          0.0061455960516323405,
          -0.001462160696176995,
          -0.0015587728206702955,
          -0.005677114133648686,
          -0.002236231711668868,
          0.005126248778045239,
          0.0021823702438561465,
          0.006414504828630818,
          -0.0034337590253767925,
          0.0012979963656101212,
          0.012798152163665533,
          0.002001349747504211,
          -0.0073623336507421255,
          0.0027842770238653003,
          0.01614596700809634,
          0.013501412137493896,
          0.01821518385101606,
          -0.0082103998397971,
          0.01018530982186916,
          0.018388558230434393,
          0.006258722958827567,
          0.010099039941052768,
          -0.04591387929369861,
          0.00971463266545225,
          0.013563172312420768,
          -0.01489782465392231,
          0.007940756602426768,
          -0.015955563423917796,
          0.012661074504688896,
          -0.007950255385298699,
          0.002820558739254908,
          0.025938657975802526,
          -0.0023063533507398093,
          2.180834823573008e-05,
          0.0042089194199106394,
          -0.020826094510076554,
          0.004080817937856418,
          0.004505996951825519,
          0.001979022362952776,
          0,
          0.004169684201285939,
          -0.007452411652861812,
          -0.0008367095296812899,
          0.0018511172815021126,
          -0.034996260613259444,
          0.009049258052016285,
          0.0011520737327188613,
          -0.008732146483449554,
          0.010994263862332598,
          0.004120229652144536,
          0.008116955917305768,
          0.008407473309608449,
          0.044289558427808906,
          0.11950323152959075,
          -0.007188136744396556,
          0.014499363396233589,
          -0.004626681152362089,
          0.010406669301266547,
          0.0019555985994190728,
          0.05803297581649547,
          0.006219364359879798,
          0.003928552721177425,
          0.01836585620369391,
          -0.015267957782559627,
          0.008740894901144491,
          -0.012052128464342227,
          0.004942310704279418,
          0.05066929883803484,
          0.10886226163202739,
          0.04696929159606422,
          -0.02671853261023882,
          0.012996674251706697,
          0.10344579319481029,
          -0.022706215500254423,
          0.009774205178192386,
          0.0099837351070442,
          -0.03476131870433885,
          -0.09573674429960799,
          -0.10579764494112354,
          0.046735556599342365,
          0.06622007115612671,
          -0.0002705546370057599,
          -0.05374969930238149,
          0.04115226337448563,
          -0.012620751751186488,
          -0.010989180834621304,
          0.05227460969854203,
          0.004395996079246567,
          0.04051456454236302,
          -0.06400454739235484,
          0.03795584975556432,
          -0.01905918146447061,
          0.009990605848232414,
          -0.05428668448171514,
          0.04052703884101416,
          -0.023345135929904504,
          -0.002457908320019686,
          -0.0026179623013429243,
          0.02607849797733386,
          -0.015168158904521722,
          0.005515913640044667,
          0.007856187697544259,
          -0.003739163211458729,
          0.028285182438670065,
          -0.00934565684514177,
          -0.00037141031926435364,
          -0.01067086763962799,
          -0.001006489604614802,
          -0.021638772349288016,
          0.007592757677292283,
          0.008725364573799466,
          -0.010857730462134008,
          -0.003546858278550724,
          0.003943048267820437,
          0.001039199205318253,
          0.0029922293635407105,
          -0.002952860774136701,
          -0.04636287306312492,
          -0.029471089197669165,
          -0.09698649116730163,
          0.03450417374468007,
          0.021064340702026785,
          -0.005620017638209185,
          0.02215498052309406,
          0.008353465582360942,
          -0.00276704516695081,
          -0.005498688774215332,
          0.007315413405920568,
          -0.005032933626076708,
          -0.0026480173818578256,
          -0.003352849070733077,
          -0.025820113048378612,
          -0.005661998001647794,
          0.01798180664269111,
          -0.007308118592407875,
          0.0019189839852065127,
          0.0022809583507450437,
          0.01054496812188388,
          -0.0006704486848893021,
          0.009358173779910883,
          -0.00569237324243721,
          -0.005536415214000501,
          -0.004171119307801008,
          0.003271254500138543,
          -0.016734236177003203,
          0.006947977892797441,
          0.0003484866965204336,
          0.005904791764644424,
          -0.003515151515151471,
          -0.005508540844874732,
          0.0056613664162152855,
          0.03938909545817859,
          0.017418632252887756,
          -0.0033517900859306726,
          0.006346955933991705,
          0.006716466810824828,
          0.019168809190614366,
          -0.0055243326095287815,
          0.0010435731946183413,
          -0.026928196821221717,
          0.0025052742616034074,
          0.00164408786005521,
          0.0023636005515066394,
          -0.005780441475076947,
          -0.00029646710038699897,
          -0.0016310526055653973,
          0.006419353774052006,
          -0.0010494039713381254,
          -0.0015101029167967628,
          -0.01834590915815948,
          -0.0014234279494265145,
          0.010967633741405525,
          -0.0003483511379470672,
          -0.0029869073892768716,
          0.012000066574571644,
          -0.0030754555621340662,
          -0.0023755712093965764,
          0.00158748532402897,
          0.006686588849081243,
          0.006953783579886519,
          -0.005032737222710915,
          0.0020298253368036256,
          -0.0031529250322642755,
          0.0037856440511305767,
          0.0008326394671107629,
          0.0066881994062184535,
          0.003224656468758136,
          -0.0038119235677019914,
          0.0036319416295096385,
          0.035671012455774864,
          -0.007612273230692468,
          0.0009431144783789147,
          0.005637651345027361,
          -0.0027015209719229993,
          0.004666092538949451,
          -0.0038028147062948436,
          -0.0019243104554201862,
          -0.0116621731770018,
          0.000539237454799224,
          0.003122721364486658,
          0.03865177061770142,
          -0.00033470766328391743,
          -0.0050375150288402,
          0.0058584189916790486,
          0.03149378792256563,
          0.014757481940144368,
          0.00194679722799318,
          0.03600377002827537,
          -0.01766319561079388,
          -0.0012680591570968236,
          0.041114455682839335,
          0.015127639457926279,
          -0.0703670207739967,
          0.021112240453027287,
          0.0002559581366246011,
          0.011515168746978999,
          -0.011791657297054225,
          0.009557265370557344,
          0.018905402549834305,
          -0.010701397818242198,
          0.0012298575880815843,
          -0.015856841752627693,
          -0.004283384157151904,
          0.004259077247411147,
          0.009361436554991442,
          0.04578286163963918,
          -0.00432679387261492,
          0.014318875003374032,
          3.9915379395738526e-05,
          -0.02739416194353539,
          0.011244408574203613,
          0.016367940480216392,
          -0.008997138484062028,
          -0.005774990263097912,
          0.0018371178862337523,
          -0.008454122564552025,
          -0.004555467921346867,
          0.005163722798245951,
          -0.00028539976352581764,
          0.013716693855356121,
          0.014858721452614354,
          0.02797415330945996,
          -0.008728179551122262,
          0.0035271996369059533,
          -0.019602775659994465,
          0.0072756030051404075,
          0.0051163277590222656,
          0.003488992748623243,
          0.0025687264046911906,
          0.0024068634428500157,
          -0.006351255405667056,
          0.01345926493705596,
          0.0006024945839582241,
          0.0011786409757097438,
          -0.004337922915493619,
          0.008765052885912894,
          0.007542265992279473,
          -0.00037934827965568907,
          0.0027576436061882426,
          0.01030641722698089,
          0.04170412546199187,
          0.036270796375317715,
          0.06643995650866352,
          -0.025119850755981665,
          -0.002937184308315466,
          0.01275413421410887,
          0.02819492954022107,
          0.04577796828118297,
          -0.002479711451758293,
          -0.01259373394966612,
          0.002600807290582985,
          0.03589142299790393,
          0.0234591768252983,
          0.021619770002446748,
          0.1062327559779277,
          -0.12240956760454824,
          -0.10971205273441353,
          0.00708268676568391,
          0.002872582793119083,
          -0.00918568920105356,
          0.005371996942945989,
          -0.1431341441917856,
          0.03480508125900017,
          0.023793844662848063,
          -0.006759872812446943,
          0.004142178125878138,
          0.011839863713799081,
          0.09189085180330236,
          -0.023481727867480262,
          0.014042092440955667,
          -0.004493532205501305,
          0.02989843915846402,
          0.0031243558728126786,
          -0.003958168860242028,
          -0.030748851803997668,
          0.009913855873819433,
          0.01780287064356556,
          0.0023539925238940107,
          0.0020005436259853404,
          -0.002267819746308075,
          0.0009570418705817652,
          0.054347117494947694,
          0.019187963726298385,
          0.023032901255788607,
          0.01789879422810836,
          0.012612752570613006,
          -0.01491993479720033,
          0.010522319777289013,
          0.02234744497423291,
          0.0016205775663071798,
          -0.06461474785291654,
          -0.005742271566202106,
          0.015960836274995893,
          -0.005246652396834195,
          -0.008547008547008517,
          0.014041427763869851,
          0.0029167288835798555,
          0.019811807678564275,
          0.01826870668846836,
          0.007847372898366567,
          -0.006211945903909388,
          0.03064311412675247,
          0.032704309339061766,
          0.001918766251232995,
          0.04410080183276066,
          0.005965441579813602,
          -0.025424306454911116,
          0.01867394041124637,
          0.012675935461723187,
          0,
          0.036043289236167064,
          0.023321063394682984,
          0.0191685118424314,
          -0.015560906360049809,
          0.009536708759908974,
          0.004506281962245229,
          -0.03872473150381428,
          -0.06010428755904995,
          0.033469565217391306,
          -0.06038755058940337,
          0.05293180027222566,
          0.038738593163977875,
          0.008629582930783197,
          0.0065588674589258655,
          0.007749999999999924,
          -0.0494554300941894,
          -0.07373233092834708,
          -0.11489415849413298,
          0.06461152985151264,
          0.01687018924706285,
          0.06289898788689374,
          -0.063719278205151,
          -0.010055855271937197,
          -0.09731462848669825,
          0.03760986432289437,
          -0.006219289047883381,
          0.08176016054120594,
          0.0013196018244929775,
          -0.006856706298047133,
          -0.01301960633479804,
          0.044192005299922954,
          0.008126591962977825,
          0.020055529847293085,
          0.03778001578703827,
          -0.009232302567734108,
          -0.007474078976395293,
          0.051476733227831195,
          -0.004887205330266875,
          -0.0008072053700399762,
          0.010136485394786954,
          -0.0006229637923339526,
          0.015061534962472312,
          -0.003850590451531577,
          -0.025900347392887157,
          -0.0014880952380952328,
          0.004265378488103266,
          0.008886842015488172,
          0.00927350499602686,
          0.014875493127622708,
          -0.001138923964445815,
          0.015525204703005002,
          -0.005719725323005798,
          0.00790475021480308,
          -0.0198910457818805,
          0.035569619204612435,
          0.012270527536695441,
          0.012319338754158471,
          0.028608673931370454,
          -0.0009486010032404568,
          0.0040334832280020105,
          0.0197459505670341,
          0.054685471366357596,
          0.021961170512099004,
          0.025653556531435306,
          0.031930957190505316,
          0.011562949137331247,
          0.015011732939020694,
          0.011344058778819388,
          0.07931308753624622,
          0.018574288449821674,
          0.01809885151763746,
          0.03437914421446675,
          -0.06725739355285432,
          0.04678583027884753,
          0.0022161769838939804,
          -0.03896269023887311,
          -0.0022894220647365904,
          0.060330364092363586,
          0.02694811020667842,
          0.052450162814708934,
          0.04880993706325376,
          -0.020880401778647584,
          0.06476582402508324,
          0.06764516425876499,
          0.053102455589936204,
          -0.05674321913211433,
          -0.04449496307993994,
          -0.07425922394457019,
          0.05735039507178019,
          0.04629835791817416,
          -0.03552919165990587,
          0.05099587675306938,
          0.05312695448322935,
          0.033502500124590995,
          0.010769323501637285,
          -0.0014073588168644902,
          0.06967087478750389,
          0.06565034371615397,
          -0.045766974015088,
          0.026887151557741795,
          0.006483415430457384,
          0.04387688973408266,
          0.003528162539734314,
          -0.10090226529777457,
          0.021578189447404306,
          -0.07752979367100721,
          -0.016673515881533874,
          0.021902311955789733,
          0.05452321961755935,
          -0.040510113408738446,
          0.016210870819255208,
          0.05104649366697567,
          -0.012010478398406965,
          0.006065226283886727,
          0.014600374804558225,
          -0.049615470088272495,
          -0.00740209758042254,
          -0.04285146037128151,
          0.029857370534003058,
          0.008752375168955329,
          -0.013775880751439873,
          -0.023029787502165888,
          -0.018659002595894925,
          0.029541393686718154,
          0.022976536722961072,
          0.014656443296958699,
          0.00013453052689849088,
          0.00252499048804955,
          -0.03446345876652257,
          0.02091588384299592,
          -0.020572930845395798,
          -0.05792474706564388,
          -0.01465505614188889,
          0.026114407196540457,
          -0.01706658218138768,
          -0.05282666779761647,
          -0.10499073137095127,
          -0.03453968762194448,
          0.15472427480283124,
          0.040598453605934504,
          -0.019599979300352066,
          0.2393607896438421,
          -0.05318001135718331,
          0.05336312112034047,
          -0.0283688952784934,
          0.008958394374450673,
          -0.06475102183051051,
          -0.01825358628826934,
          0.05626914941983441,
          0.05136276190404909,
          -0.0293911378029984,
          0.011271066771809446,
          0.042855381222843825
         ]
        }
       ],
       "layout": {
        "legend": {
         "bgcolor": "#F5F6F9",
         "font": {
          "color": "#4D5663"
         }
        },
        "paper_bgcolor": "#F5F6F9",
        "plot_bgcolor": "#F5F6F9",
        "template": {
         "data": {
          "bar": [
           {
            "error_x": {
             "color": "#2a3f5f"
            },
            "error_y": {
             "color": "#2a3f5f"
            },
            "marker": {
             "line": {
              "color": "#E5ECF6",
              "width": 0.5
             },
             "pattern": {
              "fillmode": "overlay",
              "size": 10,
              "solidity": 0.2
             }
            },
            "type": "bar"
           }
          ],
          "barpolar": [
           {
            "marker": {
             "line": {
              "color": "#E5ECF6",
              "width": 0.5
             },
             "pattern": {
              "fillmode": "overlay",
              "size": 10,
              "solidity": 0.2
             }
            },
            "type": "barpolar"
           }
          ],
          "carpet": [
           {
            "aaxis": {
             "endlinecolor": "#2a3f5f",
             "gridcolor": "white",
             "linecolor": "white",
             "minorgridcolor": "white",
             "startlinecolor": "#2a3f5f"
            },
            "baxis": {
             "endlinecolor": "#2a3f5f",
             "gridcolor": "white",
             "linecolor": "white",
             "minorgridcolor": "white",
             "startlinecolor": "#2a3f5f"
            },
            "type": "carpet"
           }
          ],
          "choropleth": [
           {
            "colorbar": {
             "outlinewidth": 0,
             "ticks": ""
            },
            "type": "choropleth"
           }
          ],
          "contour": [
           {
            "colorbar": {
             "outlinewidth": 0,
             "ticks": ""
            },
            "colorscale": [
             [
              0,
              "#0d0887"
             ],
             [
              0.1111111111111111,
              "#46039f"
             ],
             [
              0.2222222222222222,
              "#7201a8"
             ],
             [
              0.3333333333333333,
              "#9c179e"
             ],
             [
              0.4444444444444444,
              "#bd3786"
             ],
             [
              0.5555555555555556,
              "#d8576b"
             ],
             [
              0.6666666666666666,
              "#ed7953"
             ],
             [
              0.7777777777777778,
              "#fb9f3a"
             ],
             [
              0.8888888888888888,
              "#fdca26"
             ],
             [
              1,
              "#f0f921"
             ]
            ],
            "type": "contour"
           }
          ],
          "contourcarpet": [
           {
            "colorbar": {
             "outlinewidth": 0,
             "ticks": ""
            },
            "type": "contourcarpet"
           }
          ],
          "heatmap": [
           {
            "colorbar": {
             "outlinewidth": 0,
             "ticks": ""
            },
            "colorscale": [
             [
              0,
              "#0d0887"
             ],
             [
              0.1111111111111111,
              "#46039f"
             ],
             [
              0.2222222222222222,
              "#7201a8"
             ],
             [
              0.3333333333333333,
              "#9c179e"
             ],
             [
              0.4444444444444444,
              "#bd3786"
             ],
             [
              0.5555555555555556,
              "#d8576b"
             ],
             [
              0.6666666666666666,
              "#ed7953"
             ],
             [
              0.7777777777777778,
              "#fb9f3a"
             ],
             [
              0.8888888888888888,
              "#fdca26"
             ],
             [
              1,
              "#f0f921"
             ]
            ],
            "type": "heatmap"
           }
          ],
          "heatmapgl": [
           {
            "colorbar": {
             "outlinewidth": 0,
             "ticks": ""
            },
            "colorscale": [
             [
              0,
              "#0d0887"
             ],
             [
              0.1111111111111111,
              "#46039f"
             ],
             [
              0.2222222222222222,
              "#7201a8"
             ],
             [
              0.3333333333333333,
              "#9c179e"
             ],
             [
              0.4444444444444444,
              "#bd3786"
             ],
             [
              0.5555555555555556,
              "#d8576b"
             ],
             [
              0.6666666666666666,
              "#ed7953"
             ],
             [
              0.7777777777777778,
              "#fb9f3a"
             ],
             [
              0.8888888888888888,
              "#fdca26"
             ],
             [
              1,
              "#f0f921"
             ]
            ],
            "type": "heatmapgl"
           }
          ],
          "histogram": [
           {
            "marker": {
             "pattern": {
              "fillmode": "overlay",
              "size": 10,
              "solidity": 0.2
             }
            },
            "type": "histogram"
           }
          ],
          "histogram2d": [
           {
            "colorbar": {
             "outlinewidth": 0,
             "ticks": ""
            },
            "colorscale": [
             [
              0,
              "#0d0887"
             ],
             [
              0.1111111111111111,
              "#46039f"
             ],
             [
              0.2222222222222222,
              "#7201a8"
             ],
             [
              0.3333333333333333,
              "#9c179e"
             ],
             [
              0.4444444444444444,
              "#bd3786"
             ],
             [
              0.5555555555555556,
              "#d8576b"
             ],
             [
              0.6666666666666666,
              "#ed7953"
             ],
             [
              0.7777777777777778,
              "#fb9f3a"
             ],
             [
              0.8888888888888888,
              "#fdca26"
             ],
             [
              1,
              "#f0f921"
             ]
            ],
            "type": "histogram2d"
           }
          ],
          "histogram2dcontour": [
           {
            "colorbar": {
             "outlinewidth": 0,
             "ticks": ""
            },
            "colorscale": [
             [
              0,
              "#0d0887"
             ],
             [
              0.1111111111111111,
              "#46039f"
             ],
             [
              0.2222222222222222,
              "#7201a8"
             ],
             [
              0.3333333333333333,
              "#9c179e"
             ],
             [
              0.4444444444444444,
              "#bd3786"
             ],
             [
              0.5555555555555556,
              "#d8576b"
             ],
             [
              0.6666666666666666,
              "#ed7953"
             ],
             [
              0.7777777777777778,
              "#fb9f3a"
             ],
             [
              0.8888888888888888,
              "#fdca26"
             ],
             [
              1,
              "#f0f921"
             ]
            ],
            "type": "histogram2dcontour"
           }
          ],
          "mesh3d": [
           {
            "colorbar": {
             "outlinewidth": 0,
             "ticks": ""
            },
            "type": "mesh3d"
           }
          ],
          "parcoords": [
           {
            "line": {
             "colorbar": {
              "outlinewidth": 0,
              "ticks": ""
             }
            },
            "type": "parcoords"
           }
          ],
          "pie": [
           {
            "automargin": true,
            "type": "pie"
           }
          ],
          "scatter": [
           {
            "marker": {
             "colorbar": {
              "outlinewidth": 0,
              "ticks": ""
             }
            },
            "type": "scatter"
           }
          ],
          "scatter3d": [
           {
            "line": {
             "colorbar": {
              "outlinewidth": 0,
              "ticks": ""
             }
            },
            "marker": {
             "colorbar": {
              "outlinewidth": 0,
              "ticks": ""
             }
            },
            "type": "scatter3d"
           }
          ],
          "scattercarpet": [
           {
            "marker": {
             "colorbar": {
              "outlinewidth": 0,
              "ticks": ""
             }
            },
            "type": "scattercarpet"
           }
          ],
          "scattergeo": [
           {
            "marker": {
             "colorbar": {
              "outlinewidth": 0,
              "ticks": ""
             }
            },
            "type": "scattergeo"
           }
          ],
          "scattergl": [
           {
            "marker": {
             "colorbar": {
              "outlinewidth": 0,
              "ticks": ""
             }
            },
            "type": "scattergl"
           }
          ],
          "scattermapbox": [
           {
            "marker": {
             "colorbar": {
              "outlinewidth": 0,
              "ticks": ""
             }
            },
            "type": "scattermapbox"
           }
          ],
          "scatterpolar": [
           {
            "marker": {
             "colorbar": {
              "outlinewidth": 0,
              "ticks": ""
             }
            },
            "type": "scatterpolar"
           }
          ],
          "scatterpolargl": [
           {
            "marker": {
             "colorbar": {
              "outlinewidth": 0,
              "ticks": ""
             }
            },
            "type": "scatterpolargl"
           }
          ],
          "scatterternary": [
           {
            "marker": {
             "colorbar": {
              "outlinewidth": 0,
              "ticks": ""
             }
            },
            "type": "scatterternary"
           }
          ],
          "surface": [
           {
            "colorbar": {
             "outlinewidth": 0,
             "ticks": ""
            },
            "colorscale": [
             [
              0,
              "#0d0887"
             ],
             [
              0.1111111111111111,
              "#46039f"
             ],
             [
              0.2222222222222222,
              "#7201a8"
             ],
             [
              0.3333333333333333,
              "#9c179e"
             ],
             [
              0.4444444444444444,
              "#bd3786"
             ],
             [
              0.5555555555555556,
              "#d8576b"
             ],
             [
              0.6666666666666666,
              "#ed7953"
             ],
             [
              0.7777777777777778,
              "#fb9f3a"
             ],
             [
              0.8888888888888888,
              "#fdca26"
             ],
             [
              1,
              "#f0f921"
             ]
            ],
            "type": "surface"
           }
          ],
          "table": [
           {
            "cells": {
             "fill": {
              "color": "#EBF0F8"
             },
             "line": {
              "color": "white"
             }
            },
            "header": {
             "fill": {
              "color": "#C8D4E3"
             },
             "line": {
              "color": "white"
             }
            },
            "type": "table"
           }
          ]
         },
         "layout": {
          "annotationdefaults": {
           "arrowcolor": "#2a3f5f",
           "arrowhead": 0,
           "arrowwidth": 1
          },
          "autotypenumbers": "strict",
          "coloraxis": {
           "colorbar": {
            "outlinewidth": 0,
            "ticks": ""
           }
          },
          "colorscale": {
           "diverging": [
            [
             0,
             "#8e0152"
            ],
            [
             0.1,
             "#c51b7d"
            ],
            [
             0.2,
             "#de77ae"
            ],
            [
             0.3,
             "#f1b6da"
            ],
            [
             0.4,
             "#fde0ef"
            ],
            [
             0.5,
             "#f7f7f7"
            ],
            [
             0.6,
             "#e6f5d0"
            ],
            [
             0.7,
             "#b8e186"
            ],
            [
             0.8,
             "#7fbc41"
            ],
            [
             0.9,
             "#4d9221"
            ],
            [
             1,
             "#276419"
            ]
           ],
           "sequential": [
            [
             0,
             "#0d0887"
            ],
            [
             0.1111111111111111,
             "#46039f"
            ],
            [
             0.2222222222222222,
             "#7201a8"
            ],
            [
             0.3333333333333333,
             "#9c179e"
            ],
            [
             0.4444444444444444,
             "#bd3786"
            ],
            [
             0.5555555555555556,
             "#d8576b"
            ],
            [
             0.6666666666666666,
             "#ed7953"
            ],
            [
             0.7777777777777778,
             "#fb9f3a"
            ],
            [
             0.8888888888888888,
             "#fdca26"
            ],
            [
             1,
             "#f0f921"
            ]
           ],
           "sequentialminus": [
            [
             0,
             "#0d0887"
            ],
            [
             0.1111111111111111,
             "#46039f"
            ],
            [
             0.2222222222222222,
             "#7201a8"
            ],
            [
             0.3333333333333333,
             "#9c179e"
            ],
            [
             0.4444444444444444,
             "#bd3786"
            ],
            [
             0.5555555555555556,
             "#d8576b"
            ],
            [
             0.6666666666666666,
             "#ed7953"
            ],
            [
             0.7777777777777778,
             "#fb9f3a"
            ],
            [
             0.8888888888888888,
             "#fdca26"
            ],
            [
             1,
             "#f0f921"
            ]
           ]
          },
          "colorway": [
           "#636efa",
           "#EF553B",
           "#00cc96",
           "#ab63fa",
           "#FFA15A",
           "#19d3f3",
           "#FF6692",
           "#B6E880",
           "#FF97FF",
           "#FECB52"
          ],
          "font": {
           "color": "#2a3f5f"
          },
          "geo": {
           "bgcolor": "white",
           "lakecolor": "white",
           "landcolor": "#E5ECF6",
           "showlakes": true,
           "showland": true,
           "subunitcolor": "white"
          },
          "hoverlabel": {
           "align": "left"
          },
          "hovermode": "closest",
          "mapbox": {
           "style": "light"
          },
          "paper_bgcolor": "white",
          "plot_bgcolor": "#E5ECF6",
          "polar": {
           "angularaxis": {
            "gridcolor": "white",
            "linecolor": "white",
            "ticks": ""
           },
           "bgcolor": "#E5ECF6",
           "radialaxis": {
            "gridcolor": "white",
            "linecolor": "white",
            "ticks": ""
           }
          },
          "scene": {
           "xaxis": {
            "backgroundcolor": "#E5ECF6",
            "gridcolor": "white",
            "gridwidth": 2,
            "linecolor": "white",
            "showbackground": true,
            "ticks": "",
            "zerolinecolor": "white"
           },
           "yaxis": {
            "backgroundcolor": "#E5ECF6",
            "gridcolor": "white",
            "gridwidth": 2,
            "linecolor": "white",
            "showbackground": true,
            "ticks": "",
            "zerolinecolor": "white"
           },
           "zaxis": {
            "backgroundcolor": "#E5ECF6",
            "gridcolor": "white",
            "gridwidth": 2,
            "linecolor": "white",
            "showbackground": true,
            "ticks": "",
            "zerolinecolor": "white"
           }
          },
          "shapedefaults": {
           "line": {
            "color": "#2a3f5f"
           }
          },
          "ternary": {
           "aaxis": {
            "gridcolor": "white",
            "linecolor": "white",
            "ticks": ""
           },
           "baxis": {
            "gridcolor": "white",
            "linecolor": "white",
            "ticks": ""
           },
           "bgcolor": "#E5ECF6",
           "caxis": {
            "gridcolor": "white",
            "linecolor": "white",
            "ticks": ""
           }
          },
          "title": {
           "x": 0.05
          },
          "xaxis": {
           "automargin": true,
           "gridcolor": "white",
           "linecolor": "white",
           "ticks": "",
           "title": {
            "standoff": 15
           },
           "zerolinecolor": "white",
           "zerolinewidth": 2
          },
          "yaxis": {
           "automargin": true,
           "gridcolor": "white",
           "linecolor": "white",
           "ticks": "",
           "title": {
            "standoff": 15
           },
           "zerolinecolor": "white",
           "zerolinewidth": 2
          }
         }
        },
        "title": {
         "font": {
          "color": "#4D5663"
         }
        },
        "xaxis": {
         "gridcolor": "#E1E5ED",
         "showgrid": true,
         "tickfont": {
          "color": "#4D5663"
         },
         "title": {
          "font": {
           "color": "#4D5663"
          },
          "text": ""
         },
         "zerolinecolor": "#E1E5ED"
        },
        "yaxis": {
         "gridcolor": "#E1E5ED",
         "showgrid": true,
         "tickfont": {
          "color": "#4D5663"
         },
         "title": {
          "font": {
           "color": "#4D5663"
          },
          "text": ""
         },
         "zerolinecolor": "#E1E5ED"
        }
       }
      },
      "text/html": [
       "<div>                            <div id=\"7a7aa309-ea50-45a4-8b86-31eafc227663\" class=\"plotly-graph-div\" style=\"height:525px; width:100%;\"></div>            <script type=\"text/javascript\">                require([\"plotly\"], function(Plotly) {                    window.PLOTLYENV=window.PLOTLYENV || {};\n",
       "                    window.PLOTLYENV.BASE_URL='https://plot.ly';                                    if (document.getElementById(\"7a7aa309-ea50-45a4-8b86-31eafc227663\")) {                    Plotly.newPlot(                        \"7a7aa309-ea50-45a4-8b86-31eafc227663\",                        [{\"line\":{\"color\":\"rgba(255, 153, 51, 1.0)\",\"dash\":\"solid\",\"shape\":\"linear\",\"width\":1.3},\"mode\":\"lines\",\"name\":\"Close_pct_change\",\"text\":\"\",\"x\":[\"2013-04-28\",\"2013-04-29\",\"2013-04-30\",\"2013-05-01\",\"2013-05-02\",\"2013-05-03\",\"2013-05-04\",\"2013-05-05\",\"2013-05-06\",\"2013-05-07\",\"2013-05-08\",\"2013-05-09\",\"2013-05-10\",\"2013-05-11\",\"2013-05-12\",\"2013-05-13\",\"2013-05-14\",\"2013-05-15\",\"2013-05-16\",\"2013-05-17\",\"2013-05-18\",\"2013-05-19\",\"2013-05-20\",\"2013-05-21\",\"2013-05-22\",\"2013-05-23\",\"2013-05-24\",\"2013-05-25\",\"2013-05-26\",\"2013-05-27\",\"2013-05-28\",\"2013-05-29\",\"2013-05-30\",\"2013-05-31\",\"2013-06-01\",\"2013-06-02\",\"2013-06-03\",\"2013-06-04\",\"2013-06-05\",\"2013-06-06\",\"2013-06-07\",\"2013-06-08\",\"2013-06-09\",\"2013-06-10\",\"2013-06-11\",\"2013-06-12\",\"2013-06-13\",\"2013-06-14\",\"2013-06-15\",\"2013-06-16\",\"2013-06-17\",\"2013-06-18\",\"2013-06-19\",\"2013-06-20\",\"2013-06-21\",\"2013-06-22\",\"2013-06-23\",\"2013-06-24\",\"2013-06-25\",\"2013-06-26\",\"2013-06-27\",\"2013-06-28\",\"2013-06-29\",\"2013-06-30\",\"2013-07-01\",\"2013-07-02\",\"2013-07-03\",\"2013-07-04\",\"2013-07-05\",\"2013-07-06\",\"2013-07-07\",\"2013-07-08\",\"2013-07-09\",\"2013-07-10\",\"2013-07-11\",\"2013-07-12\",\"2013-07-13\",\"2013-07-14\",\"2013-07-15\",\"2013-07-16\",\"2013-07-17\",\"2013-07-18\",\"2013-07-19\",\"2013-07-20\",\"2013-07-21\",\"2013-07-22\",\"2013-07-23\",\"2013-07-24\",\"2013-07-25\",\"2013-07-26\",\"2013-07-27\",\"2013-07-28\",\"2013-07-29\",\"2013-07-30\",\"2013-07-31\",\"2013-08-01\",\"2013-08-02\",\"2013-08-03\",\"2013-08-04\",\"2013-08-05\",\"2013-08-06\",\"2013-08-07\",\"2013-08-08\",\"2013-08-09\",\"2013-08-10\",\"2013-08-11\",\"2013-08-12\",\"2013-08-13\",\"2013-08-14\",\"2013-08-15\",\"2013-08-16\",\"2013-08-17\",\"2013-08-18\",\"2013-08-19\",\"2013-08-20\",\"2013-08-21\",\"2013-08-22\",\"2013-08-23\",\"2013-08-24\",\"2013-08-25\",\"2013-08-26\",\"2013-08-27\",\"2013-08-28\",\"2013-08-29\",\"2013-08-30\",\"2013-08-31\",\"2013-09-01\",\"2013-09-02\",\"2013-09-03\",\"2013-09-04\",\"2013-09-05\",\"2013-09-06\",\"2013-09-07\",\"2013-09-08\",\"2013-09-09\",\"2013-09-10\",\"2013-09-11\",\"2013-09-12\",\"2013-09-13\",\"2013-09-14\",\"2013-09-15\",\"2013-09-16\",\"2013-09-17\",\"2013-09-18\",\"2013-09-19\",\"2013-09-20\",\"2013-09-21\",\"2013-09-22\",\"2013-09-23\",\"2013-09-24\",\"2013-09-25\",\"2013-09-26\",\"2013-09-27\",\"2013-09-28\",\"2013-09-29\",\"2013-09-30\",\"2013-10-01\",\"2013-10-02\",\"2013-10-03\",\"2013-10-04\",\"2013-10-05\",\"2013-10-06\",\"2013-10-07\",\"2013-10-08\",\"2013-10-09\",\"2013-10-10\",\"2013-10-11\",\"2013-10-12\",\"2013-10-13\",\"2013-10-14\",\"2013-10-15\",\"2013-10-16\",\"2013-10-17\",\"2013-10-18\",\"2013-10-19\",\"2013-10-20\",\"2013-10-21\",\"2013-10-22\",\"2013-10-23\",\"2013-10-24\",\"2013-10-25\",\"2013-10-26\",\"2013-10-27\",\"2013-10-28\",\"2013-10-29\",\"2013-10-30\",\"2013-10-31\",\"2013-11-01\",\"2013-11-02\",\"2013-11-03\",\"2013-11-04\",\"2013-11-05\",\"2013-11-06\",\"2013-11-07\",\"2013-11-08\",\"2013-11-09\",\"2013-11-10\",\"2013-11-11\",\"2013-11-12\",\"2013-11-13\",\"2013-11-14\",\"2013-11-15\",\"2013-11-16\",\"2013-11-17\",\"2013-11-18\",\"2013-11-19\",\"2013-11-20\",\"2013-11-21\",\"2013-11-22\",\"2013-11-23\",\"2013-11-24\",\"2013-11-25\",\"2013-11-26\",\"2013-11-27\",\"2013-11-28\",\"2013-11-29\",\"2013-11-30\",\"2013-12-01\",\"2013-12-02\",\"2013-12-03\",\"2013-12-04\",\"2013-12-05\",\"2013-12-06\",\"2013-12-07\",\"2013-12-08\",\"2013-12-09\",\"2013-12-10\",\"2013-12-11\",\"2013-12-12\",\"2013-12-13\",\"2013-12-14\",\"2013-12-15\",\"2013-12-16\",\"2013-12-17\",\"2013-12-18\",\"2013-12-19\",\"2013-12-20\",\"2013-12-21\",\"2013-12-22\",\"2013-12-23\",\"2013-12-24\",\"2013-12-25\",\"2013-12-26\",\"2013-12-27\",\"2013-12-28\",\"2013-12-29\",\"2013-12-30\",\"2013-12-31\",\"2014-01-01\",\"2014-01-02\",\"2014-01-03\",\"2014-01-04\",\"2014-01-05\",\"2014-01-06\",\"2014-01-07\",\"2014-01-08\",\"2014-01-09\",\"2014-01-10\",\"2014-01-11\",\"2014-01-12\",\"2014-01-13\",\"2014-01-14\",\"2014-01-15\",\"2014-01-16\",\"2014-01-17\",\"2014-01-18\",\"2014-01-19\",\"2014-01-20\",\"2014-01-21\",\"2014-01-22\",\"2014-01-23\",\"2014-01-24\",\"2014-01-25\",\"2014-01-26\",\"2014-01-27\",\"2014-01-28\",\"2014-01-29\",\"2014-01-30\",\"2014-01-31\",\"2014-02-01\",\"2014-02-02\",\"2014-02-03\",\"2014-02-04\",\"2014-02-05\",\"2014-02-06\",\"2014-02-07\",\"2014-02-08\",\"2014-02-09\",\"2014-02-10\",\"2014-02-11\",\"2014-02-12\",\"2014-02-13\",\"2014-02-14\",\"2014-02-15\",\"2014-02-16\",\"2014-02-17\",\"2014-02-18\",\"2014-02-19\",\"2014-02-20\",\"2014-02-21\",\"2014-02-22\",\"2014-02-23\",\"2014-02-24\",\"2014-02-25\",\"2014-02-26\",\"2014-02-27\",\"2014-02-28\",\"2014-03-01\",\"2014-03-02\",\"2014-03-03\",\"2014-03-04\",\"2014-03-05\",\"2014-03-06\",\"2014-03-07\",\"2014-03-08\",\"2014-03-09\",\"2014-03-10\",\"2014-03-11\",\"2014-03-12\",\"2014-03-13\",\"2014-03-14\",\"2014-03-15\",\"2014-03-16\",\"2014-03-17\",\"2014-03-18\",\"2014-03-19\",\"2014-03-20\",\"2014-03-21\",\"2014-03-22\",\"2014-03-23\",\"2014-03-24\",\"2014-03-25\",\"2014-03-26\",\"2014-03-27\",\"2014-03-28\",\"2014-03-29\",\"2014-03-30\",\"2014-03-31\",\"2014-04-01\",\"2014-04-02\",\"2014-04-03\",\"2014-04-04\",\"2014-04-05\",\"2014-04-06\",\"2014-04-07\",\"2014-04-08\",\"2014-04-09\",\"2014-04-10\",\"2014-04-11\",\"2014-04-12\",\"2014-04-13\",\"2014-04-14\",\"2014-04-15\",\"2014-04-16\",\"2014-04-17\",\"2014-04-18\",\"2014-04-19\",\"2014-04-20\",\"2014-04-21\",\"2014-04-22\",\"2014-04-23\",\"2014-04-24\",\"2014-04-25\",\"2014-04-26\",\"2014-04-27\",\"2014-04-28\",\"2014-04-29\",\"2014-04-30\",\"2014-05-01\",\"2014-05-02\",\"2014-05-03\",\"2014-05-04\",\"2014-05-05\",\"2014-05-06\",\"2014-05-07\",\"2014-05-08\",\"2014-05-09\",\"2014-05-10\",\"2014-05-11\",\"2014-05-12\",\"2014-05-13\",\"2014-05-14\",\"2014-05-15\",\"2014-05-16\",\"2014-05-17\",\"2014-05-18\",\"2014-05-19\",\"2014-05-20\",\"2014-05-21\",\"2014-05-22\",\"2014-05-23\",\"2014-05-24\",\"2014-05-25\",\"2014-05-26\",\"2014-05-27\",\"2014-05-28\",\"2014-05-29\",\"2014-05-30\",\"2014-05-31\",\"2014-06-01\",\"2014-06-02\",\"2014-06-03\",\"2014-06-04\",\"2014-06-05\",\"2014-06-06\",\"2014-06-07\",\"2014-06-08\",\"2014-06-09\",\"2014-06-10\",\"2014-06-11\",\"2014-06-12\",\"2014-06-13\",\"2014-06-14\",\"2014-06-15\",\"2014-06-16\",\"2014-06-17\",\"2014-06-18\",\"2014-06-19\",\"2014-06-20\",\"2014-06-21\",\"2014-06-22\",\"2014-06-23\",\"2014-06-24\",\"2014-06-25\",\"2014-06-26\",\"2014-06-27\",\"2014-06-28\",\"2014-06-29\",\"2014-06-30\",\"2014-07-01\",\"2014-07-02\",\"2014-07-03\",\"2014-07-04\",\"2014-07-05\",\"2014-07-06\",\"2014-07-07\",\"2014-07-08\",\"2014-07-09\",\"2014-07-10\",\"2014-07-11\",\"2014-07-12\",\"2014-07-13\",\"2014-07-14\",\"2014-07-15\",\"2014-07-16\",\"2014-07-17\",\"2014-07-18\",\"2014-07-19\",\"2014-07-20\",\"2014-07-21\",\"2014-07-22\",\"2014-07-23\",\"2014-07-24\",\"2014-07-25\",\"2014-07-26\",\"2014-07-27\",\"2014-07-28\",\"2014-07-29\",\"2014-07-30\",\"2014-07-31\",\"2014-08-01\",\"2014-08-02\",\"2014-08-03\",\"2014-08-04\",\"2014-08-05\",\"2014-08-06\",\"2014-08-07\",\"2014-08-08\",\"2014-08-09\",\"2014-08-10\",\"2014-08-11\",\"2014-08-12\",\"2014-08-13\",\"2014-08-14\",\"2014-08-15\",\"2014-08-16\",\"2014-08-17\",\"2014-08-18\",\"2014-08-19\",\"2014-08-20\",\"2014-08-21\",\"2014-08-22\",\"2014-08-23\",\"2014-08-24\",\"2014-08-25\",\"2014-08-26\",\"2014-08-27\",\"2014-08-28\",\"2014-08-29\",\"2014-08-30\",\"2014-08-31\",\"2014-09-01\",\"2014-09-02\",\"2014-09-03\",\"2014-09-04\",\"2014-09-05\",\"2014-09-06\",\"2014-09-07\",\"2014-09-08\",\"2014-09-09\",\"2014-09-10\",\"2014-09-11\",\"2014-09-12\",\"2014-09-13\",\"2014-09-14\",\"2014-09-15\",\"2014-09-16\",\"2014-09-17\",\"2014-09-18\",\"2014-09-19\",\"2014-09-20\",\"2014-09-21\",\"2014-09-22\",\"2014-09-23\",\"2014-09-24\",\"2014-09-25\",\"2014-09-26\",\"2014-09-27\",\"2014-09-28\",\"2014-09-29\",\"2014-09-30\",\"2014-10-01\",\"2014-10-02\",\"2014-10-03\",\"2014-10-04\",\"2014-10-05\",\"2014-10-06\",\"2014-10-07\",\"2014-10-08\",\"2014-10-09\",\"2014-10-10\",\"2014-10-11\",\"2014-10-12\",\"2014-10-13\",\"2014-10-14\",\"2014-10-15\",\"2014-10-16\",\"2014-10-17\",\"2014-10-18\",\"2014-10-19\",\"2014-10-20\",\"2014-10-21\",\"2014-10-22\",\"2014-10-23\",\"2014-10-24\",\"2014-10-25\",\"2014-10-26\",\"2014-10-27\",\"2014-10-28\",\"2014-10-29\",\"2014-10-30\",\"2014-10-31\",\"2014-11-01\",\"2014-11-02\",\"2014-11-03\",\"2014-11-04\",\"2014-11-05\",\"2014-11-06\",\"2014-11-07\",\"2014-11-08\",\"2014-11-09\",\"2014-11-10\",\"2014-11-11\",\"2014-11-12\",\"2014-11-13\",\"2014-11-14\",\"2014-11-15\",\"2014-11-16\",\"2014-11-17\",\"2014-11-18\",\"2014-11-19\",\"2014-11-20\",\"2014-11-21\",\"2014-11-22\",\"2014-11-23\",\"2014-11-24\",\"2014-11-25\",\"2014-11-26\",\"2014-11-27\",\"2014-11-28\",\"2014-11-29\",\"2014-11-30\",\"2014-12-01\",\"2014-12-02\",\"2014-12-03\",\"2014-12-04\",\"2014-12-05\",\"2014-12-06\",\"2014-12-07\",\"2014-12-08\",\"2014-12-09\",\"2014-12-10\",\"2014-12-11\",\"2014-12-12\",\"2014-12-13\",\"2014-12-14\",\"2014-12-15\",\"2014-12-16\",\"2014-12-17\",\"2014-12-18\",\"2014-12-19\",\"2014-12-20\",\"2014-12-21\",\"2014-12-22\",\"2014-12-23\",\"2014-12-24\",\"2014-12-25\",\"2014-12-26\",\"2014-12-27\",\"2014-12-28\",\"2014-12-29\",\"2014-12-30\",\"2014-12-31\",\"2015-01-01\",\"2015-01-02\",\"2015-01-03\",\"2015-01-04\",\"2015-01-05\",\"2015-01-06\",\"2015-01-07\",\"2015-01-08\",\"2015-01-09\",\"2015-01-10\",\"2015-01-11\",\"2015-01-12\",\"2015-01-13\",\"2015-01-14\",\"2015-01-15\",\"2015-01-16\",\"2015-01-17\",\"2015-01-18\",\"2015-01-19\",\"2015-01-20\",\"2015-01-21\",\"2015-01-22\",\"2015-01-23\",\"2015-01-24\",\"2015-01-25\",\"2015-01-26\",\"2015-01-27\",\"2015-01-28\",\"2015-01-29\",\"2015-01-30\",\"2015-01-31\",\"2015-02-01\",\"2015-02-02\",\"2015-02-03\",\"2015-02-04\",\"2015-02-05\",\"2015-02-06\",\"2015-02-07\",\"2015-02-08\",\"2015-02-09\",\"2015-02-10\",\"2015-02-11\",\"2015-02-12\",\"2015-02-13\",\"2015-02-14\",\"2015-02-15\",\"2015-02-16\",\"2015-02-17\",\"2015-02-18\",\"2015-02-19\",\"2015-02-20\",\"2015-02-21\",\"2015-02-22\",\"2015-02-23\",\"2015-02-24\",\"2015-02-25\",\"2015-02-26\",\"2015-02-27\",\"2015-02-28\",\"2015-03-01\",\"2015-03-02\",\"2015-03-03\",\"2015-03-04\",\"2015-03-05\",\"2015-03-06\",\"2015-03-07\",\"2015-03-08\",\"2015-03-09\",\"2015-03-10\",\"2015-03-11\",\"2015-03-12\",\"2015-03-13\",\"2015-03-14\",\"2015-03-15\",\"2015-03-16\",\"2015-03-17\",\"2015-03-18\",\"2015-03-19\",\"2015-03-20\",\"2015-03-21\",\"2015-03-22\",\"2015-03-23\",\"2015-03-24\",\"2015-03-25\",\"2015-03-26\",\"2015-03-27\",\"2015-03-28\",\"2015-03-29\",\"2015-03-30\",\"2015-03-31\",\"2015-04-01\",\"2015-04-02\",\"2015-04-03\",\"2015-04-04\",\"2015-04-05\",\"2015-04-06\",\"2015-04-07\",\"2015-04-08\",\"2015-04-09\",\"2015-04-10\",\"2015-04-11\",\"2015-04-12\",\"2015-04-13\",\"2015-04-14\",\"2015-04-15\",\"2015-04-16\",\"2015-04-17\",\"2015-04-18\",\"2015-04-19\",\"2015-04-20\",\"2015-04-21\",\"2015-04-22\",\"2015-04-23\",\"2015-04-24\",\"2015-04-25\",\"2015-04-26\",\"2015-04-27\",\"2015-04-28\",\"2015-04-29\",\"2015-04-30\",\"2015-05-01\",\"2015-05-02\",\"2015-05-03\",\"2015-05-04\",\"2015-05-05\",\"2015-05-06\",\"2015-05-07\",\"2015-05-08\",\"2015-05-09\",\"2015-05-10\",\"2015-05-11\",\"2015-05-12\",\"2015-05-13\",\"2015-05-14\",\"2015-05-15\",\"2015-05-16\",\"2015-05-17\",\"2015-05-18\",\"2015-05-19\",\"2015-05-20\",\"2015-05-21\",\"2015-05-22\",\"2015-05-23\",\"2015-05-24\",\"2015-05-25\",\"2015-05-26\",\"2015-05-27\",\"2015-05-28\",\"2015-05-29\",\"2015-05-30\",\"2015-05-31\",\"2015-06-01\",\"2015-06-02\",\"2015-06-03\",\"2015-06-04\",\"2015-06-05\",\"2015-06-06\",\"2015-06-07\",\"2015-06-08\",\"2015-06-09\",\"2015-06-10\",\"2015-06-11\",\"2015-06-12\",\"2015-06-13\",\"2015-06-14\",\"2015-06-15\",\"2015-06-16\",\"2015-06-17\",\"2015-06-18\",\"2015-06-19\",\"2015-06-20\",\"2015-06-21\",\"2015-06-22\",\"2015-06-23\",\"2015-06-24\",\"2015-06-25\",\"2015-06-26\",\"2015-06-27\",\"2015-06-28\",\"2015-06-29\",\"2015-06-30\",\"2015-07-01\",\"2015-07-02\",\"2015-07-03\",\"2015-07-04\",\"2015-07-05\",\"2015-07-06\",\"2015-07-07\",\"2015-07-08\",\"2015-07-09\",\"2015-07-10\",\"2015-07-11\",\"2015-07-12\",\"2015-07-13\",\"2015-07-14\",\"2015-07-15\",\"2015-07-16\",\"2015-07-17\",\"2015-07-18\",\"2015-07-19\",\"2015-07-20\",\"2015-07-21\",\"2015-07-22\",\"2015-07-23\",\"2015-07-24\",\"2015-07-25\",\"2015-07-26\",\"2015-07-27\",\"2015-07-28\",\"2015-07-29\",\"2015-07-30\",\"2015-07-31\",\"2015-08-01\",\"2015-08-02\",\"2015-08-03\",\"2015-08-04\",\"2015-08-05\",\"2015-08-06\",\"2015-08-07\",\"2015-08-08\",\"2015-08-09\",\"2015-08-10\",\"2015-08-11\",\"2015-08-12\",\"2015-08-13\",\"2015-08-14\",\"2015-08-15\",\"2015-08-16\",\"2015-08-17\",\"2015-08-18\",\"2015-08-19\",\"2015-08-20\",\"2015-08-21\",\"2015-08-22\",\"2015-08-23\",\"2015-08-24\",\"2015-08-25\",\"2015-08-26\",\"2015-08-27\",\"2015-08-28\",\"2015-08-29\",\"2015-08-30\",\"2015-08-31\",\"2015-09-01\",\"2015-09-02\",\"2015-09-03\",\"2015-09-04\",\"2015-09-05\",\"2015-09-06\",\"2015-09-07\",\"2015-09-08\",\"2015-09-09\",\"2015-09-10\",\"2015-09-11\",\"2015-09-12\",\"2015-09-13\",\"2015-09-14\",\"2015-09-15\",\"2015-09-16\",\"2015-09-17\",\"2015-09-18\",\"2015-09-19\",\"2015-09-20\",\"2015-09-21\",\"2015-09-22\",\"2015-09-23\",\"2015-09-24\",\"2015-09-25\",\"2015-09-26\",\"2015-09-27\",\"2015-09-28\",\"2015-09-29\",\"2015-09-30\",\"2015-10-01\",\"2015-10-02\",\"2015-10-03\",\"2015-10-04\",\"2015-10-05\",\"2015-10-06\",\"2015-10-07\",\"2015-10-08\",\"2015-10-09\",\"2015-10-10\",\"2015-10-11\",\"2015-10-12\",\"2015-10-13\",\"2015-10-14\",\"2015-10-15\",\"2015-10-16\",\"2015-10-17\",\"2015-10-18\",\"2015-10-19\",\"2015-10-20\",\"2015-10-21\",\"2015-10-22\",\"2015-10-23\",\"2015-10-24\",\"2015-10-25\",\"2015-10-26\",\"2015-10-27\",\"2015-10-28\",\"2015-10-29\",\"2015-10-30\",\"2015-10-31\",\"2015-11-01\",\"2015-11-02\",\"2015-11-03\",\"2015-11-04\",\"2015-11-05\",\"2015-11-06\",\"2015-11-07\",\"2015-11-08\",\"2015-11-09\",\"2015-11-10\",\"2015-11-11\",\"2015-11-12\",\"2015-11-13\",\"2015-11-14\",\"2015-11-15\",\"2015-11-16\",\"2015-11-17\",\"2015-11-18\",\"2015-11-19\",\"2015-11-20\",\"2015-11-21\",\"2015-11-22\",\"2015-11-23\",\"2015-11-24\",\"2015-11-25\",\"2015-11-26\",\"2015-11-27\",\"2015-11-28\",\"2015-11-29\",\"2015-11-30\",\"2015-12-01\",\"2015-12-02\",\"2015-12-03\",\"2015-12-04\",\"2015-12-05\",\"2015-12-06\",\"2015-12-07\",\"2015-12-08\",\"2015-12-09\",\"2015-12-10\",\"2015-12-11\",\"2015-12-12\",\"2015-12-13\",\"2015-12-14\",\"2015-12-15\",\"2015-12-16\",\"2015-12-17\",\"2015-12-18\",\"2015-12-19\",\"2015-12-20\",\"2015-12-21\",\"2015-12-22\",\"2015-12-23\",\"2015-12-24\",\"2015-12-25\",\"2015-12-26\",\"2015-12-27\",\"2015-12-28\",\"2015-12-29\",\"2015-12-30\",\"2015-12-31\",\"2016-01-01\",\"2016-01-02\",\"2016-01-03\",\"2016-01-04\",\"2016-01-05\",\"2016-01-06\",\"2016-01-07\",\"2016-01-08\",\"2016-01-09\",\"2016-01-10\",\"2016-01-11\",\"2016-01-12\",\"2016-01-13\",\"2016-01-14\",\"2016-01-15\",\"2016-01-16\",\"2016-01-17\",\"2016-01-18\",\"2016-01-19\",\"2016-01-20\",\"2016-01-21\",\"2016-01-22\",\"2016-01-23\",\"2016-01-24\",\"2016-01-25\",\"2016-01-26\",\"2016-01-27\",\"2016-01-28\",\"2016-01-29\",\"2016-01-30\",\"2016-01-31\",\"2016-02-01\",\"2016-02-02\",\"2016-02-03\",\"2016-02-04\",\"2016-02-05\",\"2016-02-06\",\"2016-02-07\",\"2016-02-08\",\"2016-02-09\",\"2016-02-10\",\"2016-02-11\",\"2016-02-12\",\"2016-02-13\",\"2016-02-14\",\"2016-02-15\",\"2016-02-16\",\"2016-02-17\",\"2016-02-18\",\"2016-02-19\",\"2016-02-20\",\"2016-02-21\",\"2016-02-22\",\"2016-02-23\",\"2016-02-24\",\"2016-02-25\",\"2016-02-26\",\"2016-02-27\",\"2016-02-28\",\"2016-02-29\",\"2016-03-01\",\"2016-03-02\",\"2016-03-03\",\"2016-03-04\",\"2016-03-05\",\"2016-03-06\",\"2016-03-07\",\"2016-03-08\",\"2016-03-09\",\"2016-03-10\",\"2016-03-11\",\"2016-03-12\",\"2016-03-13\",\"2016-03-14\",\"2016-03-15\",\"2016-03-16\",\"2016-03-17\",\"2016-03-18\",\"2016-03-19\",\"2016-03-20\",\"2016-03-21\",\"2016-03-22\",\"2016-03-23\",\"2016-03-24\",\"2016-03-25\",\"2016-03-26\",\"2016-03-27\",\"2016-03-28\",\"2016-03-29\",\"2016-03-30\",\"2016-03-31\",\"2016-04-01\",\"2016-04-02\",\"2016-04-03\",\"2016-04-04\",\"2016-04-05\",\"2016-04-06\",\"2016-04-07\",\"2016-04-08\",\"2016-04-09\",\"2016-04-10\",\"2016-04-11\",\"2016-04-12\",\"2016-04-13\",\"2016-04-14\",\"2016-04-15\",\"2016-04-16\",\"2016-04-17\",\"2016-04-18\",\"2016-04-19\",\"2016-04-20\",\"2016-04-21\",\"2016-04-22\",\"2016-04-23\",\"2016-04-24\",\"2016-04-25\",\"2016-04-26\",\"2016-04-27\",\"2016-04-28\",\"2016-04-29\",\"2016-04-30\",\"2016-05-01\",\"2016-05-02\",\"2016-05-03\",\"2016-05-04\",\"2016-05-05\",\"2016-05-06\",\"2016-05-07\",\"2016-05-08\",\"2016-05-09\",\"2016-05-10\",\"2016-05-11\",\"2016-05-12\",\"2016-05-13\",\"2016-05-14\",\"2016-05-15\",\"2016-05-16\",\"2016-05-17\",\"2016-05-18\",\"2016-05-19\",\"2016-05-20\",\"2016-05-21\",\"2016-05-22\",\"2016-05-23\",\"2016-05-24\",\"2016-05-25\",\"2016-05-26\",\"2016-05-27\",\"2016-05-28\",\"2016-05-29\",\"2016-05-30\",\"2016-05-31\",\"2016-06-01\",\"2016-06-02\",\"2016-06-03\",\"2016-06-04\",\"2016-06-05\",\"2016-06-06\",\"2016-06-07\",\"2016-06-08\",\"2016-06-09\",\"2016-06-10\",\"2016-06-11\",\"2016-06-12\",\"2016-06-13\",\"2016-06-14\",\"2016-06-15\",\"2016-06-16\",\"2016-06-17\",\"2016-06-18\",\"2016-06-19\",\"2016-06-20\",\"2016-06-21\",\"2016-06-22\",\"2016-06-23\",\"2016-06-24\",\"2016-06-25\",\"2016-06-26\",\"2016-06-27\",\"2016-06-28\",\"2016-06-29\",\"2016-06-30\",\"2016-07-01\",\"2016-07-02\",\"2016-07-03\",\"2016-07-04\",\"2016-07-05\",\"2016-07-06\",\"2016-07-07\",\"2016-07-08\",\"2016-07-09\",\"2016-07-10\",\"2016-07-11\",\"2016-07-12\",\"2016-07-13\",\"2016-07-14\",\"2016-07-15\",\"2016-07-16\",\"2016-07-17\",\"2016-07-18\",\"2016-07-19\",\"2016-07-20\",\"2016-07-21\",\"2016-07-22\",\"2016-07-23\",\"2016-07-24\",\"2016-07-25\",\"2016-07-26\",\"2016-07-27\",\"2016-07-28\",\"2016-07-29\",\"2016-07-30\",\"2016-07-31\",\"2016-08-01\",\"2016-08-02\",\"2016-08-03\",\"2016-08-04\",\"2016-08-05\",\"2016-08-06\",\"2016-08-07\",\"2016-08-08\",\"2016-08-09\",\"2016-08-10\",\"2016-08-11\",\"2016-08-12\",\"2016-08-13\",\"2016-08-14\",\"2016-08-15\",\"2016-08-16\",\"2016-08-17\",\"2016-08-18\",\"2016-08-19\",\"2016-08-20\",\"2016-08-21\",\"2016-08-22\",\"2016-08-23\",\"2016-08-24\",\"2016-08-25\",\"2016-08-26\",\"2016-08-27\",\"2016-08-28\",\"2016-08-29\",\"2016-08-30\",\"2016-08-31\",\"2016-09-01\",\"2016-09-02\",\"2016-09-03\",\"2016-09-04\",\"2016-09-05\",\"2016-09-06\",\"2016-09-07\",\"2016-09-08\",\"2016-09-09\",\"2016-09-10\",\"2016-09-11\",\"2016-09-12\",\"2016-09-13\",\"2016-09-14\",\"2016-09-15\",\"2016-09-16\",\"2016-09-17\",\"2016-09-18\",\"2016-09-19\",\"2016-09-20\",\"2016-09-21\",\"2016-09-22\",\"2016-09-23\",\"2016-09-24\",\"2016-09-25\",\"2016-09-26\",\"2016-09-27\",\"2016-09-28\",\"2016-09-29\",\"2016-09-30\",\"2016-10-01\",\"2016-10-02\",\"2016-10-03\",\"2016-10-04\",\"2016-10-05\",\"2016-10-06\",\"2016-10-07\",\"2016-10-08\",\"2016-10-09\",\"2016-10-10\",\"2016-10-11\",\"2016-10-12\",\"2016-10-13\",\"2016-10-14\",\"2016-10-15\",\"2016-10-16\",\"2016-10-17\",\"2016-10-18\",\"2016-10-19\",\"2016-10-20\",\"2016-10-21\",\"2016-10-22\",\"2016-10-23\",\"2016-10-24\",\"2016-10-25\",\"2016-10-26\",\"2016-10-27\",\"2016-10-28\",\"2016-10-29\",\"2016-10-30\",\"2016-10-31\",\"2016-11-01\",\"2016-11-02\",\"2016-11-03\",\"2016-11-04\",\"2016-11-05\",\"2016-11-06\",\"2016-11-07\",\"2016-11-08\",\"2016-11-09\",\"2016-11-10\",\"2016-11-11\",\"2016-11-12\",\"2016-11-13\",\"2016-11-14\",\"2016-11-15\",\"2016-11-16\",\"2016-11-17\",\"2016-11-18\",\"2016-11-19\",\"2016-11-20\",\"2016-11-21\",\"2016-11-22\",\"2016-11-23\",\"2016-11-24\",\"2016-11-25\",\"2016-11-26\",\"2016-11-27\",\"2016-11-28\",\"2016-11-29\",\"2016-11-30\",\"2016-12-01\",\"2016-12-02\",\"2016-12-03\",\"2016-12-04\",\"2016-12-05\",\"2016-12-06\",\"2016-12-07\",\"2016-12-08\",\"2016-12-09\",\"2016-12-10\",\"2016-12-11\",\"2016-12-12\",\"2016-12-13\",\"2016-12-14\",\"2016-12-15\",\"2016-12-16\",\"2016-12-17\",\"2016-12-18\",\"2016-12-19\",\"2016-12-20\",\"2016-12-21\",\"2016-12-22\",\"2016-12-23\",\"2016-12-24\",\"2016-12-25\",\"2016-12-26\",\"2016-12-27\",\"2016-12-28\",\"2016-12-29\",\"2016-12-30\",\"2016-12-31\",\"2017-01-01\",\"2017-01-02\",\"2017-01-03\",\"2017-01-04\",\"2017-01-05\",\"2017-01-06\",\"2017-01-07\",\"2017-01-08\",\"2017-01-09\",\"2017-01-10\",\"2017-01-11\",\"2017-01-12\",\"2017-01-13\",\"2017-01-14\",\"2017-01-15\",\"2017-01-16\",\"2017-01-17\",\"2017-01-18\",\"2017-01-19\",\"2017-01-20\",\"2017-01-21\",\"2017-01-22\",\"2017-01-23\",\"2017-01-24\",\"2017-01-25\",\"2017-01-26\",\"2017-01-27\",\"2017-01-28\",\"2017-01-29\",\"2017-01-30\",\"2017-01-31\",\"2017-02-01\",\"2017-02-02\",\"2017-02-03\",\"2017-02-04\",\"2017-02-05\",\"2017-02-06\",\"2017-02-07\",\"2017-02-08\",\"2017-02-09\",\"2017-02-10\",\"2017-02-11\",\"2017-02-12\",\"2017-02-13\",\"2017-02-14\",\"2017-02-15\",\"2017-02-16\",\"2017-02-17\",\"2017-02-18\",\"2017-02-19\",\"2017-02-20\",\"2017-02-21\",\"2017-02-22\",\"2017-02-23\",\"2017-02-24\",\"2017-02-25\",\"2017-02-26\",\"2017-02-27\",\"2017-02-28\",\"2017-03-01\",\"2017-03-02\",\"2017-03-03\",\"2017-03-04\",\"2017-03-05\",\"2017-03-06\",\"2017-03-07\",\"2017-03-08\",\"2017-03-09\",\"2017-03-10\",\"2017-03-11\",\"2017-03-12\",\"2017-03-13\",\"2017-03-14\",\"2017-03-15\",\"2017-03-16\",\"2017-03-17\",\"2017-03-18\",\"2017-03-19\",\"2017-03-20\",\"2017-03-21\",\"2017-03-22\",\"2017-03-23\",\"2017-03-24\",\"2017-03-25\",\"2017-03-26\",\"2017-03-27\",\"2017-03-28\",\"2017-03-29\",\"2017-03-30\",\"2017-03-31\",\"2017-04-01\",\"2017-04-02\",\"2017-04-03\",\"2017-04-04\",\"2017-04-05\",\"2017-04-06\",\"2017-04-07\",\"2017-04-08\",\"2017-04-09\",\"2017-04-10\",\"2017-04-11\",\"2017-04-12\",\"2017-04-13\",\"2017-04-14\",\"2017-04-15\",\"2017-04-16\",\"2017-04-17\",\"2017-04-18\",\"2017-04-19\",\"2017-04-20\",\"2017-04-21\",\"2017-04-22\",\"2017-04-23\",\"2017-04-24\",\"2017-04-25\",\"2017-04-26\",\"2017-04-27\",\"2017-04-28\",\"2017-04-29\",\"2017-04-30\",\"2017-05-01\",\"2017-05-02\",\"2017-05-03\",\"2017-05-04\",\"2017-05-05\",\"2017-05-06\",\"2017-05-07\",\"2017-05-08\",\"2017-05-09\",\"2017-05-10\",\"2017-05-11\",\"2017-05-12\",\"2017-05-13\",\"2017-05-14\",\"2017-05-15\",\"2017-05-16\",\"2017-05-17\",\"2017-05-18\",\"2017-05-19\",\"2017-05-20\",\"2017-05-21\",\"2017-05-22\",\"2017-05-23\",\"2017-05-24\",\"2017-05-25\",\"2017-05-26\",\"2017-05-27\",\"2017-05-28\",\"2017-05-29\",\"2017-05-30\",\"2017-05-31\",\"2017-06-01\",\"2017-06-02\",\"2017-06-03\",\"2017-06-04\",\"2017-06-05\",\"2017-06-06\",\"2017-06-07\",\"2017-06-08\",\"2017-06-09\",\"2017-06-10\",\"2017-06-11\",\"2017-06-12\",\"2017-06-13\",\"2017-06-14\",\"2017-06-15\",\"2017-06-16\",\"2017-06-17\",\"2017-06-18\",\"2017-06-19\",\"2017-06-20\",\"2017-06-21\",\"2017-06-22\",\"2017-06-23\",\"2017-06-24\",\"2017-06-25\",\"2017-06-26\",\"2017-06-27\",\"2017-06-28\",\"2017-06-29\",\"2017-06-30\",\"2017-07-01\",\"2017-07-02\",\"2017-07-03\",\"2017-07-04\",\"2017-07-05\",\"2017-07-06\",\"2017-07-07\",\"2017-07-08\",\"2017-07-09\",\"2017-07-10\",\"2017-07-11\",\"2017-07-12\",\"2017-07-13\",\"2017-07-14\",\"2017-07-15\",\"2017-07-16\",\"2017-07-17\",\"2017-07-18\",\"2017-07-19\",\"2017-07-20\",\"2017-07-21\",\"2017-07-22\",\"2017-07-23\",\"2017-07-24\",\"2017-07-25\",\"2017-07-26\",\"2017-07-27\",\"2017-07-28\",\"2017-07-29\",\"2017-07-30\",\"2017-07-31\"],\"y\":[\"\",0.07696892928991872,-0.0383284903832849,-0.15834532374100718,-0.10069236686896321,-0.07090580743275343,0.15089514066496168,0.030311111111111178,-0.031144853765852853,-0.007123775601068583,0.01856502242152458,-0.00792462798274185,0.04020591106771998,-0.016723549488054656,-0.0020826102047899475,0.025913043478260844,-0.054924563485336475,0.024394618834080672,0.03974785501663458,0.035870663523071666,0.0039018045846204163,-0.012226720647773304,8.19739322894808e-05,0.00721311475409836,0.00821940104166674,0.022681410929050072,0.051302288871349466,-0.009159159159159103,0.011365358387634528,-0.027944261312556118,-0.005780346820809301,0.0255813953488373,-0.026455026455026398,0.0015527950310558758,0.0023255813953488857,-0.054215003866976086,-0.0005724098454493731,-0.006545573555882811,0.0018942513589195187,-0.030004110152075714,-0.05508474576271183,-0.028699551569506765,-0.07663896583564167,0.06349999999999989,0.023977433004231496,-0.00688705234159781,-0.038372630605640334,-0.03865384615384615,0.00010002000400066713,-0.004800480048004707,0.022007838408200087,0.05604719764011801,0.007914338919925434,0.01755196304849882,-0.005901044030866998,-0.010958904109589107,-0.006463527239150557,-0.045167286245353155,0.01177730192719495,0.0004810004810005264,-0.024615384615384595,-0.06693611987381698,0.003592181722134047,0.017054426781766496,-0.08860366421695476,0.02362294151050537,-0.13979806945523132,0.038694698826260865,-0.15025456351670174,0.02703492620195802,0.060899260102447395,0.026287553648068673,0.0022216414009410546,0.1313078628243578,0.025587828492392717,0.05180939536974605,0.04850945613847624,-0.03505553857128296,0.039180483683599165,-0.009654471544715437,0.010774756285274467,-0.08040609137055843,0.017553543828659812,-0.030161657806227593,0.015326099116232283,0.00936535918907011,0.0431175635847616,-0.010987861029719492,0.02528832927732516,-0.009081527347781337,-0.01978754426161211,0.059923501912452215,0.014434643143544479,0.06709486166007905,-0.017594221687193157,-0.01970025450089552,0.004807692307692291,-0.004784688995215336,0.010961538461538467,0.010272018261365812,0.004989644134814508,0.0,-0.03512880562060894,-0.001941747572815511,0.0019455252918287869,0.01941747572815533,0.015619047619047643,0.02213053263315823,0.03266055045871563,-0.022832267235252335,-0.009091735612328344,0.041379943114047135,0.0,0.048458149779735615,0.018487394957983128,0.017326732673267342,-0.017437145174371338,-0.021873710276516745,0.013080168776371304,0.01715951686797168,-0.0167881418393252,0.05363984674329503,-0.030671936758893237,-0.001875713586690586,0.09069368412452006,0.01393362798711495,0.02209087550794253,-0.017999132571924314,0.006772175193227925,-0.07333479564231937,-0.0024459523433800756,-0.057581270268132534,0.04196391103650865,-0.020056383407168865,0.0447969751767221,-0.009440641963653573,0.07417996981971253,-0.0156746765249538,0.013896191692330806,-0.042672988590902294,0.008899551153072283,0.010355143054383564,-0.00045551169146673676,-0.0014431110435971783,-0.013843462386856298,-0.02013112225221747,0.0030698992443325412,0.013262183159381546,-0.02455080545229249,0.0103215561730845,0.007622789783889861,0.0012478552487911188,0.042062626577348494,0.007474958887726091,0.018993916011277756,-0.031600407747196746,-0.006165413533834485,-0.1365562112271146,0.08323841233680884,0.04351694572514764,-0.003565615068599204,0.003500583430571691,-0.01596899224806203,-0.007405073262958806,0.03722222222222227,-0.0007651694850409063,0.002373841794930609,0.03277310924369736,0.021747170648716674,0.017302541084485812,0.03358952462282949,-0.01852106857614977,0.025955804980708486,0.0663931623931624,0.10553988202103093,0.012701542744461447,0.04352557127312284,0.06338839800230489,0.1024979355904212,-0.07204381612208599,-0.05821520456035911,-0.050190154802078335,0.1078276562147531,0.010741193239666158,0.029413246033744622,-0.02162532413523166,0.02015302295344301,0.010686274509803972,0.00019400523814128157,0.04281834933566109,0.06533364333875835,0.07044958533391532,0.07038003588321651,0.1291809523809524,0.14068351270200052,0.0029576173434679998,-0.03683170652590606,0.048435490784397794,0.05224272865319457,0.1305469985846308,0.03149470996882431,-0.005354593050928114,0.053283885632252836,0.11787288174094757,0.4296803560179634,-0.16906873614190676,0.010639571680265414,0.22273750486603583,0.06784048281494415,0.03419578969200465,-0.029543004687774266,0.03210849208911859,0.1614170764976035,0.07958194160112053,0.02993133458421493,0.0969233005475072,-0.0022438757210879734,-0.15368814357684857,0.09152063608306737,0.03349850957990275,0.0675983974477874,-0.09213235230244032,-0.20635148453272845,-0.15820121767436257,0.13983930796442423,0.12228127709299264,0.10671861530021598,-0.11130893971735234,-0.005942081777615904,0.022123995144630593,-0.022384548163750018,0.004033921613568525,-0.19420855590558372,-0.03378330523959949,-0.23371254324752233,0.32381863401568767,-0.0963061448638649,-0.031439902769782035,0.01902057259848755,0.09110794257753008,-0.011627388960662732,0.02498572673457744,0.11692880491344315,-0.03531588755610382,-0.009849402097759419,0.02365937100696569,0.014871485135225848,-0.0028037506777934817,0.02306335459741904,0.040173710137412444,0.02035169929834635,0.04982167285518857,0.08611883515025998,0.02116696838880383,-0.15870301796934827,0.05077306733167086,0.004912663755458402,0.025529603476371454,0.052355840088430305,-0.05550631872640732,-0.02550914019601025,-0.009427009034712386,0.03315852004752351,-0.029353002671622663,-0.025118772662542033,0.031130315231267858,0.03685714285714292,-0.0008726003490401313,-0.007228223396920308,-0.021205912652938363,-0.02785037666008361,-0.030375650819911337,0.07093479870023955,0.03710125232834671,-0.1286485631664558,0.05330636902215491,0.016602872580029793,-0.008438256658595655,0.013296216255814786,0.0032051282051281937,-0.008659828484950394,-0.0018658298702399767,0.005013170192879501,-0.019384994444176074,-0.037393307139953924,-0.08847802443861552,-0.05401459854014601,0.013325023741690423,-0.002738321862644666,-0.013009705886671719,-0.03042385110909429,-0.07131897133738418,0.09376445707487946,-0.0167223069834892,-0.052679284704725604,0.01563336198368548,0.0005269292797036584,-0.005697414618576535,-0.10736240630467231,0.03240191318732699,0.054444754075519075,0.0006606983581647352,-0.09821399095440886,-0.013929565090057161,0.08163947207217248,-0.006727419382519084,-0.050987438879002034,0.029767323307723137,-0.010289775640459076,0.1928758998910307,-0.001467593147238544,-0.001904676205045086,-0.0024793015882556,-0.05228512035670174,-0.018596519113089016,0.03159770021864117,-0.014396508414971199,0.010067060641297365,-0.003169797038368727,0.009555450087011419,-0.014636286708245905,0.011641221374045774,-0.007875872476891144,-0.01384861593066189,-0.0121149798351462,-0.00803474131060622,-0.03462919542868392,-0.029349321466786593,-0.011286286724177197,-0.006672094011043406,0.03944625581271044,0.0008741708232631318,-0.00529182079736934,-0.18867827075047783,0.05184194890077243,-0.009078620856618369,-0.06291100840849406,-0.007104525604536449,0.046783369803063524,-0.08620761737530835,0.017339982614265503,0.006318582478862966,0.0321319241168192,-0.0030525427031240504,-0.02406080347448425,0.008166080726269342,-0.022865214416561752,-0.17516319201319086,0.15271920696642738,0.000403848438056853,-0.016764817629179363,0.10802782205477479,0.12380391900433763,0.022886401986074167,-0.05959536585828329,-0.03290587950641177,0.045700942373446685,-0.006758912193954858,-0.004817632535078498,-0.015833955261512322,0.006927365141826458,0.01864441278241391,-0.0779482875754306,-0.006176183768555554,-0.04843000436109912,0.00893696005866329,0.015716913852233727,0.0009615169607120055,0.02260745241712092,-0.01830653617616218,-0.025857848591392618,-0.0031067251461988077,-0.006691109074243751,-0.010427240011073313,0.022985826184259706,0.003076432250125327,0.021105481972873985,0.011057713700885596,-0.03419668595823344,0.0058556813780217265,-0.0017895166039957333,0.0074885969092517435,0.007387886568912316,0.0018110676355505007,0.0018747489175556797,-0.005881042548451787,-0.0001792676914802449,0.08861894302747775,0.012455735814872693,0.06671818126359885,-0.00831141103358879,0.009457537195801669,0.08845260311535985,0.020696653195472203,-0.020876898289396872,0.010188362159512465,-0.015388347832114513,0.08298426554965,0.013569954333446876,0.010502180605438838,0.048220490931881965,0.010580969392389061,-0.03894489297643833,0.02750892286591533,-0.008433698389102906,0.0019427872112589561,0.0017863413591461264,-0.010637973603194517,0.006146404584385978,-0.030819872923524505,-0.0727781112761049,0.02250617599454796,-0.037989869368168394,0.026984896771511835,-0.0012648834620703209,0.03152704368530368,-0.004747405297449436,-0.01626751759984202,-0.006554416707074573,0.0014137843978794251,0.01223549975629834,-0.013764590632108442,-0.01956294824741578,-0.02750875746960635,0.026132711798566133,0.027738582785559407,-0.0011887620131936227,0.010342804458972621,0.06152110432705049,0.0015786183182244784,0.015714486353209267,-0.008788102261553576,-0.02242854485708956,0.0012208850623920409,0.0068887973901750055,-0.018433179723502224,0.001169703087695817,-0.000496142889152118,-0.01240972922771455,0.02470977365587923,0.0027056962025318043,-0.011377443941234966,-0.01146049481245004,0.003665310340373207,-0.007706044177030025,0.010197795071336113,0.009131907108122395,-0.0004294029708323821,-0.007334807719845404,-0.0027087674306779386,-0.0010607351215828897,-0.003443005389751397,-0.02854329119646104,-0.0010635999534674978,-0.00878404232311314,-0.0032896393145464,-0.013740843647385703,-0.0016390923526098389,-0.02982573153421242,0.03340443159583284,0.014806222707423489,-0.009396221340684296,-0.0045136001900464295,0.003596570474031502,-0.005672747036244319,-0.001349412407761763,0.007217993671427392,0.0063002020819535876,-0.00541699011103991,0.0028674686529683857,-0.024853652759449063,-0.01167652723077195,-0.040341268169370115,-0.07443383455895791,-0.01770855979603536,0.04567312528922973,-0.053703026687960675,-0.06169174461163085,0.05155376413990376,0.0550850077279752,0.010273838821828862,-0.00618668316448856,-0.03106762119679396,0.020519204127933843,-0.011391134981998507,0.018049751243781165,-0.0008210020134097329,-0.006534285434803833,0.0013981607294066833,-0.008396916542122157,-0.052533465542885516,-0.006028131279303461,0.005369777628032368,0.0003351276626939459,0.025272723465734392,-0.01290691500224661,0.0030827161004676196,-0.005259575521316728,-0.01592435929335645,0.0013906447534766109,0.008626856878340305,0.0008135847797061668,-0.004168837936425196,0.0026164311878598134,-0.0023173277661795444,-0.005273180020506807,-0.01958474451479897,-0.018731493799081678,-0.07191743380053783,-0.06983319197059656,0.03571428571428559,-0.02465150403521643,0.008349631412667424,0.08365037921173712,-0.02889006172697861,-0.02748109640831753,-0.01734820322180919,-0.012140543480948507,-0.05591710052062471,-0.004533644413807658,0.03054837936452981,-0.008580141624024429,-0.022287680517178443,-0.041485589356653474,-0.08522711468387523,-0.025420378873110994,0.02985866275623228,0.018510664081434758,0.049823016746482596,0.034255114183713964,-0.009506067994411338,0.00204668658037388,0.04485233232128061,0.03133007528728049,0.026792346507517717,-0.015216903235462875,-0.030929401930237854,0.0031367628607277265,0.02001250781738584,-0.004828326180257525,-0.01719933256321393,0.009481520177615277,-0.008590353963982555,-0.06456832654765632,-0.00019530160147307463,-0.030919492116645797,0.021395455985256495,-0.004820975472230038,0.01311651888155474,-0.0616017001286282,0.028963914300187854,-0.020242680489994558,-0.037154173563490156,0.00042977743668459745,0.005093743287612362,0.008975728896351676,0.027232291446034784,0.028866829656249093,-0.01966847032551744,0.00896559780386652,0.05143419491157486,0.010075428068050396,0.0020985500926631317,0.15194865239740007,-0.006657852488431426,-0.054475448020155026,-0.054522145694032464,0.031239199213038082,-0.0012117149633906754,-0.031516997496192745,0.014285714285714235,-0.059701492537313494,-0.01953386988598238,0.005899957246686682,0.04151082398277217,0.025382920260086372,-0.004112496683470246,-0.018595977088051163,0.003529060455520261,0.018340682230097105,-0.002550139460751666,0.006817758129377571,0.0031741833090861427,0.005431773236651338,-0.016521989981904572,-0.014426281965814192,0.019615800865800948,-0.005466365928088135,0.0008271298593878207,-0.0351639562783258,-0.026774612472714177,-0.016608937595820827,0.011952536305107175,0.005791560868448897,-0.014636636977364392,0.012234440670159552,-0.017859682052157044,-0.05296076444187059,-0.022258912737724068,-0.026205516292451048,0.020680796403339752,0.038132393657186014,-0.027639713904715757,0.034440842787682335,0.00807496459670376,-0.035986490121648784,-0.010913713453012064,0.027930158929187154,-0.03677726274701143,0.0043690242512506305,-0.014405497415206137,-0.006172642082707069,0.030411276308167645,-0.018551485055748107,0.002482100238663465,-0.1077675142049963,-0.06008965419097756,0.03891138953026241,0.0427004772834918,0.028477584821272606,-0.03733777264388105,0.024916181401094084,-0.05375159257601325,-0.033260553129548676,0.008055409169615224,-0.1566094100074682,-0.21145842557336414,0.1782144862436834,-0.008292032024399543,-0.04247957712638162,0.05560574124259765,0.021489017780736086,-0.016522386670390077,0.07377786190904367,0.028691053327456917,-0.0022706824900390332,0.06428203366540708,0.023683679644946665,0.07784171527668304,-0.0365305152301898,-0.11222863215424328,-0.0017100594245650358,-0.03031990064665313,-0.03961489201960866,0.04373218063092055,0.04961008062739558,-0.04600596062628548,-0.0018480221762662286,-0.042935860700903605,0.0237667541799087,0.024654699239663458,-0.019055982436882557,-0.01477104874446078,-0.001226659397573937,-0.0029566957787482417,0.011724987453807234,0.06164321789321803,0.09297880474026243,-0.0874397637183274,-0.004173409419981233,0.04178070475538842,-0.029883830713024917,0.016713916980493293,0.014566339270850603,0.003076544425301586,-0.034965034965035,0.012331553521484961,-0.0006279040562601201,-0.005319594537991135,-0.004379500568492789,0.07359472148204538,0.0016940471969426607,0.023361913002438506,0.059454265949269836,0.02187397975840666,-0.030564430244941487,0.011314951115017235,-0.0125280614092258,0.012980346142563715,-0.006913776876855016,0.055622380171314045,0.007423776803287208,0.01583493282149706,-0.006849315068493067,-0.030609818243587772,-0.012125884909231055,0.01599971619128704,0.014665316526415006,-0.017516087958979965,-0.10227670753064799,0.018064767850175523,0.0031426052964396156,-0.006609360076408888,0.03053611260672251,-0.004552918346021673,-0.07929069505885888,0.0024838144875605206,0.009463850528026008,-0.006035488673399536,0.02335748694490558,-0.03991297468354427,0.019859091096370074,-0.013372116511130017,0.012488739660961423,0.023173049702754023,0.00521739130434784,-0.0024378735451400235,0.02719747733543576,-0.01960859554873373,-0.009041449763200093,-0.032230033967927896,-0.0054689413109133556,-0.031229481286933702,0.002033295209048269,-0.001690974424011893,-0.04895193732796954,-0.024177389910503666,0.02130863296221941,0.021176785953625377,-0.02489390558690996,0.002153625269203152,-0.003402578796561695,0.009119496855345854,0.04736678092863822,-0.0046329748799252,0.0097361004355625,-0.021948743973610796,-0.021100877761923376,-0.030743407394319466,0.044934603290343045,-0.015002834837978152,-0.00017710870046483418,0.04579070900314419,-0.01723480838450131,0.012280248190279286,0.0231132677818926,-0.00557497087701786,-0.012132875909965701,-0.02685075385397262,0.03285751588475949,0.027514431382463345,-0.00832444845403102,-0.006326758466691507,0.007740324594257109,-0.004335976214073223,-0.01961760192443296,0.002326761993400428,0.00282783944624998,-0.006102693602693554,0.002752487825534722,-0.015498310810810878,-0.005061553639600258,0.008924337141625438,0.005640543543286913,0.021288348771989485,-0.006157686706885768,0.008707665257252861,-0.015936916372691345,4.217451815602402e-05,0.0006747638326585204,0.0005478759271746458,-0.0013057579714418344,-0.01585828764234498,-0.013499614296734408,-0.03153916329988271,0.012873996321715264,0.0003100088573959603,-0.006862354451675823,0.002808487874464971,0.002978439653256393,-0.012144313447389421,0.025170495333811882,0.00245087312355019,-0.001091464745688664,0.003977272727272663,0.001175395063340634,0.010522654143838572,0.004905335628227148,0.014044703262824365,0.05945443796976613,-0.006456755679553616,-0.0010831193838254372,-0.017669973093449975,0.002452884182985171,-0.005179234125851306,0.012503074526522884,-0.010891129195513938,-0.015513712648383193,0.00952143362022384,0.0032537067545304055,0.030378915390615324,-0.007888760508386827,0.0323280189550621,0.02337975569905848,-0.01691564982704219,-0.012412033098754938,0.003641204338122872,0.017749863462588777,0.042240024531411846,-0.010591739913942355,-0.0104821023677657,0.017204462642275153,-0.005760921747479553,0.058165880473944,0.02888834286917774,0.060555403930131035,-0.06053977546884548,-0.015716486902927707,-0.005670354136227629,-0.027079032991638385,0.004962422237405395,-0.016352381293162188,-0.004692615496544095,0.019626475640510233,-0.011291131980787239,0.005039335822789592,-0.004220474713224176,0.044303568194167475,0.0014569168863605153,0.013820574991340484,0.0031774232122723234,0.0027586676656903286,-0.016438542268111367,-0.006457405297144003,-0.010670095926595513,-0.010714913051115271,0.003586647727272796,-0.004883054385902863,0.014187675568040348,-0.01171025874763354,-0.01170710940825892,0.0035896331394931202,-0.06645682809929176,0.015632183908045993,-0.002301192092952875,0.022384391424357997,-0.014830430119457061,-0.008634281852991976,0.006058770069675923,-0.015545016561276714,-0.011623016631619243,-0.0020502108235657124,-0.18179703853011864,0.07390562819783963,0.03824775013234505,-0.011812194603781578,-0.009373521950380548,-0.009635834888667039,-0.07744225796555193,0.05277909738717357,0.019042461982762493,-0.004693796218394386,0.029496818970503158,-0.007000864304235077,-0.004439028636086695,0.005682811680363775,-0.008432582804485778,0.005085042959845687,-0.00915910676901599,0.0137336033101505,0.020495006513243652,0.020508892860181982,4.169446297530577e-05,0.015676464456952255,-0.022330774598743997,0.0013015913003318058,0.0068349547131836275,-0.02032401815834417,-0.020065467839986417,0.0005639668561017164,-0.001474158862296071,-0.0052540165002171735,0.003142869614561894,0.013750489534833044,-0.006352749281023251,-0.001209555488357994,-0.01781929847324948,0.01554449777621203,-0.0014742867054028386,0.01845579294771582,0.002600946573998897,-0.003402228459640999,-0.006742340189468399,0.027410207939508435,-0.010245044743664722,-0.002661709408931512,0.006311954587816748,-0.0010945064197012133,0.006068523747313481,-0.001968751309010197,0.008897842692856539,0.02362925368167068,-0.012557912704218466,-0.0027575420833847453,0.006727197688815467,0.0041405321198704215,0.008614354535804836,-0.007043108682452948,0.01712119359178188,0.009939481383511861,0.009246398666613587,0.0336190625983015,0.02955833682048148,-0.0332545078332841,0.006879682005809462,0.022851503188581868,-0.011838491798411677,0.029105794869868973,0.009050434274870511,0.01862567811934901,0.0072075270726079665,0.005710659898477077,0.029758149316508886,0.03686306545491669,0.03033287374433713,0.045083795322755194,-0.04219383555379397,0.03584046853614287,0.10988538241710955,0.11691907306403837,0.020177482524416313,-0.06125473806978321,-0.030749320564255167,0.032071995086388805,-0.03392154833367833,0.01845354474114136,-0.1142376268868669,-0.07642064010450689,0.087019416227337,-0.004140174478781566,-0.011403118040088978,-0.03826860112342678,0.03304494487303611,0.01312169312169309,-0.0014921364409561377,-0.025224902119011294,-0.012662885175532712,0.015247500155269877,-0.007310433426115592,-0.004591113576138617,-0.009286488159727546,0.02549601624746134,0.07455592456049498,0.015197913122377171,-0.00184336945592678,0.038922155688622784,0.016240674405451294,-0.03930350895791368,-0.009103699412397637,0.005178317881900929,0.005899459908599969,0.07095655047084093,-0.0004370741740583606,0.01738772570605507,0.05061435000252823,0.004812782750986511,-0.004981320049813109,0.08775392317319719,-0.03748285170597865,-0.002873563218390829,0.024046109510086566,0.047593318024224285,-0.02232872002063091,0.002527861429230782,0.016532187335555282,-0.002804020534058038,-0.042459768125973296,-0.009148614154374402,-0.004719131862119252,0.013354101289598352,0.02845840867992777,0.001450581331457812,-0.08423131789750904,0.013300740527715904,-0.0012771392081737387,0.025338637870607306,-0.014688900180146902,0.009258825184004449,0.008732610260816953,-0.0020491331476065744,-0.007913436692506437,0.007162624125020223,-0.002609157449952604,-0.0065978331326973505,0.06744191466057647,-0.01052286868245822,-0.012399885267965538,0.0008489533299076424,0.0009821647804637568,-0.028410231251254414,-0.007620096857857583,-0.004764437865716897,-0.15333131928144828,0.06370598084154477,-0.013521184909944806,0.012738686895108486,-0.018131570111320716,0.10543206628962265,-0.023725102919829655,-0.06768878272315115,0.013072237182671476,0.03994941804949814,-0.027892895252748406,0.0010721670538380579,0.007191125844702384,-0.0371673798009976,-0.002156249178258629,-0.0032150104092550924,-0.025062789160608112,0.011633267348211573,0.003725942207687627,-0.012017625851248548,0.05308825516961746,-0.007803075027593032,-0.02594748415470194,0.00026559014129401426,-0.00841697201423186,0.006908555362163504,0.014945616041273313,-0.005240403511070357,0.01214276307124984,0.01977827512621677,0.039223191956310854,-0.017287527932618008,0.018241335365701383,0.02166924341701626,0.01453209069946193,-0.0037407959845632277,0.03890301575607791,0.0037514868697958725,-0.0023928896991796123,-0.038857795545402585,0.010006179588344377,-0.0009648193905164026,0.017925283836623063,0.000856184195302534,0.002265791177286536,0.009688581314878819,-0.005894448252227513,-0.02557915057915061,-0.005518998089577676,-0.025400213447171804,-0.025234827468730292,0.017824599945078123,0.016212503985676197,-0.0008447576752268482,0.002149914244993667,0.005471725401340111,0.010931843789705908,-0.023880101496359885,0.00592779748311556,0.005747959232961453,0.0009365094611468727,0.0004318307223567519,0.00865686674180477,-0.026318292045076297,0.0021731168355512143,0.008064516129032251,-0.0010634441087613578,0.01156516900147575,-0.00011959147551954263,-0.003946990718591614,0.0018972597804942648,0.001821755597104291,0.021103507680528377,-0.005928390664542094,-0.01817410367017902,-0.004081436665706262,0.004604406730630117,0.0029515513641924507,0.006962388745334502,7.128091809827097e-05,0.0012829650748396038,0.0061455960516323405,-0.001462160696176995,-0.0015587728206702955,-0.005677114133648686,-0.002236231711668868,0.005126248778045239,0.0021823702438561465,0.006414504828630818,-0.0034337590253767925,0.0012979963656101212,0.012798152163665533,0.002001349747504211,-0.0073623336507421255,0.0027842770238653003,0.01614596700809634,0.013501412137493896,0.01821518385101606,-0.0082103998397971,0.01018530982186916,0.018388558230434393,0.006258722958827567,0.010099039941052768,-0.04591387929369861,0.00971463266545225,0.013563172312420768,-0.01489782465392231,0.007940756602426768,-0.015955563423917796,0.012661074504688896,-0.007950255385298699,0.002820558739254908,0.025938657975802526,-0.0023063533507398093,2.180834823573008e-05,0.0042089194199106394,-0.020826094510076554,0.004080817937856418,0.004505996951825519,0.001979022362952776,0.0,0.004169684201285939,-0.007452411652861812,-0.0008367095296812899,0.0018511172815021126,-0.034996260613259444,0.009049258052016285,0.0011520737327188613,-0.008732146483449554,0.010994263862332598,0.004120229652144536,0.008116955917305768,0.008407473309608449,0.044289558427808906,0.11950323152959075,-0.007188136744396556,0.014499363396233589,-0.004626681152362089,0.010406669301266547,0.0019555985994190728,0.05803297581649547,0.006219364359879798,0.003928552721177425,0.01836585620369391,-0.015267957782559627,0.008740894901144491,-0.012052128464342227,0.004942310704279418,0.05066929883803484,0.10886226163202739,0.04696929159606422,-0.02671853261023882,0.012996674251706697,0.10344579319481029,-0.022706215500254423,0.009774205178192386,0.0099837351070442,-0.03476131870433885,-0.09573674429960799,-0.10579764494112354,0.046735556599342365,0.06622007115612671,-0.0002705546370057599,-0.05374969930238149,0.04115226337448563,-0.012620751751186488,-0.010989180834621304,0.05227460969854203,0.004395996079246567,0.04051456454236302,-0.06400454739235484,0.03795584975556432,-0.01905918146447061,0.009990605848232414,-0.05428668448171514,0.04052703884101416,-0.023345135929904504,-0.002457908320019686,-0.0026179623013429243,0.02607849797733386,-0.015168158904521722,0.005515913640044667,0.007856187697544259,-0.003739163211458729,0.028285182438670065,-0.00934565684514177,-0.00037141031926435364,-0.01067086763962799,-0.001006489604614802,-0.021638772349288016,0.007592757677292283,0.008725364573799466,-0.010857730462134008,-0.003546858278550724,0.003943048267820437,0.001039199205318253,0.0029922293635407105,-0.002952860774136701,-0.04636287306312492,-0.029471089197669165,-0.09698649116730163,0.03450417374468007,0.021064340702026785,-0.005620017638209185,0.02215498052309406,0.008353465582360942,-0.00276704516695081,-0.005498688774215332,0.007315413405920568,-0.005032933626076708,-0.0026480173818578256,-0.003352849070733077,-0.025820113048378612,-0.005661998001647794,0.01798180664269111,-0.007308118592407875,0.0019189839852065127,0.0022809583507450437,0.01054496812188388,-0.0006704486848893021,0.009358173779910883,-0.00569237324243721,-0.005536415214000501,-0.004171119307801008,0.003271254500138543,-0.016734236177003203,0.006947977892797441,0.0003484866965204336,0.005904791764644424,-0.003515151515151471,-0.005508540844874732,0.0056613664162152855,0.03938909545817859,0.017418632252887756,-0.0033517900859306726,0.006346955933991705,0.006716466810824828,0.019168809190614366,-0.0055243326095287815,0.0010435731946183413,-0.026928196821221717,0.0025052742616034074,0.00164408786005521,0.0023636005515066394,-0.005780441475076947,-0.00029646710038699897,-0.0016310526055653973,0.006419353774052006,-0.0010494039713381254,-0.0015101029167967628,-0.01834590915815948,-0.0014234279494265145,0.010967633741405525,-0.0003483511379470672,-0.0029869073892768716,0.012000066574571644,-0.0030754555621340662,-0.0023755712093965764,0.00158748532402897,0.006686588849081243,0.006953783579886519,-0.005032737222710915,0.0020298253368036256,-0.0031529250322642755,0.0037856440511305767,0.0008326394671107629,0.0066881994062184535,0.003224656468758136,-0.0038119235677019914,0.0036319416295096385,0.035671012455774864,-0.007612273230692468,0.0009431144783789147,0.005637651345027361,-0.0027015209719229993,0.004666092538949451,-0.0038028147062948436,-0.0019243104554201862,-0.0116621731770018,0.000539237454799224,0.003122721364486658,0.03865177061770142,-0.00033470766328391743,-0.0050375150288402,0.0058584189916790486,0.03149378792256563,0.014757481940144368,0.00194679722799318,0.03600377002827537,-0.01766319561079388,-0.0012680591570968236,0.041114455682839335,0.015127639457926279,-0.0703670207739967,0.021112240453027287,0.0002559581366246011,0.011515168746978999,-0.011791657297054225,0.009557265370557344,0.018905402549834305,-0.010701397818242198,0.0012298575880815843,-0.015856841752627693,-0.004283384157151904,0.004259077247411147,0.009361436554991442,0.04578286163963918,-0.00432679387261492,0.014318875003374032,3.9915379395738526e-05,-0.02739416194353539,0.011244408574203613,0.016367940480216392,-0.008997138484062028,-0.005774990263097912,0.0018371178862337523,-0.008454122564552025,-0.004555467921346867,0.005163722798245951,-0.00028539976352581764,0.013716693855356121,0.014858721452614354,0.02797415330945996,-0.008728179551122262,0.0035271996369059533,-0.019602775659994465,0.0072756030051404075,0.0051163277590222656,0.003488992748623243,0.0025687264046911906,0.0024068634428500157,-0.006351255405667056,0.01345926493705596,0.0006024945839582241,0.0011786409757097438,-0.004337922915493619,0.008765052885912894,0.007542265992279473,-0.00037934827965568907,0.0027576436061882426,0.01030641722698089,0.04170412546199187,0.036270796375317715,0.06643995650866352,-0.025119850755981665,-0.002937184308315466,0.01275413421410887,0.02819492954022107,0.04577796828118297,-0.002479711451758293,-0.01259373394966612,0.002600807290582985,0.03589142299790393,0.0234591768252983,0.021619770002446748,0.1062327559779277,-0.12240956760454824,-0.10971205273441353,0.00708268676568391,0.002872582793119083,-0.00918568920105356,0.005371996942945989,-0.1431341441917856,0.03480508125900017,0.023793844662848063,-0.006759872812446943,0.004142178125878138,0.011839863713799081,0.09189085180330236,-0.023481727867480262,0.014042092440955667,-0.004493532205501305,0.02989843915846402,0.0031243558728126786,-0.003958168860242028,-0.030748851803997668,0.009913855873819433,0.01780287064356556,0.0023539925238940107,0.0020005436259853404,-0.002267819746308075,0.0009570418705817652,0.054347117494947694,0.019187963726298385,0.023032901255788607,0.01789879422810836,0.012612752570613006,-0.01491993479720033,0.010522319777289013,0.02234744497423291,0.0016205775663071798,-0.06461474785291654,-0.005742271566202106,0.015960836274995893,-0.005246652396834195,-0.008547008547008517,0.014041427763869851,0.0029167288835798555,0.019811807678564275,0.01826870668846836,0.007847372898366567,-0.006211945903909388,0.03064311412675247,0.032704309339061766,0.001918766251232995,0.04410080183276066,0.005965441579813602,-0.025424306454911116,0.01867394041124637,0.012675935461723187,0.0,0.036043289236167064,0.023321063394682984,0.0191685118424314,-0.015560906360049809,0.009536708759908974,0.004506281962245229,-0.03872473150381428,-0.06010428755904995,0.033469565217391306,-0.06038755058940337,0.05293180027222566,0.038738593163977875,0.008629582930783197,0.0065588674589258655,0.007749999999999924,-0.0494554300941894,-0.07373233092834708,-0.11489415849413298,0.06461152985151264,0.01687018924706285,0.06289898788689374,-0.063719278205151,-0.010055855271937197,-0.09731462848669825,0.03760986432289437,-0.006219289047883381,0.08176016054120594,0.0013196018244929775,-0.006856706298047133,-0.01301960633479804,0.044192005299922954,0.008126591962977825,0.020055529847293085,0.03778001578703827,-0.009232302567734108,-0.007474078976395293,0.051476733227831195,-0.004887205330266875,-0.0008072053700399762,0.010136485394786954,-0.0006229637923339526,0.015061534962472312,-0.003850590451531577,-0.025900347392887157,-0.0014880952380952328,0.004265378488103266,0.008886842015488172,0.00927350499602686,0.014875493127622708,-0.001138923964445815,0.015525204703005002,-0.005719725323005798,0.00790475021480308,-0.0198910457818805,0.035569619204612435,0.012270527536695441,0.012319338754158471,0.028608673931370454,-0.0009486010032404568,0.0040334832280020105,0.0197459505670341,0.054685471366357596,0.021961170512099004,0.025653556531435306,0.031930957190505316,0.011562949137331247,0.015011732939020694,0.011344058778819388,0.07931308753624622,0.018574288449821674,0.01809885151763746,0.03437914421446675,-0.06725739355285432,0.04678583027884753,0.0022161769838939804,-0.03896269023887311,-0.0022894220647365904,0.060330364092363586,0.02694811020667842,0.052450162814708934,0.04880993706325376,-0.020880401778647584,0.06476582402508324,0.06764516425876499,0.053102455589936204,-0.05674321913211433,-0.04449496307993994,-0.07425922394457019,0.05735039507178019,0.04629835791817416,-0.03552919165990587,0.05099587675306938,0.05312695448322935,0.033502500124590995,0.010769323501637285,-0.0014073588168644902,0.06967087478750389,0.06565034371615397,-0.045766974015088,0.026887151557741795,0.006483415430457384,0.04387688973408266,0.003528162539734314,-0.10090226529777457,0.021578189447404306,-0.07752979367100721,-0.016673515881533874,0.021902311955789733,0.05452321961755935,-0.040510113408738446,0.016210870819255208,0.05104649366697567,-0.012010478398406965,0.006065226283886727,0.014600374804558225,-0.049615470088272495,-0.00740209758042254,-0.04285146037128151,0.029857370534003058,0.008752375168955329,-0.013775880751439873,-0.023029787502165888,-0.018659002595894925,0.029541393686718154,0.022976536722961072,0.014656443296958699,0.00013453052689849088,0.00252499048804955,-0.03446345876652257,0.02091588384299592,-0.020572930845395798,-0.05792474706564388,-0.01465505614188889,0.026114407196540457,-0.01706658218138768,-0.05282666779761647,-0.10499073137095127,-0.03453968762194448,0.15472427480283124,0.040598453605934504,-0.019599979300352066,0.2393607896438421,-0.05318001135718331,0.05336312112034047,-0.0283688952784934,0.008958394374450673,-0.06475102183051051,-0.01825358628826934,0.05626914941983441,0.05136276190404909,-0.0293911378029984,0.011271066771809446,0.042855381222843825],\"type\":\"scatter\"}],                        {\"legend\":{\"bgcolor\":\"#F5F6F9\",\"font\":{\"color\":\"#4D5663\"}},\"paper_bgcolor\":\"#F5F6F9\",\"plot_bgcolor\":\"#F5F6F9\",\"template\":{\"data\":{\"barpolar\":[{\"marker\":{\"line\":{\"color\":\"#E5ECF6\",\"width\":0.5},\"pattern\":{\"fillmode\":\"overlay\",\"size\":10,\"solidity\":0.2}},\"type\":\"barpolar\"}],\"bar\":[{\"error_x\":{\"color\":\"#2a3f5f\"},\"error_y\":{\"color\":\"#2a3f5f\"},\"marker\":{\"line\":{\"color\":\"#E5ECF6\",\"width\":0.5},\"pattern\":{\"fillmode\":\"overlay\",\"size\":10,\"solidity\":0.2}},\"type\":\"bar\"}],\"carpet\":[{\"aaxis\":{\"endlinecolor\":\"#2a3f5f\",\"gridcolor\":\"white\",\"linecolor\":\"white\",\"minorgridcolor\":\"white\",\"startlinecolor\":\"#2a3f5f\"},\"baxis\":{\"endlinecolor\":\"#2a3f5f\",\"gridcolor\":\"white\",\"linecolor\":\"white\",\"minorgridcolor\":\"white\",\"startlinecolor\":\"#2a3f5f\"},\"type\":\"carpet\"}],\"choropleth\":[{\"colorbar\":{\"outlinewidth\":0,\"ticks\":\"\"},\"type\":\"choropleth\"}],\"contourcarpet\":[{\"colorbar\":{\"outlinewidth\":0,\"ticks\":\"\"},\"type\":\"contourcarpet\"}],\"contour\":[{\"colorbar\":{\"outlinewidth\":0,\"ticks\":\"\"},\"colorscale\":[[0.0,\"#0d0887\"],[0.1111111111111111,\"#46039f\"],[0.2222222222222222,\"#7201a8\"],[0.3333333333333333,\"#9c179e\"],[0.4444444444444444,\"#bd3786\"],[0.5555555555555556,\"#d8576b\"],[0.6666666666666666,\"#ed7953\"],[0.7777777777777778,\"#fb9f3a\"],[0.8888888888888888,\"#fdca26\"],[1.0,\"#f0f921\"]],\"type\":\"contour\"}],\"heatmapgl\":[{\"colorbar\":{\"outlinewidth\":0,\"ticks\":\"\"},\"colorscale\":[[0.0,\"#0d0887\"],[0.1111111111111111,\"#46039f\"],[0.2222222222222222,\"#7201a8\"],[0.3333333333333333,\"#9c179e\"],[0.4444444444444444,\"#bd3786\"],[0.5555555555555556,\"#d8576b\"],[0.6666666666666666,\"#ed7953\"],[0.7777777777777778,\"#fb9f3a\"],[0.8888888888888888,\"#fdca26\"],[1.0,\"#f0f921\"]],\"type\":\"heatmapgl\"}],\"heatmap\":[{\"colorbar\":{\"outlinewidth\":0,\"ticks\":\"\"},\"colorscale\":[[0.0,\"#0d0887\"],[0.1111111111111111,\"#46039f\"],[0.2222222222222222,\"#7201a8\"],[0.3333333333333333,\"#9c179e\"],[0.4444444444444444,\"#bd3786\"],[0.5555555555555556,\"#d8576b\"],[0.6666666666666666,\"#ed7953\"],[0.7777777777777778,\"#fb9f3a\"],[0.8888888888888888,\"#fdca26\"],[1.0,\"#f0f921\"]],\"type\":\"heatmap\"}],\"histogram2dcontour\":[{\"colorbar\":{\"outlinewidth\":0,\"ticks\":\"\"},\"colorscale\":[[0.0,\"#0d0887\"],[0.1111111111111111,\"#46039f\"],[0.2222222222222222,\"#7201a8\"],[0.3333333333333333,\"#9c179e\"],[0.4444444444444444,\"#bd3786\"],[0.5555555555555556,\"#d8576b\"],[0.6666666666666666,\"#ed7953\"],[0.7777777777777778,\"#fb9f3a\"],[0.8888888888888888,\"#fdca26\"],[1.0,\"#f0f921\"]],\"type\":\"histogram2dcontour\"}],\"histogram2d\":[{\"colorbar\":{\"outlinewidth\":0,\"ticks\":\"\"},\"colorscale\":[[0.0,\"#0d0887\"],[0.1111111111111111,\"#46039f\"],[0.2222222222222222,\"#7201a8\"],[0.3333333333333333,\"#9c179e\"],[0.4444444444444444,\"#bd3786\"],[0.5555555555555556,\"#d8576b\"],[0.6666666666666666,\"#ed7953\"],[0.7777777777777778,\"#fb9f3a\"],[0.8888888888888888,\"#fdca26\"],[1.0,\"#f0f921\"]],\"type\":\"histogram2d\"}],\"histogram\":[{\"marker\":{\"pattern\":{\"fillmode\":\"overlay\",\"size\":10,\"solidity\":0.2}},\"type\":\"histogram\"}],\"mesh3d\":[{\"colorbar\":{\"outlinewidth\":0,\"ticks\":\"\"},\"type\":\"mesh3d\"}],\"parcoords\":[{\"line\":{\"colorbar\":{\"outlinewidth\":0,\"ticks\":\"\"}},\"type\":\"parcoords\"}],\"pie\":[{\"automargin\":true,\"type\":\"pie\"}],\"scatter3d\":[{\"line\":{\"colorbar\":{\"outlinewidth\":0,\"ticks\":\"\"}},\"marker\":{\"colorbar\":{\"outlinewidth\":0,\"ticks\":\"\"}},\"type\":\"scatter3d\"}],\"scattercarpet\":[{\"marker\":{\"colorbar\":{\"outlinewidth\":0,\"ticks\":\"\"}},\"type\":\"scattercarpet\"}],\"scattergeo\":[{\"marker\":{\"colorbar\":{\"outlinewidth\":0,\"ticks\":\"\"}},\"type\":\"scattergeo\"}],\"scattergl\":[{\"marker\":{\"colorbar\":{\"outlinewidth\":0,\"ticks\":\"\"}},\"type\":\"scattergl\"}],\"scattermapbox\":[{\"marker\":{\"colorbar\":{\"outlinewidth\":0,\"ticks\":\"\"}},\"type\":\"scattermapbox\"}],\"scatterpolargl\":[{\"marker\":{\"colorbar\":{\"outlinewidth\":0,\"ticks\":\"\"}},\"type\":\"scatterpolargl\"}],\"scatterpolar\":[{\"marker\":{\"colorbar\":{\"outlinewidth\":0,\"ticks\":\"\"}},\"type\":\"scatterpolar\"}],\"scatter\":[{\"marker\":{\"colorbar\":{\"outlinewidth\":0,\"ticks\":\"\"}},\"type\":\"scatter\"}],\"scatterternary\":[{\"marker\":{\"colorbar\":{\"outlinewidth\":0,\"ticks\":\"\"}},\"type\":\"scatterternary\"}],\"surface\":[{\"colorbar\":{\"outlinewidth\":0,\"ticks\":\"\"},\"colorscale\":[[0.0,\"#0d0887\"],[0.1111111111111111,\"#46039f\"],[0.2222222222222222,\"#7201a8\"],[0.3333333333333333,\"#9c179e\"],[0.4444444444444444,\"#bd3786\"],[0.5555555555555556,\"#d8576b\"],[0.6666666666666666,\"#ed7953\"],[0.7777777777777778,\"#fb9f3a\"],[0.8888888888888888,\"#fdca26\"],[1.0,\"#f0f921\"]],\"type\":\"surface\"}],\"table\":[{\"cells\":{\"fill\":{\"color\":\"#EBF0F8\"},\"line\":{\"color\":\"white\"}},\"header\":{\"fill\":{\"color\":\"#C8D4E3\"},\"line\":{\"color\":\"white\"}},\"type\":\"table\"}]},\"layout\":{\"annotationdefaults\":{\"arrowcolor\":\"#2a3f5f\",\"arrowhead\":0,\"arrowwidth\":1},\"autotypenumbers\":\"strict\",\"coloraxis\":{\"colorbar\":{\"outlinewidth\":0,\"ticks\":\"\"}},\"colorscale\":{\"diverging\":[[0,\"#8e0152\"],[0.1,\"#c51b7d\"],[0.2,\"#de77ae\"],[0.3,\"#f1b6da\"],[0.4,\"#fde0ef\"],[0.5,\"#f7f7f7\"],[0.6,\"#e6f5d0\"],[0.7,\"#b8e186\"],[0.8,\"#7fbc41\"],[0.9,\"#4d9221\"],[1,\"#276419\"]],\"sequential\":[[0.0,\"#0d0887\"],[0.1111111111111111,\"#46039f\"],[0.2222222222222222,\"#7201a8\"],[0.3333333333333333,\"#9c179e\"],[0.4444444444444444,\"#bd3786\"],[0.5555555555555556,\"#d8576b\"],[0.6666666666666666,\"#ed7953\"],[0.7777777777777778,\"#fb9f3a\"],[0.8888888888888888,\"#fdca26\"],[1.0,\"#f0f921\"]],\"sequentialminus\":[[0.0,\"#0d0887\"],[0.1111111111111111,\"#46039f\"],[0.2222222222222222,\"#7201a8\"],[0.3333333333333333,\"#9c179e\"],[0.4444444444444444,\"#bd3786\"],[0.5555555555555556,\"#d8576b\"],[0.6666666666666666,\"#ed7953\"],[0.7777777777777778,\"#fb9f3a\"],[0.8888888888888888,\"#fdca26\"],[1.0,\"#f0f921\"]]},\"colorway\":[\"#636efa\",\"#EF553B\",\"#00cc96\",\"#ab63fa\",\"#FFA15A\",\"#19d3f3\",\"#FF6692\",\"#B6E880\",\"#FF97FF\",\"#FECB52\"],\"font\":{\"color\":\"#2a3f5f\"},\"geo\":{\"bgcolor\":\"white\",\"lakecolor\":\"white\",\"landcolor\":\"#E5ECF6\",\"showlakes\":true,\"showland\":true,\"subunitcolor\":\"white\"},\"hoverlabel\":{\"align\":\"left\"},\"hovermode\":\"closest\",\"mapbox\":{\"style\":\"light\"},\"paper_bgcolor\":\"white\",\"plot_bgcolor\":\"#E5ECF6\",\"polar\":{\"angularaxis\":{\"gridcolor\":\"white\",\"linecolor\":\"white\",\"ticks\":\"\"},\"bgcolor\":\"#E5ECF6\",\"radialaxis\":{\"gridcolor\":\"white\",\"linecolor\":\"white\",\"ticks\":\"\"}},\"scene\":{\"xaxis\":{\"backgroundcolor\":\"#E5ECF6\",\"gridcolor\":\"white\",\"gridwidth\":2,\"linecolor\":\"white\",\"showbackground\":true,\"ticks\":\"\",\"zerolinecolor\":\"white\"},\"yaxis\":{\"backgroundcolor\":\"#E5ECF6\",\"gridcolor\":\"white\",\"gridwidth\":2,\"linecolor\":\"white\",\"showbackground\":true,\"ticks\":\"\",\"zerolinecolor\":\"white\"},\"zaxis\":{\"backgroundcolor\":\"#E5ECF6\",\"gridcolor\":\"white\",\"gridwidth\":2,\"linecolor\":\"white\",\"showbackground\":true,\"ticks\":\"\",\"zerolinecolor\":\"white\"}},\"shapedefaults\":{\"line\":{\"color\":\"#2a3f5f\"}},\"ternary\":{\"aaxis\":{\"gridcolor\":\"white\",\"linecolor\":\"white\",\"ticks\":\"\"},\"baxis\":{\"gridcolor\":\"white\",\"linecolor\":\"white\",\"ticks\":\"\"},\"bgcolor\":\"#E5ECF6\",\"caxis\":{\"gridcolor\":\"white\",\"linecolor\":\"white\",\"ticks\":\"\"}},\"title\":{\"x\":0.05},\"xaxis\":{\"automargin\":true,\"gridcolor\":\"white\",\"linecolor\":\"white\",\"ticks\":\"\",\"title\":{\"standoff\":15},\"zerolinecolor\":\"white\",\"zerolinewidth\":2},\"yaxis\":{\"automargin\":true,\"gridcolor\":\"white\",\"linecolor\":\"white\",\"ticks\":\"\",\"title\":{\"standoff\":15},\"zerolinecolor\":\"white\",\"zerolinewidth\":2}}},\"title\":{\"font\":{\"color\":\"#4D5663\"}},\"xaxis\":{\"gridcolor\":\"#E1E5ED\",\"showgrid\":true,\"tickfont\":{\"color\":\"#4D5663\"},\"title\":{\"font\":{\"color\":\"#4D5663\"},\"text\":\"\"},\"zerolinecolor\":\"#E1E5ED\"},\"yaxis\":{\"gridcolor\":\"#E1E5ED\",\"showgrid\":true,\"tickfont\":{\"color\":\"#4D5663\"},\"title\":{\"font\":{\"color\":\"#4D5663\"},\"text\":\"\"},\"zerolinecolor\":\"#E1E5ED\"}},                        {\"showLink\": true, \"linkText\": \"Export to plot.ly\", \"plotlyServerURL\": \"https://plot.ly\", \"responsive\": true}                    ).then(function(){\n",
       "                            \n",
       "var gd = document.getElementById('7a7aa309-ea50-45a4-8b86-31eafc227663');\n",
       "var x = new MutationObserver(function (mutations, observer) {{\n",
       "        var display = window.getComputedStyle(gd).display;\n",
       "        if (!display || display === 'none') {{\n",
       "            console.log([gd, 'removed!']);\n",
       "            Plotly.purge(gd);\n",
       "            observer.disconnect();\n",
       "        }}\n",
       "}});\n",
       "\n",
       "// Listen for the removal of the full notebook cells\n",
       "var notebookContainer = gd.closest('#notebook-container');\n",
       "if (notebookContainer) {{\n",
       "    x.observe(notebookContainer, {childList: true});\n",
       "}}\n",
       "\n",
       "// Listen for the clearing of the current output cell\n",
       "var outputEl = gd.closest('.output');\n",
       "if (outputEl) {{\n",
       "    x.observe(outputEl, {childList: true});\n",
       "}}\n",
       "\n",
       "                        })                };                });            </script>        </div>"
      ]
     },
     "metadata": {},
     "output_type": "display_data"
    }
   ],
   "source": [
    "data_date['Close_pct_change'].iplot()"
   ]
  },
  {
   "cell_type": "code",
   "execution_count": null,
   "id": "bf5fd8ef",
   "metadata": {},
   "outputs": [],
   "source": []
  }
 ],
 "metadata": {
  "kernelspec": {
   "display_name": "Python 3 (ipykernel)",
   "language": "python",
   "name": "python3"
  },
  "language_info": {
   "codemirror_mode": {
    "name": "ipython",
    "version": 3
   },
   "file_extension": ".py",
   "mimetype": "text/x-python",
   "name": "python",
   "nbconvert_exporter": "python",
   "pygments_lexer": "ipython3",
   "version": "3.9.12"
  }
 },
 "nbformat": 4,
 "nbformat_minor": 5
}
